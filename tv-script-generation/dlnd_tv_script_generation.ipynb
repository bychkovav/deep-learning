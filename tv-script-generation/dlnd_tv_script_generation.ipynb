{
 "cells": [
  {
   "cell_type": "markdown",
   "metadata": {},
   "source": [
    "# TV Script Generation\n",
    "In this project, you'll generate your own [Simpsons](https://en.wikipedia.org/wiki/The_Simpsons) TV scripts using RNNs.  You'll be using part of the [Simpsons dataset](https://www.kaggle.com/wcukierski/the-simpsons-by-the-data) of scripts from 27 seasons.  The Neural Network you'll build will generate a new TV script for a scene at [Moe's Tavern](https://simpsonswiki.com/wiki/Moe's_Tavern).\n",
    "## Get the Data\n",
    "The data is already provided for you.  You'll be using a subset of the original dataset.  It consists of only the scenes in Moe's Tavern.  This doesn't include other versions of the tavern, like \"Moe's Cavern\", \"Flaming Moe's\", \"Uncle Moe's Family Feed-Bag\", etc.."
   ]
  },
  {
   "cell_type": "code",
   "execution_count": 2,
   "metadata": {},
   "outputs": [
    {
     "name": "stdout",
     "output_type": "stream",
     "text": [
      "44\n",
      "['bleach==2.0.0', 'certifi==2017.7.27.1', 'colorama==0.3.9', 'decorator==4.1.2', 'entrypoints==0.2.3', 'html5lib==0.999999999', 'ipykernel==4.6.1', 'ipython-genutils==0.2.0', 'ipython==6.1.0', 'ipywidgets==7.0.0', 'jedi==0.10.2', 'jinja2==2.9.6', 'jsonschema==2.6.0', 'jupyter-client==5.1.0', 'jupyter-console==5.2.0', 'jupyter-core==4.3.0', 'markupsafe==1.0', 'mistune==0.7.4', 'nbconvert==5.3.1', 'nbformat==4.4.0', 'notebook==5.0.0', 'numpy==1.13.3', 'pandocfilters==1.4.2', 'pickleshare==0.7.4', 'pip==9.0.1', 'prompt-toolkit==1.0.15', 'protobuf==3.4.0', 'pygments==2.2.0', 'python-dateutil==2.6.1', 'pyzmq==16.0.2', 'qtconsole==4.3.1', 'setuptools==36.6.0', 'simplegeneric==0.8.1', 'six==1.11.0', 'tensorflow==1.0.0', 'testpath==0.3.1', 'tornado==4.5.2', 'traitlets==4.3.2', 'wcwidth==0.1.7', 'webencodings==0.5.1', 'wheel==0.30.0', 'widgetsnbextension==3.0.2', 'win-unicode-console==0.5', 'wincertstore==0.2']\n"
     ]
    }
   ],
   "source": [
    "\"\"\"\n",
    "DON'T MODIFY ANYTHING IN THIS CELL\n",
    "\"\"\"\n",
    "import helper\n",
    "\n",
    "import pip\n",
    "installed_packages = pip.get_installed_distributions()\n",
    "installed_packages_list = sorted([\"%s==%s\" % (i.key, i.version)\n",
    "     for i in installed_packages])\n",
    "print(len(installed_packages_list))\n",
    "print(installed_packages_list)\n",
    "\n",
    "data_dir = './data/simpsons/moes_tavern_lines.txt'\n",
    "text = helper.load_data(data_dir)\n",
    "# Ignore notice, since we don't use it for analysing the data\n",
    "text = text[81:]\n"
   ]
  },
  {
   "cell_type": "markdown",
   "metadata": {},
   "source": [
    "## Explore the Data\n",
    "Play around with `view_sentence_range` to view different parts of the data."
   ]
  },
  {
   "cell_type": "code",
   "execution_count": 3,
   "metadata": {},
   "outputs": [
    {
     "name": "stdout",
     "output_type": "stream",
     "text": [
      "Dataset Stats\n",
      "Roughly the number of unique words: 11492\n",
      "Number of scenes: 262\n",
      "Average number of sentences in each scene: 15.251908396946565\n",
      "Number of lines: 4258\n",
      "Average number of words in each line: 11.50164396430249\n",
      "\n",
      "The sentences 0 to 10:\n",
      "\n",
      "Moe_Szyslak: (INTO PHONE) Moe's Tavern. Where the elite meet to drink.\n",
      "Bart_Simpson: Eh, yeah, hello, is Mike there? Last name, Rotch.\n",
      "Moe_Szyslak: (INTO PHONE) Hold on, I'll check. (TO BARFLIES) Mike Rotch. Mike Rotch. Hey, has anybody seen Mike Rotch, lately?\n",
      "Moe_Szyslak: (INTO PHONE) Listen you little puke. One of these days I'm gonna catch you, and I'm gonna carve my name on your back with an ice pick.\n",
      "Moe_Szyslak: What's the matter Homer? You're not your normal effervescent self.\n",
      "Homer_Simpson: I got my problems, Moe. Give me another one.\n",
      "Moe_Szyslak: Homer, hey, you should not drink to forget your problems.\n",
      "Barney_Gumble: Yeah, you should only drink to enhance your social skills.\n",
      "\n"
     ]
    }
   ],
   "source": [
    "view_sentence_range = (0, 10)\n",
    "\n",
    "\"\"\"\n",
    "DON'T MODIFY ANYTHING IN THIS CELL\n",
    "\"\"\"\n",
    "import numpy as np\n",
    "\n",
    "print('Dataset Stats')\n",
    "print('Roughly the number of unique words: {}'.format(len({word: None for word in text.split()})))\n",
    "scenes = text.split('\\n\\n')\n",
    "print('Number of scenes: {}'.format(len(scenes)))\n",
    "sentence_count_scene = [scene.count('\\n') for scene in scenes]\n",
    "print('Average number of sentences in each scene: {}'.format(np.average(sentence_count_scene)))\n",
    "\n",
    "sentences = [sentence for scene in scenes for sentence in scene.split('\\n')]\n",
    "print('Number of lines: {}'.format(len(sentences)))\n",
    "word_count_sentence = [len(sentence.split()) for sentence in sentences]\n",
    "print('Average number of words in each line: {}'.format(np.average(word_count_sentence)))\n",
    "\n",
    "print()\n",
    "print('The sentences {} to {}:'.format(*view_sentence_range))\n",
    "print('\\n'.join(text.split('\\n')[view_sentence_range[0]:view_sentence_range[1]]))"
   ]
  },
  {
   "cell_type": "markdown",
   "metadata": {},
   "source": [
    "## Implement Preprocessing Functions\n",
    "The first thing to do to any dataset is preprocessing.  Implement the following preprocessing functions below:\n",
    "- Lookup Table\n",
    "- Tokenize Punctuation\n",
    "\n",
    "### Lookup Table\n",
    "To create a word embedding, you first need to transform the words to ids.  In this function, create two dictionaries:\n",
    "- Dictionary to go from the words to an id, we'll call `vocab_to_int`\n",
    "- Dictionary to go from the id to word, we'll call `int_to_vocab`\n",
    "\n",
    "Return these dictionaries in the following tuple `(vocab_to_int, int_to_vocab)`"
   ]
  },
  {
   "cell_type": "code",
   "execution_count": 4,
   "metadata": {},
   "outputs": [
    {
     "name": "stdout",
     "output_type": "stream",
     "text": [
      "Tests Passed\n"
     ]
    }
   ],
   "source": [
    "import numpy as np\n",
    "from string import punctuation\n",
    "import problem_unittests as tests\n",
    "\n",
    "def create_lookup_tables(text):\n",
    "    \"\"\"\n",
    "    Create lookup tables for vocabulary\n",
    "    :param text: The text of tv scripts split into words\n",
    "    :return: A tuple of dicts (vocab_to_int, int_to_vocab)\n",
    "    \"\"\"\n",
    "    vocab_to_int = {}\n",
    "    int_to_vocab = {}\n",
    "    \n",
    "    for index, w in enumerate(set(text)):\n",
    "        vocab_to_int[w] = index\n",
    "        int_to_vocab[index] = w\n",
    "     \n",
    "    # TODO: Implement Function\n",
    "    return (vocab_to_int, int_to_vocab)\n",
    "\n",
    "\n",
    "\"\"\"\n",
    "DON'T MODIFY ANYTHING IN THIS CELL THAT IS BELOW THIS LINE\n",
    "\"\"\"\n",
    "tests.test_create_lookup_tables(create_lookup_tables)"
   ]
  },
  {
   "cell_type": "markdown",
   "metadata": {},
   "source": [
    "### Tokenize Punctuation\n",
    "We'll be splitting the script into a word array using spaces as delimiters.  However, punctuations like periods and exclamation marks make it hard for the neural network to distinguish between the word \"bye\" and \"bye!\".\n",
    "\n",
    "Implement the function `token_lookup` to return a dict that will be used to tokenize symbols like \"!\" into \"||Exclamation_Mark||\".  Create a dictionary for the following symbols where the symbol is the key and value is the token:\n",
    "- Period ( . )\n",
    "- Comma ( , )\n",
    "- Quotation Mark ( \" )\n",
    "- Semicolon ( ; )\n",
    "- Exclamation mark ( ! )\n",
    "- Question mark ( ? )\n",
    "- Left Parentheses ( ( )\n",
    "- Right Parentheses ( ) )\n",
    "- Dash ( -- )\n",
    "- Return ( \\n )\n",
    "\n",
    "This dictionary will be used to token the symbols and add the delimiter (space) around it.  This separates the symbols as it's own word, making it easier for the neural network to predict on the next word. Make sure you don't use a token that could be confused as a word. Instead of using the token \"dash\", try using something like \"||dash||\"."
   ]
  },
  {
   "cell_type": "code",
   "execution_count": 5,
   "metadata": {},
   "outputs": [
    {
     "name": "stdout",
     "output_type": "stream",
     "text": [
      "Tests Passed\n"
     ]
    }
   ],
   "source": [
    "def token_lookup():\n",
    "    \"\"\"\n",
    "    Generate a dict to turn punctuation into a token.\n",
    "    :return: Tokenize dictionary where the key is the punctuation and the value is the token\n",
    "    \"\"\"\n",
    "    d = {\".\":\"||period||\", \",\":\"||comma||\",\"\\\"\":\"||quotation_mark||\", \";\":\"||semicolon||\",\"!\":\"||exclamation_mark||\", \"?\":\"||question_mark||\", \"(\":\"||left_parentheses||\", \")\":\"||right_parenthese||s\", \"--\":\"||dash||\", \"\\n\":\"||return||\"}\n",
    "    # TODO: Implement Function\n",
    "    return d\n",
    "\n",
    "\"\"\"\n",
    "DON'T MODIFY ANYTHING IN THIS CELL THAT IS BELOW THIS LINE\n",
    "\"\"\"\n",
    "tests.test_tokenize(token_lookup)"
   ]
  },
  {
   "cell_type": "markdown",
   "metadata": {},
   "source": [
    "## Preprocess all the data and save it\n",
    "Running the code cell below will preprocess all the data and save it to file."
   ]
  },
  {
   "cell_type": "code",
   "execution_count": 6,
   "metadata": {
    "collapsed": true
   },
   "outputs": [],
   "source": [
    "\"\"\"\n",
    "DON'T MODIFY ANYTHING IN THIS CELL\n",
    "\"\"\"\n",
    "# Preprocess Training, Validation, and Testing Data\n",
    "helper.preprocess_and_save_data(data_dir, token_lookup, create_lookup_tables)"
   ]
  },
  {
   "cell_type": "markdown",
   "metadata": {},
   "source": [
    "# Check Point\n",
    "This is your first checkpoint. If you ever decide to come back to this notebook or have to restart the notebook, you can start from here. The preprocessed data has been saved to disk."
   ]
  },
  {
   "cell_type": "code",
   "execution_count": 7,
   "metadata": {
    "collapsed": true
   },
   "outputs": [],
   "source": [
    "\"\"\"\n",
    "DON'T MODIFY ANYTHING IN THIS CELL\n",
    "\"\"\"\n",
    "import helper\n",
    "import numpy as np\n",
    "import problem_unittests as tests\n",
    "\n",
    "int_text, vocab_to_int, int_to_vocab, token_dict = helper.load_preprocess()"
   ]
  },
  {
   "cell_type": "markdown",
   "metadata": {},
   "source": [
    "## Build the Neural Network\n",
    "You'll build the components necessary to build a RNN by implementing the following functions below:\n",
    "- get_inputs\n",
    "- get_init_cell\n",
    "- get_embed\n",
    "- build_rnn\n",
    "- build_nn\n",
    "- get_batches\n",
    "\n",
    "### Check the Version of TensorFlow and Access to GPU"
   ]
  },
  {
   "cell_type": "code",
   "execution_count": 8,
   "metadata": {},
   "outputs": [
    {
     "name": "stdout",
     "output_type": "stream",
     "text": [
      "TensorFlow Version: 1.0.0\n"
     ]
    },
    {
     "name": "stderr",
     "output_type": "stream",
     "text": [
      "C:\\Users\\user\\Anaconda3\\envs\\tf1\\lib\\site-packages\\ipykernel_launcher.py:14: UserWarning: No GPU found. Please use a GPU to train your neural network.\n",
      "  \n"
     ]
    }
   ],
   "source": [
    "\"\"\"\n",
    "DON'T MODIFY ANYTHING IN THIS CELL\n",
    "\"\"\"\n",
    "from distutils.version import LooseVersion\n",
    "import warnings\n",
    "import tensorflow as tf\n",
    "\n",
    "# Check TensorFlow Version\n",
    "assert LooseVersion(tf.__version__) >= LooseVersion('1.0'), 'Please use TensorFlow version 1.0 or newer'\n",
    "print('TensorFlow Version: {}'.format(tf.__version__))\n",
    "\n",
    "# Check for a GPU\n",
    "if not tf.test.gpu_device_name():\n",
    "    warnings.warn('No GPU found. Please use a GPU to train your neural network.')\n",
    "else:\n",
    "    print('Default GPU Device: {}'.format(tf.test.gpu_device_name()))"
   ]
  },
  {
   "cell_type": "markdown",
   "metadata": {},
   "source": [
    "### Input\n",
    "Implement the `get_inputs()` function to create TF Placeholders for the Neural Network.  It should create the following placeholders:\n",
    "- Input text placeholder named \"input\" using the [TF Placeholder](https://www.tensorflow.org/api_docs/python/tf/placeholder) `name` parameter.\n",
    "- Targets placeholder\n",
    "- Learning Rate placeholder\n",
    "\n",
    "Return the placeholders in the following tuple `(Input, Targets, LearningRate)`"
   ]
  },
  {
   "cell_type": "code",
   "execution_count": 12,
   "metadata": {},
   "outputs": [
    {
     "name": "stdout",
     "output_type": "stream",
     "text": [
      "Tests Passed\n"
     ]
    }
   ],
   "source": [
    "def get_inputs():\n",
    "    \"\"\"\n",
    "    Create TF Placeholders for input, targets, and learning rate.\n",
    "    :return: Tuple (input, targets, learning rate)\n",
    "    \"\"\"\n",
    "    inp = tf.placeholder(tf.int32, [None, None], name='input')\n",
    "    t = tf.placeholder(tf.int32, [None, None], name='target')\n",
    "    learning_rate = tf.placeholder(tf.float32, name = \"learning_rate\")\n",
    "    # TODO: Implement Function\n",
    "    return (inp, t, learning_rate)\n",
    "\n",
    "\n",
    "\"\"\"\n",
    "DON'T MODIFY ANYTHING IN THIS CELL THAT IS BELOW THIS LINE\n",
    "\"\"\"\n",
    "tests.test_get_inputs(get_inputs)"
   ]
  },
  {
   "cell_type": "markdown",
   "metadata": {},
   "source": [
    "### Build RNN Cell and Initialize\n",
    "Stack one or more [`BasicLSTMCells`](https://www.tensorflow.org/api_docs/python/tf/contrib/rnn/BasicLSTMCell) in a [`MultiRNNCell`](https://www.tensorflow.org/api_docs/python/tf/contrib/rnn/MultiRNNCell).\n",
    "- The Rnn size should be set using `rnn_size`\n",
    "- Initalize Cell State using the MultiRNNCell's [`zero_state()`](https://www.tensorflow.org/api_docs/python/tf/contrib/rnn/MultiRNNCell#zero_state) function\n",
    "    - Apply the name \"initial_state\" to the initial state using [`tf.identity()`](https://www.tensorflow.org/api_docs/python/tf/identity)\n",
    "\n",
    "Return the cell and initial state in the following tuple `(Cell, InitialState)`"
   ]
  },
  {
   "cell_type": "code",
   "execution_count": 10,
   "metadata": {},
   "outputs": [
    {
     "name": "stdout",
     "output_type": "stream",
     "text": [
      "Tests Passed\n"
     ]
    }
   ],
   "source": [
    "def get_init_cell(batch_size, rnn_size):\n",
    "    \"\"\"\n",
    "    Create an RNN Cell and initialize it.\n",
    "    :param batch_size: Size of batches\n",
    "    :param rnn_size: Size of RNNs\n",
    "    :return: Tuple (cell, initialize state)\n",
    "    \"\"\"\n",
    "    cell = tf.contrib.rnn.MultiRNNCell([tf.contrib.rnn.BasicLSTMCell(rnn_size) for x in range(3)])\n",
    "    initial_state =  tf.identity(cell.zero_state(batch_size, tf.float32), \"initial_state\")\n",
    "    \n",
    "    return (cell, initial_state)\n",
    "\n",
    "\n",
    "\"\"\"\n",
    "DON'T MODIFY ANYTHING IN THIS CELL THAT IS BELOW THIS LINE\n",
    "\"\"\"\n",
    "tests.test_get_init_cell(get_init_cell)"
   ]
  },
  {
   "cell_type": "markdown",
   "metadata": {},
   "source": [
    "### Word Embedding\n",
    "Apply embedding to `input_data` using TensorFlow.  Return the embedded sequence."
   ]
  },
  {
   "cell_type": "code",
   "execution_count": 11,
   "metadata": {},
   "outputs": [
    {
     "name": "stdout",
     "output_type": "stream",
     "text": [
      "Tests Passed\n"
     ]
    }
   ],
   "source": [
    "def get_embed(input_data, vocab_size, embed_dim):\n",
    "    \"\"\"\n",
    "    Create embedding for <input_data>.\n",
    "    :param input_data: TF placeholder for text input.\n",
    "    :param vocab_size: Number of words in vocabulary.\n",
    "    :param embed_dim: Number of embedding dimensions\n",
    "    :return: Embedded input.\n",
    "    \"\"\"\n",
    "    embedding = tf.Variable(tf.random_uniform((vocab_size, embed_dim), -1, 1))\n",
    "    return tf.nn.embedding_lookup(embedding, input_data)\n",
    "\n",
    "\n",
    "\"\"\"\n",
    "DON'T MODIFY ANYTHING IN THIS CELL THAT IS BELOW THIS LINE\n",
    "\"\"\"\n",
    "tests.test_get_embed(get_embed)"
   ]
  },
  {
   "cell_type": "markdown",
   "metadata": {},
   "source": [
    "### Build RNN\n",
    "You created a RNN Cell in the `get_init_cell()` function.  Time to use the cell to create a RNN.\n",
    "- Build the RNN using the [`tf.nn.dynamic_rnn()`](https://www.tensorflow.org/api_docs/python/tf/nn/dynamic_rnn)\n",
    " - Apply the name \"final_state\" to the final state using [`tf.identity()`](https://www.tensorflow.org/api_docs/python/tf/identity)\n",
    "\n",
    "Return the outputs and final_state state in the following tuple `(Outputs, FinalState)` "
   ]
  },
  {
   "cell_type": "code",
   "execution_count": 12,
   "metadata": {},
   "outputs": [
    {
     "name": "stdout",
     "output_type": "stream",
     "text": [
      "Tests Passed\n"
     ]
    }
   ],
   "source": [
    "def build_rnn(cell, inputs):\n",
    "    \"\"\"\n",
    "    Create a RNN using a RNN Cell\n",
    "    :param cell: RNN Cell\n",
    "    :param inputs: Input text data\n",
    "    :return: Tuple (Outputs, Final State)\n",
    "    \"\"\"\n",
    "     # Run each sequence step through the RNN and collect the outputs\n",
    "    outputs, final_state = tf.nn.dynamic_rnn(cell, inputs, dtype = tf.float32)\n",
    "    final_state = tf.identity(final_state,\"final_state\")\n",
    "    return outputs, final_state\n",
    "\n",
    "\n",
    "\"\"\"\n",
    "DON'T MODIFY ANYTHING IN THIS CELL THAT IS BELOW THIS LINE\n",
    "\"\"\"\n",
    "tests.test_build_rnn(build_rnn)"
   ]
  },
  {
   "cell_type": "markdown",
   "metadata": {},
   "source": [
    "### Build the Neural Network\n",
    "Apply the functions you implemented above to:\n",
    "- Apply embedding to `input_data` using your `get_embed(input_data, vocab_size, embed_dim)` function.\n",
    "- Build RNN using `cell` and your `build_rnn(cell, inputs)` function.\n",
    "- Apply a fully connected layer with a linear activation and `vocab_size` as the number of outputs.\n",
    "\n",
    "Return the logits and final state in the following tuple (Logits, FinalState) "
   ]
  },
  {
   "cell_type": "code",
   "execution_count": 13,
   "metadata": {},
   "outputs": [
    {
     "name": "stdout",
     "output_type": "stream",
     "text": [
      "Tests Passed\n"
     ]
    }
   ],
   "source": [
    "def build_nn(cell, rnn_size, input_data, vocab_size, embed_dim):\n",
    "    \"\"\"\n",
    "    Build part of the neural network\n",
    "    :param cell: RNN cell\n",
    "    :param rnn_size: Size of rnns\n",
    "    :param input_data: Input data\n",
    "    :param vocab_size: Vocabulary size\n",
    "    :param embed_dim: Number of embedding dimensions\n",
    "    :return: Tuple (Logits, FinalState)\n",
    "    \"\"\"\n",
    "    embed = get_embed(input_data, vocab_size, embed_dim)\n",
    "    outputs, final_state = build_rnn(cell, embed)\n",
    "    predictions = tf.contrib.layers.fully_connected(outputs, vocab_size, activation_fn=None)\n",
    "    # TODO: Implement Function\n",
    "    return (predictions, final_state)\n",
    "\n",
    "\n",
    "\"\"\"\n",
    "DON'T MODIFY ANYTHING IN THIS CELL THAT IS BELOW THIS LINE\n",
    "\"\"\"\n",
    "tests.test_build_nn(build_nn)"
   ]
  },
  {
   "cell_type": "markdown",
   "metadata": {},
   "source": [
    "### Batches\n",
    "Implement `get_batches` to create batches of input and targets using `int_text`.  The batches should be a Numpy array with the shape `(number of batches, 2, batch size, sequence length)`. Each batch contains two elements:\n",
    "- The first element is a single batch of **input** with the shape `[batch size, sequence length]`\n",
    "- The second element is a single batch of **targets** with the shape `[batch size, sequence length]`\n",
    "\n",
    "If you can't fill the last batch with enough data, drop the last batch.\n",
    "\n",
    "For exmple, `get_batches([1, 2, 3, 4, 5, 6, 7, 8, 9, 10, 11, 12, 13, 14, 15, 16, 17, 18, 19, 20], 3, 2)` would return a Numpy array of the following:\n",
    "```\n",
    "[\n",
    "  # First Batch\n",
    "  [\n",
    "    # Batch of Input\n",
    "    [[ 1  2], [ 7  8], [13 14]]\n",
    "    # Batch of targets\n",
    "    [[ 2  3], [ 8  9], [14 15]]\n",
    "  ]\n",
    "\n",
    "  # Second Batch\n",
    "  [\n",
    "    # Batch of Input\n",
    "    [[ 3  4], [ 9 10], [15 16]]\n",
    "    # Batch of targets\n",
    "    [[ 4  5], [10 11], [16 17]]\n",
    "  ]\n",
    "\n",
    "  # Third Batch\n",
    "  [\n",
    "    # Batch of Input\n",
    "    [[ 5  6], [11 12], [17 18]]\n",
    "    # Batch of targets\n",
    "    [[ 6  7], [12 13], [18  1]]\n",
    "  ]\n",
    "]\n",
    "```\n",
    "\n",
    "Notice that the last target value in the last batch is the first input value of the first batch. In this case, `1`. This is a common technique used when creating sequence batches, although it is rather unintuitive."
   ]
  },
  {
   "cell_type": "code",
   "execution_count": 14,
   "metadata": {},
   "outputs": [
    {
     "name": "stdout",
     "output_type": "stream",
     "text": [
      "Tests Passed\n"
     ]
    }
   ],
   "source": [
    "def get_batches(int_text, batch_size, seq_length):\n",
    "    \"\"\"\n",
    "    Return batches of input and target\n",
    "    :param int_text: Text with the words replaced by their ids\n",
    "    :param batch_size: The size of batch\n",
    "    :param seq_length: The length of sequence\n",
    "    :return: Batches as a Numpy array\n",
    "    \"\"\"\n",
    "    n_batches = len(int_text) // (seq_length * batch_size)\n",
    "    int_text = np.array(int_text[:n_batches * (seq_length * batch_size)])\n",
    "    res = []\n",
    "\n",
    "    for n in range(0, n_batches):\n",
    "        x = []\n",
    "        y = []\n",
    "        res.append([x, y])\n",
    "        start = n * seq_length\n",
    "\n",
    "\n",
    "        for nn in range(0, batch_size):\n",
    "            xx = []\n",
    "            yy = []\n",
    "            start_index = start + n_batches * nn*seq_length\n",
    "            for nnn in range(0, seq_length):\n",
    "                xx.append(int_text[start_index])\n",
    "                if start_index < len(int_text)-1:\n",
    "                    yy.append(int_text[start_index + 1])\n",
    "                else:\n",
    "                    yy.append(int_text[0])\n",
    "                start_index += 1\n",
    "            x.append(xx)\n",
    "            y.append(yy)\n",
    "\n",
    "    return np.array(res)\n",
    "\n",
    "\n",
    "\"\"\"\n",
    "DON'T MODIFY ANYTHING IN THIS CELL THAT IS BELOW THIS LINE\n",
    "\"\"\"\n",
    "tests.test_get_batches(get_batches)"
   ]
  },
  {
   "cell_type": "markdown",
   "metadata": {},
   "source": [
    "## Neural Network Training\n",
    "### Hyperparameters\n",
    "Tune the following parameters:\n",
    "\n",
    "- Set `num_epochs` to the number of epochs.\n",
    "- Set `batch_size` to the batch size.\n",
    "- Set `rnn_size` to the size of the RNNs.\n",
    "- Set `embed_dim` to the size of the embedding.\n",
    "- Set `seq_length` to the length of sequence.\n",
    "- Set `learning_rate` to the learning rate.\n",
    "- Set `show_every_n_batches` to the number of batches the neural network should print progress."
   ]
  },
  {
   "cell_type": "code",
   "execution_count": 15,
   "metadata": {
    "collapsed": true
   },
   "outputs": [],
   "source": [
    "# Number of Epochs\n",
    "num_epochs = 100\n",
    "# Batch Size\n",
    "batch_size = 64\n",
    "# RNN Size\n",
    "rnn_size = 128\n",
    "# Embedding Dimension Size\n",
    "embed_dim = 300\n",
    "# Sequence Length\n",
    "seq_length = 20\n",
    "# Learning Rate\n",
    "learning_rate = 0.01\n",
    "# Show stats for every n number of batches\n",
    "show_every_n_batches = 50\n",
    "\n",
    "\"\"\"\n",
    "DON'T MODIFY ANYTHING IN THIS CELL THAT IS BELOW THIS LINE\n",
    "\"\"\"\n",
    "save_dir = './save'"
   ]
  },
  {
   "cell_type": "markdown",
   "metadata": {},
   "source": [
    "### Build the Graph\n",
    "Build the graph using the neural network you implemented."
   ]
  },
  {
   "cell_type": "code",
   "execution_count": 16,
   "metadata": {
    "collapsed": true
   },
   "outputs": [],
   "source": [
    "\"\"\"\n",
    "DON'T MODIFY ANYTHING IN THIS CELL\n",
    "\"\"\"\n",
    "from tensorflow.contrib import seq2seq\n",
    "\n",
    "train_graph = tf.Graph()\n",
    "with train_graph.as_default():\n",
    "    vocab_size = len(int_to_vocab)\n",
    "    input_text, targets, lr = get_inputs()\n",
    "    input_data_shape = tf.shape(input_text)\n",
    "    cell, initial_state = get_init_cell(input_data_shape[0], rnn_size)\n",
    "    logits, final_state = build_nn(cell, rnn_size, input_text, vocab_size, embed_dim)\n",
    "\n",
    "    # Probabilities for generating words\n",
    "    probs = tf.nn.softmax(logits, name='probs')\n",
    "\n",
    "    # Loss function\n",
    "    cost = seq2seq.sequence_loss(\n",
    "        logits,\n",
    "        targets,\n",
    "        tf.ones([input_data_shape[0], input_data_shape[1]]))\n",
    "\n",
    "    # Optimizer\n",
    "    optimizer = tf.train.AdamOptimizer(lr)\n",
    "\n",
    "    # Gradient Clipping\n",
    "    gradients = optimizer.compute_gradients(cost)\n",
    "    capped_gradients = [(tf.clip_by_value(grad, -1., 1.), var) for grad, var in gradients if grad is not None]\n",
    "    train_op = optimizer.apply_gradients(capped_gradients)"
   ]
  },
  {
   "cell_type": "markdown",
   "metadata": {},
   "source": [
    "## Train\n",
    "Train the neural network on the preprocessed data.  If you have a hard time getting a good loss, check the [forums](https://discussions.udacity.com/) to see if anyone is having the same problem."
   ]
  },
  {
   "cell_type": "code",
   "execution_count": 125,
   "metadata": {},
   "outputs": [
    {
     "name": "stdout",
     "output_type": "stream",
     "text": [
      "Epoch   0 Batch    0/53   train_loss = 8.822\n",
      "Epoch   0 Batch   50/53   train_loss = 6.424\n",
      "Epoch   1 Batch   47/53   train_loss = 6.225\n",
      "Epoch   2 Batch   44/53   train_loss = 6.100\n",
      "Epoch   3 Batch   41/53   train_loss = 6.129\n",
      "Epoch   4 Batch   38/53   train_loss = 5.618\n",
      "Epoch   5 Batch   35/53   train_loss = 5.221\n",
      "Epoch   6 Batch   32/53   train_loss = 4.809\n",
      "Epoch   7 Batch   29/53   train_loss = 4.539\n",
      "Epoch   8 Batch   26/53   train_loss = 4.661\n",
      "Epoch   9 Batch   23/53   train_loss = 4.422\n",
      "Epoch  10 Batch   20/53   train_loss = 4.331\n",
      "Epoch  11 Batch   17/53   train_loss = 4.229\n",
      "Epoch  12 Batch   14/53   train_loss = 4.164\n",
      "Epoch  13 Batch   11/53   train_loss = 4.055\n",
      "Epoch  14 Batch    8/53   train_loss = 3.960\n",
      "Epoch  15 Batch    5/53   train_loss = 3.921\n",
      "Epoch  16 Batch    2/53   train_loss = 3.888\n",
      "Epoch  16 Batch   52/53   train_loss = 3.697\n",
      "Epoch  17 Batch   49/53   train_loss = 3.578\n",
      "Epoch  18 Batch   46/53   train_loss = 3.569\n",
      "Epoch  19 Batch   43/53   train_loss = 3.464\n",
      "Epoch  20 Batch   40/53   train_loss = 3.343\n",
      "Epoch  21 Batch   37/53   train_loss = 3.297\n",
      "Epoch  22 Batch   34/53   train_loss = 3.124\n",
      "Epoch  23 Batch   31/53   train_loss = 3.062\n",
      "Epoch  24 Batch   28/53   train_loss = 2.917\n",
      "Epoch  25 Batch   25/53   train_loss = 2.964\n",
      "Epoch  26 Batch   22/53   train_loss = 2.873\n",
      "Epoch  27 Batch   19/53   train_loss = 2.781\n",
      "Epoch  28 Batch   16/53   train_loss = 2.830\n",
      "Epoch  29 Batch   13/53   train_loss = 2.672\n",
      "Epoch  30 Batch   10/53   train_loss = 2.616\n",
      "Epoch  31 Batch    7/53   train_loss = 2.605\n",
      "Epoch  32 Batch    4/53   train_loss = 2.464\n",
      "Epoch  33 Batch    1/53   train_loss = 2.429\n",
      "Epoch  33 Batch   51/53   train_loss = 2.384\n",
      "Epoch  34 Batch   48/53   train_loss = 2.298\n",
      "Epoch  35 Batch   45/53   train_loss = 2.271\n",
      "Epoch  36 Batch   42/53   train_loss = 2.118\n",
      "Epoch  37 Batch   39/53   train_loss = 2.271\n",
      "Epoch  38 Batch   36/53   train_loss = 2.241\n",
      "Epoch  39 Batch   33/53   train_loss = 2.183\n",
      "Epoch  40 Batch   30/53   train_loss = 2.113\n",
      "Epoch  41 Batch   27/53   train_loss = 2.140\n",
      "Epoch  42 Batch   24/53   train_loss = 2.025\n",
      "Epoch  43 Batch   21/53   train_loss = 1.930\n",
      "Epoch  44 Batch   18/53   train_loss = 1.993\n",
      "Epoch  45 Batch   15/53   train_loss = 1.937\n",
      "Epoch  46 Batch   12/53   train_loss = 1.938\n",
      "Epoch  47 Batch    9/53   train_loss = 1.813\n",
      "Epoch  48 Batch    6/53   train_loss = 1.746\n",
      "Epoch  49 Batch    3/53   train_loss = 1.769\n",
      "Epoch  50 Batch    0/53   train_loss = 1.750\n",
      "Epoch  50 Batch   50/53   train_loss = 1.808\n",
      "Epoch  51 Batch   47/53   train_loss = 1.650\n",
      "Epoch  52 Batch   44/53   train_loss = 1.722\n",
      "Epoch  53 Batch   41/53   train_loss = 1.686\n",
      "Epoch  54 Batch   38/53   train_loss = 1.689\n",
      "Epoch  55 Batch   35/53   train_loss = 1.654\n",
      "Epoch  56 Batch   32/53   train_loss = 1.616\n",
      "Epoch  57 Batch   29/53   train_loss = 1.627\n",
      "Epoch  58 Batch   26/53   train_loss = 1.591\n",
      "Epoch  59 Batch   23/53   train_loss = 1.590\n",
      "Epoch  60 Batch   20/53   train_loss = 1.527\n",
      "Epoch  61 Batch   17/53   train_loss = 1.465\n",
      "Epoch  62 Batch   14/53   train_loss = 1.443\n",
      "Epoch  63 Batch   11/53   train_loss = 1.331\n",
      "Epoch  64 Batch    8/53   train_loss = 1.415\n",
      "Epoch  65 Batch    5/53   train_loss = 1.433\n",
      "Epoch  66 Batch    2/53   train_loss = 1.370\n",
      "Epoch  66 Batch   52/53   train_loss = 1.442\n",
      "Epoch  67 Batch   49/53   train_loss = 1.533\n",
      "Epoch  68 Batch   46/53   train_loss = 1.352\n",
      "Epoch  69 Batch   43/53   train_loss = 1.374\n",
      "Epoch  70 Batch   40/53   train_loss = 1.464\n",
      "Epoch  71 Batch   37/53   train_loss = 1.279\n",
      "Epoch  72 Batch   34/53   train_loss = 1.305\n",
      "Epoch  73 Batch   31/53   train_loss = 1.296\n",
      "Epoch  74 Batch   28/53   train_loss = 1.213\n",
      "Epoch  75 Batch   25/53   train_loss = 1.248\n",
      "Epoch  76 Batch   22/53   train_loss = 1.298\n",
      "Epoch  77 Batch   19/53   train_loss = 1.166\n",
      "Epoch  78 Batch   16/53   train_loss = 1.264\n",
      "Epoch  79 Batch   13/53   train_loss = 1.180\n",
      "Epoch  80 Batch   10/53   train_loss = 1.126\n",
      "Epoch  81 Batch    7/53   train_loss = 1.189\n",
      "Epoch  82 Batch    4/53   train_loss = 1.118\n",
      "Epoch  83 Batch    1/53   train_loss = 1.111\n",
      "Epoch  83 Batch   51/53   train_loss = 1.191\n",
      "Epoch  84 Batch   48/53   train_loss = 1.165\n",
      "Epoch  85 Batch   45/53   train_loss = 1.162\n",
      "Epoch  86 Batch   42/53   train_loss = 1.108\n",
      "Epoch  87 Batch   39/53   train_loss = 1.156\n",
      "Epoch  88 Batch   36/53   train_loss = 1.149\n",
      "Epoch  89 Batch   33/53   train_loss = 1.070\n",
      "Epoch  90 Batch   30/53   train_loss = 1.075\n",
      "Epoch  91 Batch   27/53   train_loss = 1.104\n",
      "Epoch  92 Batch   24/53   train_loss = 1.039\n",
      "Epoch  93 Batch   21/53   train_loss = 0.999\n",
      "Epoch  94 Batch   18/53   train_loss = 1.039\n",
      "Epoch  95 Batch   15/53   train_loss = 1.002\n",
      "Epoch  96 Batch   12/53   train_loss = 1.077\n",
      "Epoch  97 Batch    9/53   train_loss = 1.081\n",
      "Epoch  98 Batch    6/53   train_loss = 1.030\n",
      "Epoch  99 Batch    3/53   train_loss = 1.016\n",
      "Model Trained and Saved\n"
     ]
    }
   ],
   "source": [
    "\"\"\"\n",
    "DON'T MODIFY ANYTHING IN THIS CELL\n",
    "\"\"\"\n",
    "batches = get_batches(int_text, batch_size, seq_length)\n",
    "\n",
    "with tf.Session(graph=train_graph) as sess:\n",
    "    sess.run(tf.global_variables_initializer())\n",
    "\n",
    "    for epoch_i in range(num_epochs):\n",
    "        state = sess.run(initial_state, {input_text: batches[0][0]})\n",
    "\n",
    "        for batch_i, (x, y) in enumerate(batches):\n",
    "            feed = {\n",
    "                input_text: x,\n",
    "                targets: y,\n",
    "                initial_state: state,\n",
    "                lr: learning_rate}\n",
    "            train_loss, state, _ = sess.run([cost, final_state, train_op], feed)\n",
    "\n",
    "            # Show every <show_every_n_batches> batches\n",
    "            if (epoch_i * len(batches) + batch_i) % show_every_n_batches == 0:\n",
    "                print('Epoch {:>3} Batch {:>4}/{}   train_loss = {:.3f}'.format(\n",
    "                    epoch_i,\n",
    "                    batch_i,\n",
    "                    len(batches),\n",
    "                    train_loss))\n",
    "\n",
    "    # Save Model\n",
    "    saver = tf.train.Saver()\n",
    "    saver.save(sess, save_dir)\n",
    "    print('Model Trained and Saved')"
   ]
  },
  {
   "cell_type": "markdown",
   "metadata": {},
   "source": [
    "## Save Parameters\n",
    "Save `seq_length` and `save_dir` for generating a new TV script."
   ]
  },
  {
   "cell_type": "code",
   "execution_count": 126,
   "metadata": {
    "collapsed": true
   },
   "outputs": [],
   "source": [
    "\"\"\"\n",
    "DON'T MODIFY ANYTHING IN THIS CELL\n",
    "\"\"\"\n",
    "# Save parameters for checkpoint\n",
    "helper.save_params((seq_length, save_dir))"
   ]
  },
  {
   "cell_type": "markdown",
   "metadata": {},
   "source": [
    "# Checkpoint"
   ]
  },
  {
   "cell_type": "code",
   "execution_count": 17,
   "metadata": {
    "collapsed": true
   },
   "outputs": [],
   "source": [
    "\"\"\"\n",
    "DON'T MODIFY ANYTHING IN THIS CELL\n",
    "\"\"\"\n",
    "import tensorflow as tf\n",
    "import numpy as np\n",
    "import helper\n",
    "import problem_unittests as tests\n",
    "\n",
    "_, vocab_to_int, int_to_vocab, token_dict = helper.load_preprocess()\n",
    "seq_length, load_dir = helper.load_params()"
   ]
  },
  {
   "cell_type": "markdown",
   "metadata": {},
   "source": [
    "## Implement Generate Functions\n",
    "### Get Tensors\n",
    "Get tensors from `loaded_graph` using the function [`get_tensor_by_name()`](https://www.tensorflow.org/api_docs/python/tf/Graph#get_tensor_by_name).  Get the tensors using the following names:\n",
    "- \"input:0\"\n",
    "- \"initial_state:0\"\n",
    "- \"final_state:0\"\n",
    "- \"probs:0\"\n",
    "\n",
    "Return the tensors in the following tuple `(InputTensor, InitialStateTensor, FinalStateTensor, ProbsTensor)` "
   ]
  },
  {
   "cell_type": "code",
   "execution_count": 18,
   "metadata": {},
   "outputs": [
    {
     "name": "stdout",
     "output_type": "stream",
     "text": [
      "Tests Passed\n"
     ]
    }
   ],
   "source": [
    "def get_tensors(loaded_graph):\n",
    "    \"\"\"\n",
    "    Get input, initial state, final state, and probabilities tensor from <loaded_graph>\n",
    "    :param loaded_graph: TensorFlow graph loaded from file\n",
    "    :return: Tuple (InputTensor, InitialStateTensor, FinalStateTensor, ProbsTensor)\n",
    "    \"\"\"\n",
    "    # TODO: Implement Function\n",
    "    i=loaded_graph.get_tensor_by_name(\"input:0\")\n",
    "    i_s=loaded_graph.get_tensor_by_name(\"initial_state:0\")\n",
    "    f_s=loaded_graph.get_tensor_by_name(\"final_state:0\")\n",
    "    probs=loaded_graph.get_tensor_by_name(\"probs:0\")\n",
    "    \n",
    "    return i, i_s, f_s, probs\n",
    "\n",
    "\n",
    "\"\"\"\n",
    "DON'T MODIFY ANYTHING IN THIS CELL THAT IS BELOW THIS LINE\n",
    "\"\"\"\n",
    "tests.test_get_tensors(get_tensors)"
   ]
  },
  {
   "cell_type": "markdown",
   "metadata": {},
   "source": [
    "### Choose Word\n",
    "Implement the `pick_word()` function to select the next word using `probabilities`."
   ]
  },
  {
   "cell_type": "code",
   "execution_count": 19,
   "metadata": {},
   "outputs": [
    {
     "name": "stdout",
     "output_type": "stream",
     "text": [
      "Tests Passed\n"
     ]
    }
   ],
   "source": [
    "def pick_word(probabilities, int_to_vocab):\n",
    "    \"\"\"\n",
    "    Pick the next word in the generated text\n",
    "    :param probabilities: Probabilites of the next word\n",
    "    :param int_to_vocab: Dictionary of word ids as the keys and words as the values\n",
    "    :return: String of the predicted word\n",
    "    \"\"\"\n",
    "    # TODO: Implement Function\n",
    "    m = np.argmax(probabilities)\n",
    "    v = int_to_vocab[m]\n",
    "    return v\n",
    "\n",
    "\n",
    "\"\"\"\n",
    "DON'T MODIFY ANYTHING IN THIS CELL THAT IS BELOW THIS LINE\n",
    "\"\"\"\n",
    "tests.test_pick_word(pick_word)"
   ]
  },
  {
   "cell_type": "markdown",
   "metadata": {},
   "source": [
    "## Generate TV Script\n",
    "This will generate the TV script for you.  Set `gen_length` to the length of TV script you want to generate."
   ]
  },
  {
   "cell_type": "code",
   "execution_count": 20,
   "metadata": {},
   "outputs": [
    {
     "name": "stdout",
     "output_type": "stream",
     "text": [
      "{0: 'mitts', 1: 'shoo', 2: 'man_with_tree_hat:', 3: 'tsking', 4: 'fast-paced', 5: 'eco-fraud', 6: 'kept', 7: 'edna', 8: 'dictating', 9: 'fish', 10: 'stick', 11: 'dan_gillick:', 12: 'honor', 13: 'vampires', 14: 'kazoo', 15: 'plug', 16: 'instantly', 17: 'spending', 18: 'leans', 19: 'backward', 20: 'stern', 21: 'ugliest', 22: 'nope', 23: 'mines', 24: 'before', 25: \"tryin'\", 26: 'harv:', 27: 'we', 28: 'aggie', 29: 'nfl_narrator:', 30: 'provide', 31: 'lifetime', 32: 'rolled', 33: 'taught', 34: 'amber', 35: 'roll', 36: 'four', 37: 'intakes', 38: 'transfer', 39: 'squabbled', 40: 'peach', 41: 'crowd', 42: 'trade', 43: 'stayed', 44: 'synthesize', 45: 'bear', 46: \"tony's\", 47: 'ma', 48: 'shores', 49: 'stretches', 50: 'pulls', 51: 'kucinich', 52: 'democrats', 53: 'sleigh-horses', 54: 'sugar-me-do', 55: 'points', 56: 'salt', 57: 'patient', 58: 'lisa_simpson:', 59: 'unbelievably', 60: 'charm', 61: 'invite', 62: 'dispenser', 63: 'comeback', 64: 'fellas', 65: \"cleanin'\", 66: 'lame', 67: 'die-hard', 68: 'built', 69: 'forgotten', 70: 'lobster', 71: \"what'll\", 72: 'gesture', 73: 'attach', 74: 'pipe', 75: 'poker', 76: 'decency', 77: '50%', 78: 'hardhat', 79: 'shrugging', 80: 'menacing', 81: 'kahlua', 82: 'territorial', 83: 'would', 84: 'adventure', 85: 'junkyard', 86: 'demand', 87: 'cutest', 88: 'scare', 89: 'au', 90: 'assent', 91: 'wrestling', 92: 'ran', 93: 'glowers', 94: 'pardon', 95: 'puffy', 96: 'celebrities', 97: 'giving', 98: 'martini', 99: \"phone's\", 100: 'hundreds', 101: 'fox', 102: 'forty-two', 103: 'harvard', 104: 'listen', 105: 'wheel', 106: 'juice', 107: 'conversion', 108: 'persia', 109: 'strawberry', 110: 'failed', 111: 'train', 112: 'hail', 113: 'smiled', 114: 'aristotle:', 115: 'pretend', 116: 'advantage', 117: 'treats', 118: 'pipes', 119: 'watashi', 120: 'exhaust', 121: 'suspenders', 122: 'dictator', 123: 'drift', 124: 'drunks', 125: 'howya', 126: 'ees', 127: 'champignons', 128: 'southern', 129: 'mock', 130: 'ugh', 131: 'boxers', 132: 'volunteer', 133: 'chug', 134: 'seductive', 135: 'swamp', 136: 'texas', 137: 'reminded', 138: 'half-beer', 139: 'sizes', 140: 'stinks', 141: 'artist', 142: 'force', 143: 'privacy', 144: \"kiddin'\", 145: 'bret', 146: 'settlement', 147: 'hounds', 148: 'dipping', 149: \"they'd\", 150: 'smallest', 151: 'trashed', 152: \"collector's\", 153: 'octa-', 154: 'kings', 155: 'flaming', 156: 'wear', 157: \"dad's\", 158: 'alley', 159: 'evergreen', 160: 'scotch', 161: 'stores', 162: 'wide', 163: 'fool', 164: 'enabling', 165: 'muttering', 166: 'tab', 167: 'throats', 168: 'sustain', 169: 'apart', 170: 'treat', 171: 'coward', 172: 'boxing_announcer:', 173: 'grrrreetings', 174: 'breakdown', 175: 'crossed', 176: 'accepting', 177: 'ordered', 178: \"comin'\", 179: 'who', 180: 'tonic', 181: '2', 182: 'fry', 183: 'couch', 184: 'taunting', 185: 'admit', 186: 'warmth', 187: 'she', 188: 'fast-food', 189: 'goblins', 190: 'anti-crime', 191: 'jury', 192: 'exactly', 193: 'informant', 194: 'fingers', 195: 'up-bup-bup', 196: 'jets', 197: 'presidential', 198: 'diamond', 199: 'queer', 200: 'shoe', 201: 'around', 202: 'murmur', 203: 'internet', 204: 'jasper_beardly:', 205: 'reads', 206: '2nd_voice_on_transmitter:', 207: 'mine', 208: 'snorts', 209: 'stood', 210: 'excuse', 211: 'clown-like', 212: 'four-drink', 213: 'sensitivity', 214: 'salvador', 215: 'alcohol', 216: 'pregnancy', 217: 'anti-intellectualism', 218: 'radiator', 219: 'steal', 220: \"could've\", 221: 'philosophical', 222: 'frazier', 223: 'priceless', 224: 'dizer', 225: 'dean', 226: 'filth', 227: 'tar-paper', 228: 'mom', 229: 'stingy', 230: 'has', 231: 'waylon', 232: 'alls', 233: 'procedure', 234: 'stalwart', 235: 'busy', 236: 'mindless', 237: 'steinbrenner', 238: 'conference', 239: \"let's\", 240: 'owe', 241: 'lingus', 242: 'mini-dumpsters', 243: 'catch-phrase', 244: 'busted', 245: 'compromise:', 246: 'honeys', 247: 'bookie', 248: \"donatin'\", 249: 'crappy', 250: 'give', 251: 'earth', 252: 'society', 253: 'singer', 254: 'coherent', 255: 'rhyme', 256: 'murdoch', 257: 'instead', 258: 'inanely', 259: 'salvation', 260: 'strategizing', 261: \"wearin'\", 262: 'everywhere', 263: 'har', 264: 'hateful', 265: 'yoo', 266: 'annie', 267: 'bashir', 268: 'geysir', 269: 'classy', 270: 'nasa', 271: 'insensitive', 272: 'interesting', 273: 'sports_announcer:', 274: 'wh', 275: 'defensive', 276: \"'ceptin'\", 277: 'feelings', 278: 'learn', 279: 'longest', 280: 'clammy', 281: 'innocent', 282: 'typed', 283: 'wham', 284: 'chuckling', 285: 'tha', 286: \"homer'll\", 287: 'larry', 288: 'package', 289: 'atlanta', 290: 'and', 291: 'kick', 292: \"barney's\", 293: 'divorced', 294: 'ooo', 295: 'slightly', 296: 'sobs', 297: 'ab', 298: 'renders', 299: 'reach', 300: 'venom', 301: 'runners', 302: 'experience', 303: 'lily-pond', 304: 'lis', 305: 'finally', 306: 'cries', 307: 'jesus', 308: 'still', 309: 'cute', 310: 'barflies:', 311: 'roller', 312: 'hit', 313: 'op', 314: 'gel', 315: 'slaps', 316: 'diet', 317: 'cuckoo', 318: 'therefore', 319: 'finished', 320: 'tommy', 321: 'determined', 322: 'consoling', 323: 'daddy', 324: 'then:', 325: 'photographer', 326: 'kl5-4796', 327: 'incarcerated', 328: '_julius_hibbert:', 329: 'chanting', 330: 'alternative', 331: 'willing', 332: 'grammys', 333: 'any', 334: 'smiling', 335: 'moments', 336: \"ball's\", 337: 'help', 338: 'shred', 339: 'channel', 340: 'broken:', 341: 'difficult', 342: 'hours', 343: 'liser', 344: 'beginning', 345: 'memories', 346: 'eye', 347: 'lowers', 348: 'cup', 349: 'administration', 350: 'amazed', 351: 'sacrifice', 352: \"choosin'\", 353: 'immiggants', 354: 'tow-talitarian', 355: 'wolverines', 356: 'watching', 357: 'good-looking', 358: 'junior', 359: 'blind', 360: 'clown', 361: 'resolution', 362: \"i-i'm\", 363: 'meal', 364: 'english', 365: \"floatin'\", 366: 'spamming', 367: 'jazz', 368: 'man', 369: 'towed', 370: 'city', 371: 'badmouths', 372: 'pointless', 373: 'accounta', 374: 'windelle', 375: 'barbara', 376: 'shaggy', 377: 'known', 378: 'doof', 379: 'truth', 380: 'souvenir', 381: 'maya:', 382: 'liquor', 383: 'intriguing', 384: 'eggs', 385: 'dreamily', 386: 'leak', 387: 'renovations', 388: 'felt', 389: 'lover', 390: 'starters', 391: 'toilet', 392: 'short_man:', 393: 'voice', 394: 'promotion', 395: 'war', 396: 'fbi_agent:', 397: 'seething', 398: 'hunka', 399: 'flush-town', 400: 'dracula', 401: 'thing', 402: 'repressed', 403: 'pin', 404: 'victory', 405: 'connor', 406: 'let', 407: 'helpful', 408: 'eyesore', 409: 'rosey', 410: 'banquo', 411: 'manchego', 412: 'wipes', 413: 'huh', 414: 'side:', 415: 'comedy', 416: 'pageant', 417: 'embarrassing', 418: 'buttons', 419: 'milks', 420: 'my', 421: 'literary', 422: 'socratic', 423: 'greatly', 424: 'pint', 425: 'feels', 426: 'femininity', 427: 'yawns', 428: 'fink', 429: 'backgammon', 430: 'not', 431: 'cloudy', 432: 'improved', 433: 'alien', 434: 'remains', 435: 'naively', 436: 'higher', 437: 'glitz', 438: 'original', 439: \"i'd\", 440: 'e', 441: 'warranty', 442: 'realize', 443: 'kinderhook', 444: 'fumes', 445: 'offshoot', 446: 'beep', 447: 'riding', 448: 'snap', 449: 'presentable', 450: 'religious', 451: 'wash', 452: 'speak', 453: \"neighbor's\", 454: 'pontiff', 455: 'cow', 456: 'dreams', 457: 'mortgage', 458: 'spectacular', 459: \"can't-believe-how-bald-he-is\", 460: 'cocktail', 461: 'data', 462: 'infiltrate', 463: 'hans:', 464: 'straining', 465: \"monroe's\", 466: 'finger', 467: 'smelly', 468: 'hearing', 469: 'edna_krabappel-flanders:', 470: 'cats', 471: 'habitrail', 472: 'lotsa', 473: 'cuddling', 474: 'floor', 475: 'startup', 476: 'doom', 477: 'show-off', 478: '_montgomery_burns:', 479: 'humanity', 480: 'ride', 481: 'ruled', 482: 'legoland', 483: 'title:', 484: 'species', 485: 'motel', 486: 'declared', 487: 'does', 488: 'roz:', 489: 'finale', 490: 'dallas', 491: 'flashing', 492: 'trainers', 493: 'terror', 494: 'played', 495: 'preparation', 496: 'pity', 497: 'hammy', 498: 'chill', 499: 'boozy', 500: 'sleeping', 501: 'unattractive', 502: 'oof', 503: 'bleacher', 504: 'housewife', 505: 'flailing', 506: 'cocking', 507: 'complaining', 508: 'bullet-proof', 509: 'my-y-y-y-y-y', 510: 'life', 511: 'retain', 512: 'spread', 513: 'brick', 514: 'excitement', 515: \"man's\", 516: 'zero', 517: 'bushes', 518: 'assumed', 519: 'blossoming', 520: 'laughs', 521: \"'til\", 522: \"sittin'\", 523: 'huddle', 524: 'cheapskates', 525: 'cans', 526: 'concerned', 527: 'utility', 528: 'ironic', 529: 'pussycat', 530: '||right_parenthese||s', 531: 'robbers', 532: 'choices', 533: 'scanning', 534: 'manfred', 535: 'america', 536: 'forward', 537: 'california', 538: 'youuu', 539: 'she-pu', 540: 'popping', 541: 'greedy', 542: 'indeed', 543: 'loyal', 544: 'cruise', 545: 'planet', 546: 'enjoy', 547: 'capitol', 548: 'tapered', 549: 'civil', 550: 'squirrels', 551: 'dank', 552: 'standing', 553: 'friendly', 554: 'astronaut', 555: 'chair', 556: 'freaking', 557: 'image', 558: 'stripe', 559: \"spiffin'\", 560: \"you'll\", 561: 'walking', 562: 'pays', 563: 'dungeon', 564: 'mall', 565: 'nine', 566: 'culkin', 567: 'understood:', 568: 'excellent', 569: 'patty_bouvier:', 570: 'alright', 571: \"stallin'\", 572: 'stares', 573: 'alibi', 574: 'driving', 575: 'thrust', 576: 'mugs', 577: 'cheaper', 578: 'terminated', 579: 'complete', 580: 'yep', 581: 'meaningless', 582: 'soap', 583: 'concentrate', 584: 'musses', 585: 'dull', 586: 'prince', 587: 'handling', 588: 'please/', 589: 'dry', 590: 'philip', 591: 'commanding', 592: 'lead', 593: 'tips', 594: 'scared', 595: 'ball', 596: 'off', 597: 'full-blooded', 598: 'turlet', 599: \"mopin'\", 600: 'society_matron:', 601: 'seconds', 602: 'monster', 603: 'buffet', 604: 'easy', 605: 'beatings', 606: 'lied', 607: 'mozzarella', 608: 'feminine', 609: \"now's\", 610: 'frankie', 611: \"who'da\", 612: 'march', 613: 'rom', 614: 'elder', 615: 'ask', 616: 'clock', 617: 'hunky', 618: 'befriend', 619: 'lurleen_lumpkin:', 620: 'superpower', 621: 'theater', 622: 'luckiest', 623: 'icy', 624: 'already', 625: 'lungs', 626: 'reaches', 627: 'touched', 628: 'extinguishers', 629: 'hop', 630: 'freedom', 631: 'cauliflower', 632: 'extra', 633: 'charges', 634: \"hangin'\", 635: 'doy', 636: 'ohhhh', 637: 'extreme', 638: 'hardy', 639: 'combines', 640: 'drummer', 641: 'navy', 642: \"fine-lookin'\", 643: 'nibble', 644: 'gags', 645: 'taken', 646: 'squishee', 647: 'bathtub', 648: 'lawyer', 649: 'gambler', 650: 'lot', 651: 'carpet', 652: 'feast', 653: 'attractive', 654: 'bothered', 655: 'gus', 656: 'build', 657: 'smugglers', 658: 'dinks', 659: 'reward', 660: 'cleveland', 661: \"tootin'\", 662: 'dory', 663: 'east', 664: 'parrot', 665: 'necklace', 666: 'sister', 667: 'life-threatening', 668: 'wish-meat', 669: 'browns', 670: 'wiping', 671: 'indecipherable', 672: 'troll', 673: 'over', 674: 'pernt', 675: 'rupert_murdoch:', 676: 'catching', 677: 'bites', 678: 'thousand-year', 679: 'listening', 680: 'u', 681: 'cyrano', 682: 'flash', 683: 'mint', 684: 'captain', 685: 'offensive', 686: \"'em\", 687: 'pus-bucket', 688: 'mickey', 689: 'attention', 690: 'marched', 691: 'criminal', 692: 'bronco', 693: 'menlo', 694: 'slop', 695: '||semicolon||', 696: 'sail', 697: 'dreamy', 698: 'boyhood', 699: 'van', 700: 'disco', 701: 'miss', 702: 'point', 703: 'heliotrope', 704: 'macaulay', 705: 'prettied', 706: \"tellin'\", 707: 'parked', 708: 'bono', 709: 'married', 710: 'comfortable', 711: 'seem', 712: 'daniel', 713: 'shhh', 714: 'lobster-based', 715: 'guns', 716: 'insulin', 717: 'susie-q', 718: 'roach', 719: 'mural', 720: 'perfected', 721: 'consciousness', 722: 'flashbacks', 723: 'slobs', 724: 'crushed', 725: 'protecting', 726: 'ways', 727: 'hi', 728: 'separator', 729: 'guttural', 730: 'called', 731: 'slyly', 732: \"england's\", 733: 'solved', 734: 'wade_boggs:', 735: 'joy', 736: 'bleak', 737: 'action', 738: 'nose', 739: 'profiling', 740: 'buttocks', 741: 'took', 742: 'manjula', 743: 'hyahh', 744: 'reptile', 745: 'gas', 746: 'twelve-step', 747: 'self-esteem', 748: 'elizabeth', 749: 'figure', 750: 'sissy', 751: 'surgery', 752: 'goodbye', 753: 'befouled', 754: 'interrupting', 755: 'wok', 756: 'answers', 757: 'especially', 758: \"bart'd\", 759: 'lennyy', 760: 'i-i', 761: 'focus', 762: 'fabulous', 763: 'inserts', 764: 'snapping', 765: 'masks', 766: 'morning', 767: 'wedding', 768: 'killer', 769: 'steamed', 770: 'eighty-seven', 771: 'banks', 772: 'man:', 773: \"beggin'\", 774: 'tears', 775: 'dishrag', 776: 'crisis', 777: 'credit', 778: 'payback', 779: 'arts', 780: 'slapped', 781: 'expert', 782: '35', 783: 'lindsay', 784: 'based', 785: 'nobel', 786: 'code', 787: \"hole'\", 788: 'avalanche', 789: 'restless', 790: 'eaten', 791: 'amiable', 792: 'strap', 793: 'company', 794: 'eddie', 795: 'hustle', 796: 'minus', 797: 'grampa', 798: 'poking', 799: 'trench', 800: 'ahhh', 801: 'temple', 802: 'coms', 803: 'tyson/secretariat', 804: 'advice', 805: 'amnesia', 806: 'paper', 807: 'midge', 808: 'brightening', 809: 'halvsies', 810: 'smell', 811: 'cranberry', 812: 'eurotrash', 813: \"doesn't\", 814: 'between', 815: 'ineffective', 816: 'dan', 817: 'wittgenstein', 818: 'wondering', 819: 'because', 820: 'gumbel', 821: 'paparazzo', 822: 'is:', 823: 'skills', 824: 'snitch', 825: 'declan', 826: 'cannoli', 827: 'lofty', 828: 'hafta', 829: 'feed', 830: 'space', 831: 'buddha', 832: 'rekindle', 833: 'lipo', 834: 'splattered', 835: 'benjamin', 836: 'killjoy', 837: 'reserve', 838: 'smitty:', 839: 'sales', 840: 'boy', 841: 'accident', 842: 'newsweek', 843: 'simp-sonnnn', 844: 'yak', 845: 'errrrrrr', 846: 'syndicate', 847: 'clearing', 848: 'twin', 849: 'elaborate', 850: 'cream', 851: 'such', 852: 'forget', 853: 'million', 854: 'leaving', 855: 'nbc', 856: 'told', 857: 'jigger', 858: 'row', 859: \"drinkin'\", 860: 'almost', 861: 'libido', 862: 'missed', 863: 'material', 864: 'irish', 865: 'booze', 866: 'lucius:', 867: 'goo', 868: 'guff', 869: 'smiles', 870: 'fanciest', 871: 'lifters', 872: 'mexicans', 873: 'emotional', 874: 'presidents', 875: 'thousand', 876: 'carve', 877: \"nothin's\", 878: \"show's\", 879: 'lessons', 880: 'that', 881: 'nemo', 882: \"you've\", 883: 'getting', 884: 'occurrence', 885: 'woodchucks', 886: 'securities', 887: 'safe', 888: 'heather', 889: 'cutie', 890: 'obese', 891: \"son's\", 892: 'statesmanlike', 893: 'big', 894: 'stengel', 895: 'watered', 896: 'highway', 897: 'polls', 898: 'distinct', 899: 'boozehound', 900: 'swimmers', 901: \"'ere\", 902: 'social', 903: 'stalking', 904: 'assume', 905: 'wally', 906: 'two-drink', 907: 'yoink', 908: 'jackson', 909: 'aerospace', 910: 'add', 911: 'weekly', 912: 'discriminate', 913: 'handwriting', 914: \"tv'll\", 915: 'charity', 916: 'even', 917: 'sir', 918: 'gotcha', 919: 'grieving', 920: 'drollery', 921: 'wise', 922: 'designer', 923: 'spender', 924: 'limited', 925: 'gay', 926: 'assert', 927: 'starving', 928: 'lizard', 929: 'lose', 930: \"this'll\", 931: 'hour', 932: 'detective', 933: 'amount', 934: \"mcstagger's\", 935: 'whaaaa', 936: 'congratulations', 937: 'incapable', 938: 'dang', 939: 'urge', 940: 'figured', 941: 'relationship', 942: 'barber', 943: 'bret:', 944: 'na', 945: 'boisterous', 946: 'renee', 947: 'facebook', 948: 'winded', 949: 'today', 950: 'palmerston', 951: 'distance', 952: 'piano', 953: 'abercrombie', 954: 'vehicle', 955: 'elect', 956: 'oil', 957: 'avenue', 958: 'scooter', 959: 'belly', 960: 'contractors', 961: 'chuckles', 962: 'undies', 963: 'hiya', 964: 'double', 965: \"nick's\", 966: 'cooker', 967: 'irrelevant', 968: 'play', 969: 'yards', 970: 'unless', 971: 'employment', 972: 'chips', 973: 'arm-pittish', 974: 'limits', 975: 'der', 976: 'thought', 977: 'non-losers', 978: 'rummy', 979: 'nick', 980: 'firing', 981: 'blame', 982: \"wino's\", 983: 'fellow', 984: 'naked', 985: 'crew', 986: 'anniversary', 987: 'county', 988: \"you'd\", 989: 'beat', 990: '6', 991: 'luck', 992: 'mel', 993: 'unlike', 994: \"yesterday's\", 995: 'committee', 996: 'he', 997: 'puke-holes', 998: \"enjoyin'\", 999: \"c'mon\", 1000: 'hemorrhage-amundo', 1001: 'during', 1002: 'kidding', 1003: 'ooh', 1004: \"grandmother's\", 1005: 'selling', 1006: 'hurts', 1007: 'ballclub', 1008: \"'evening\", 1009: 'lazy', 1010: 'rage', 1011: 'knowing', 1012: 'winks', 1013: 'wake', 1014: 'indifferent', 1015: 'blocked', 1016: 'fwooof', 1017: 'meals', 1018: 'moan', 1019: 'crank', 1020: 'tail', 1021: 'reed', 1022: 'go', 1023: 'pantsless', 1024: 'well-wisher', 1025: 'neighbors', 1026: 'consider', 1027: 'fuss', 1028: \"shan't\", 1029: 'squirrel', 1030: 'stools', 1031: 'teacup', 1032: 'child', 1033: 'neon', 1034: 'ruin', 1035: 'unusually', 1036: 'easygoing', 1037: 'floated', 1038: 'heavyset', 1039: 'pool', 1040: 'aggravated', 1041: 'thirty-three', 1042: 'recorded', 1043: 'turkey', 1044: 'ore', 1045: 'old-time', 1046: \"ma's\", 1047: 'survive', 1048: 'land', 1049: 'hushed', 1050: 'enjoyed', 1051: 'foil', 1052: 'acquaintance', 1053: 'denser', 1054: 'paints', 1055: 'vodka', 1056: 'yes', 1057: 'exciting', 1058: 'kirk', 1059: \"ladies'\", 1060: \"drivin'\", 1061: 'mimes', 1062: 'mister', 1063: 'coin', 1064: 'continuum', 1065: 'asked', 1066: 'ribbon', 1067: \"smokin'\", 1068: 'reactions', 1069: 'suicide', 1070: 'awesome', 1071: 'patrons', 1072: 'when', 1073: 'sobriety', 1074: 'this:', 1075: 'whatever', 1076: 'terrace', 1077: 'sober', 1078: 'carey', 1079: 'calls', 1080: 'bowling', 1081: 'eternity', 1082: 'cigars', 1083: 'underpants', 1084: 'bagged', 1085: 'homer_simpson:', 1086: 'monday', 1087: \"high-falutin'\", 1088: 'looooooooooooooooooong', 1089: 'getaway', 1090: 'moustache', 1091: 'slaves', 1092: 'tv', 1093: 'blood', 1094: 'half', 1095: 'successful', 1096: 'cheerleaders:', 1097: 'days', 1098: 'cleaning', 1099: 'whee', 1100: 'players', 1101: 'sometime', 1102: 'strips', 1103: 'captain:', 1104: 'showing', 1105: 'cupid', 1106: 'open', 1107: 'wad', 1108: \"weren't\", 1109: 'showed', 1110: 'shoots', 1111: 'seeing', 1112: 'creme', 1113: 'dennis_kucinich:', 1114: 'bobo', 1115: 'tin', 1116: 'wussy', 1117: 'ireland', 1118: 'grabbing', 1119: 'effect', 1120: 'bold', 1121: 'brunswick', 1122: 'welcome', 1123: 'egg', 1124: 'own', 1125: 'large', 1126: 'stupidly', 1127: 'puts', 1128: 'potatoes', 1129: 'rice', 1130: 'lewis', 1131: 'asking', 1132: 'unrelated', 1133: \"he's\", 1134: 'entirely', 1135: 'loafers', 1136: 'loneliness', 1137: 'madison', 1138: \"'now\", 1139: 'david', 1140: 'possessions', 1141: 'suing', 1142: \"didn't\", 1143: 'mudflap', 1144: 'spelling', 1145: 'gently', 1146: 'predictable', 1147: 'rancid', 1148: 'figures', 1149: 'opening', 1150: 'lists', 1151: 'f-l-a-n-r-d-s', 1152: 'gator', 1153: 'muscle', 1154: 'me', 1155: 'hers', 1156: 'fluoroscope', 1157: 'celebrity', 1158: 'gotta', 1159: 'an', 1160: 'terrorizing', 1161: 'wrong', 1162: 'squashing', 1163: 'whoopi', 1164: 'got', 1165: 'morning-after', 1166: 'pre-columbian', 1167: 'conclusions', 1168: 'organ', 1169: 'golden', 1170: \"aristotle's\", 1171: 'liven', 1172: 'army', 1173: 'explain', 1174: 'letters', 1175: 'noose', 1176: 'lime', 1177: 'boggs', 1178: 'bitter', 1179: 'dee-fense', 1180: 'cage', 1181: 'problem', 1182: 'examples', 1183: 'really', 1184: \"'morning\", 1185: 'treehouse', 1186: 'gifts', 1187: 'life-partner', 1188: 'skeptical', 1189: \"what'sa\", 1190: 'guilt', 1191: 'snow', 1192: 'barbed', 1193: 'liability', 1194: 'cheaped', 1195: 'blows', 1196: 'deal', 1197: 'lend', 1198: 'art', 1199: 'bridges', 1200: 'hoax', 1201: 'whale', 1202: 'oooo', 1203: 'malabar', 1204: 'tiny', 1205: 'schabadoo', 1206: 'general', 1207: 'militia', 1208: 'exit', 1209: 'little', 1210: 'goodnight', 1211: 'distributor', 1212: 'outstanding', 1213: 'shape', 1214: 'enter', 1215: 'smoke', 1216: 'butts', 1217: 'her', 1218: 'strong', 1219: 'throw', 1220: 'prejudice', 1221: 'king', 1222: 'heart-broken', 1223: 'springfield', 1224: 'jamaican', 1225: 'sky', 1226: 'tell', 1227: 'nash', 1228: 'funeral', 1229: 'starla:', 1230: 'righ', 1231: 'man_with_crazy_beard:', 1232: 'ronstadt', 1233: 'nightmare', 1234: 'line', 1235: 'pit', 1236: 'toxins', 1237: 'huge', 1238: 'intelligent', 1239: 'enhance', 1240: 'through', 1241: 'pugilist', 1242: 'coming', 1243: 'feeling', 1244: 'theatrical', 1245: 'hugh:', 1246: \"callin'\", 1247: 'making', 1248: 'thunder', 1249: 'pass', 1250: 'peaked', 1251: 'had', 1252: 'quitcher', 1253: 'incognito', 1254: 'arise', 1255: 'wrapped', 1256: 'gum', 1257: 'babar', 1258: 'um', 1259: 'cricket', 1260: 'juke', 1261: 're-al', 1262: 'trail', 1263: 'old', 1264: 'angrily', 1265: 'serve', 1266: 'dгјff', 1267: 'heatherton', 1268: \"don'tcha\", 1269: 'stay-puft', 1270: 'duffman', 1271: 'spouses', 1272: 'life:', 1273: \"puttin'\", 1274: 'nahasapeemapetilon', 1275: 'cut', 1276: 'paid', 1277: 'rector', 1278: 'ye', 1279: 'nothing', 1280: 'position', 1281: 'onion', 1282: 'anyway', 1283: 'overturned', 1284: 'sandwich', 1285: 'spite', 1286: 'trunk', 1287: \"chewin'\", 1288: 'whoo', 1289: 'skirt', 1290: 'threw', 1291: 'jogging', 1292: 'smithers', 1293: \"readin'\", 1294: 'leg', 1295: 'disappeared', 1296: 'groin', 1297: 'vote', 1298: 'grumpy', 1299: 'became', 1300: 'chief', 1301: 'nitwit', 1302: 'wolfe', 1303: 'belches', 1304: 'aunt', 1305: 'frozen', 1306: 'padres', 1307: 'peppy', 1308: 'whisper', 1309: \"i-i'll\", 1310: 'design', 1311: 'sen', 1312: 'viva', 1313: 'reasonable', 1314: 'commission', 1315: \"everyone's\", 1316: 'ratted', 1317: 'betrayed', 1318: 'poin-dexterous', 1319: 'grandг©', 1320: 'sickly', 1321: \"summer's\", 1322: 'tony', 1323: 'mason', 1324: 'ow', 1325: 'forbids', 1326: 'betcha', 1327: 'peanuts', 1328: 'laugh', 1329: 'burn', 1330: 'girls', 1331: 'straighten', 1332: 'sat', 1333: 'years', 1334: 'missing', 1335: \"must've\", 1336: 'care', 1337: 'genuinely', 1338: 'hits', 1339: 'chilly', 1340: 'sympathetic', 1341: 'blank', 1342: 'unhappy', 1343: 'shyly', 1344: 'ten', 1345: 'dynamite', 1346: 'invented', 1347: 'bag', 1348: 'showered', 1349: '||comma||', 1350: 'ugly', 1351: 'early', 1352: 'rent', 1353: 'wow', 1354: 'adult', 1355: \"cont'd:\", 1356: 'seas', 1357: 'yourself', 1358: 'met', 1359: 'giant', 1360: 'wayne:', 1361: 'super-nice', 1362: 'unlucky', 1363: \"nixon's\", 1364: 'cheer', 1365: 'lemme', 1366: 'paint', 1367: 'grow', 1368: 'tapping', 1369: 'saved', 1370: 'doooown', 1371: 'center', 1372: \"stayin'\", 1373: 'drapes', 1374: 'and-and', 1375: 'pas', 1376: 'ground', 1377: 'buffalo', 1378: \"havin'\", 1379: 'exact', 1380: 'lie', 1381: 'opportunity', 1382: 'confidentially', 1383: 'drawing', 1384: 'cross-country', 1385: 'ehhh', 1386: 'bread', 1387: 'keeping', 1388: 'unfresh', 1389: 'bar:', 1390: 'sweat', 1391: 'wrap', 1392: 'recipe', 1393: 'collapse', 1394: 'high', 1395: \"wonderin'\", 1396: 'phrase', 1397: \"money's\", 1398: \"it's\", 1399: \"someone's\", 1400: 'prizefighters', 1401: 'barter', 1402: 'agnes_skinner:', 1403: 'numbers', 1404: 'desperately', 1405: 'unkempt', 1406: 'western', 1407: 'mmm-hmm', 1408: 'knew', 1409: 'than', 1410: 'frustrated', 1411: \"g'ahead\", 1412: 'kemi:', 1413: 'outrageous', 1414: 'precious', 1415: 'simon', 1416: 'breath', 1417: 'de-scramble', 1418: \"foolin'\", 1419: 'griffith', 1420: 'ninety-seven', 1421: 'himself', 1422: 'boozebag', 1423: 'depressed', 1424: \"talkin'\", 1425: 'asks', 1426: 'heaving', 1427: 'handshake', 1428: 'sequel', 1429: 'calendars', 1430: 'often', 1431: 'streetlights', 1432: 'accent', 1433: 'little_hibbert_girl:', 1434: 'visas', 1435: 'pulitzer', 1436: 'windshield', 1437: 'new_health_inspector:', 1438: 'ah-ha', 1439: 'daaaaad', 1440: \"somebody's\", 1441: 'spine', 1442: 'shares', 1443: 'yee-ha', 1444: 'jail', 1445: 'group', 1446: 'legs', 1447: 'inside', 1448: 'groans', 1449: 'la', 1450: 'fact', 1451: 'fridge', 1452: 'grocery', 1453: 'e-z', 1454: 'name:', 1455: 'mumble', 1456: 'knowledge', 1457: 'jeff_gordon:', 1458: 'spilled', 1459: 'reached', 1460: 'chosen', 1461: 'breathalyzer', 1462: 'sector', 1463: \"mother's\", 1464: 'dyspeptic', 1465: 'night', 1466: \"meanin'\", 1467: 'ehhhhhhhhh', 1468: \"idea's\", 1469: 'ideas', 1470: 'mommy', 1471: 'hotline', 1472: 'question', 1473: 'soot', 1474: 'branding', 1475: 'bucket', 1476: 'thanks', 1477: 'began', 1478: 'yeah', 1479: 'service', 1480: 'urine', 1481: 'rapidly', 1482: 'sniffles', 1483: 'gloop', 1484: 'back', 1485: 'limber', 1486: 'weird', 1487: 'matter-of-fact', 1488: 'settles', 1489: 'awkward', 1490: 'housework', 1491: 'ducked', 1492: 'save', 1493: 'novelty', 1494: 'three-man', 1495: 'thirty-nine', 1496: 'reluctant', 1497: 'edna-lover-one-seventy-two', 1498: 'threatening', 1499: 'pizza', 1500: 'couple', 1501: 'crime', 1502: 'key', 1503: 'effigy', 1504: 'roy', 1505: 'flowers', 1506: 'happened', 1507: 'sesame', 1508: 'dr', 1509: 'thesaurus', 1510: 'flustered', 1511: 'brace', 1512: 'absorbent', 1513: 'barney-type', 1514: 'semi-imported', 1515: \"others'\", 1516: \"'bout\", 1517: 'fat_tony:', 1518: 'eager', 1519: 'kicked', 1520: 'unsafe', 1521: 'feisty', 1522: 'modest', 1523: 'aims', 1524: \"tap-pullin'\", 1525: 'panicky', 1526: 'five', 1527: 'share', 1528: 'believe', 1529: 'night-crawlers', 1530: 'lenny_leonard:', 1531: 'massage', 1532: \"rasputin's\", 1533: 'shot', 1534: \"guy's\", 1535: 'police', 1536: \"pickin'\", 1537: 'modestly', 1538: 'pawed', 1539: '_kissingher:', 1540: 'carny:', 1541: \"we're\", 1542: 'speech', 1543: 'lovejoy', 1544: 'bills', 1545: 'bart', 1546: \"listenin'\", 1547: 'closet', 1548: 'skins', 1549: 'feedbag', 1550: 'confused', 1551: 'clams', 1552: 'signed', 1553: 'disappointment', 1554: 'drive', 1555: 'outlive', 1556: 'upgrade', 1557: 'fix', 1558: 'guzzles', 1559: 'stink', 1560: 'guys', 1561: 'certainly', 1562: 'chic', 1563: 'cherry', 1564: 'ned_flanders:', 1565: 'wholeheartedly', 1566: 'naval', 1567: \"costume's\", 1568: 'occupied', 1569: 'accidents', 1570: 'timbuk-tee', 1571: 'putty', 1572: 'addiction', 1573: 'sleeps', 1574: 'bunion', 1575: \"handwriting's\", 1576: '||quotation_mark||', 1577: 'frink', 1578: 'theme', 1579: 'dum-dum', 1580: 'x-men', 1581: 'authorized', 1582: 'his', 1583: 'slight', 1584: 'vermont', 1585: 'considering', 1586: 'dinner', 1587: 'story', 1588: 'cause', 1589: 'jer', 1590: 'ned', 1591: 'pouring', 1592: 'engine', 1593: 'muffled', 1594: 'conspiracy', 1595: 'wanted', 1596: 'past', 1597: 'log', 1598: \"doin'\", 1599: 'column', 1600: 'yelling', 1601: 'absolut', 1602: 'drinker', 1603: 'adrift', 1604: 'soft', 1605: 'sharity', 1606: 'rome', 1607: 'pudgy', 1608: 'winch', 1609: 'curds', 1610: 'sexy', 1611: 'murdered', 1612: 'slays', 1613: 'glum', 1614: 'laughing', 1615: 'derisive', 1616: 'next', 1617: 'testing', 1618: 'barney', 1619: 'lights', 1620: 'contemplates', 1621: 'asleep', 1622: 'breathless', 1623: 'inclination', 1624: 'troubles', 1625: 'taps', 1626: 'terrifying', 1627: 'sleep', 1628: 'swill', 1629: 'odor', 1630: 'hobo', 1631: 'cheesecake', 1632: 'beady', 1633: 'mm-hmm', 1634: 'refresh', 1635: 'darn', 1636: 'sarcastic', 1637: 'miles', 1638: 'tons', 1639: 'break', 1640: 'conditioners', 1641: 'direction', 1642: 'greatest', 1643: 'stranger:', 1644: 'larson', 1645: \"ya'\", 1646: 'items', 1647: 'repeated', 1648: 'ziff', 1649: 'sob', 1650: 'sweden', 1651: 'recall', 1652: 'talked', 1653: 'sale', 1654: 'honey', 1655: 'community', 1656: 'clothespins:', 1657: 'little_man:', 1658: 'clearly', 1659: 'l', 1660: 'partners', 1661: 'agents', 1662: 'simpsons', 1663: 'solo', 1664: 'customer', 1665: \"'kay-zugg'\", 1666: 'counterfeit', 1667: 'disillusioned', 1668: 'squeals', 1669: 'made', 1670: 'slick', 1671: 'ignoring', 1672: 'tempting', 1673: 'taking', 1674: 'jackass', 1675: \"heat's\", 1676: 'teach', 1677: 'wore', 1678: 'irishman', 1679: 'sniffs', 1680: 'seymour_skinner:', 1681: 'plaintive', 1682: 'inherent', 1683: 'realized', 1684: 'buzz', 1685: 'kirk_voice_milhouse:', 1686: 'annoyed', 1687: 'cozies', 1688: 'keep', 1689: 'alec_baldwin:', 1690: 'wienerschnitzel', 1691: 'wipe', 1692: 'bible', 1693: 'industry', 1694: 'red', 1695: 'boys', 1696: 'assassination', 1697: 'saucy', 1698: 'lost', 1699: 'cock', 1700: 'virile', 1701: 'cobbling', 1702: 'thank', 1703: 'wish', 1704: 'ummmmmmmmm', 1705: 'toledo', 1706: 'hilarious', 1707: 'gasoline', 1708: 'necessary', 1709: 'everyday', 1710: 'idiot', 1711: 'advertising', 1712: 'unsourced', 1713: 'shack', 1714: 'gardens', 1715: 'wha', 1716: 'twice', 1717: 'adopted', 1718: 'marjorie', 1719: 'cracked', 1720: 'bubble', 1721: 'coach:', 1722: 'infestation', 1723: 'iranian', 1724: 'bathing', 1725: 'yard', 1726: 'cowardly', 1727: 'newsies', 1728: 'sec_agent_#2:', 1729: 'pumping', 1730: 'faint', 1731: 'planted', 1732: 'tick', 1733: 'pinball', 1734: 'situation', 1735: 'wreck', 1736: 'sixteen', 1737: 'noble', 1738: \"thinkin'\", 1739: 'inquiries', 1740: 'remembers', 1741: 'hottest', 1742: \"y'see\", 1743: 'superhero', 1744: 'tolerance', 1745: 'telegraph', 1746: 'impending', 1747: 'darjeeling', 1748: 'knuckle-dragging', 1749: 'signal', 1750: 'same', 1751: 'cheering', 1752: 'and:', 1753: 'sanitation', 1754: 'klingon', 1755: 'disgraceful', 1756: 'repairman', 1757: 'suspiciously', 1758: 'reunion', 1759: \"toot's\", 1760: 'perfume', 1761: 'quero', 1762: 'never', 1763: 'crummy', 1764: 'spy', 1765: 'encouraged', 1766: 'anyone', 1767: 'puzzle', 1768: \"disrobin'\", 1769: 'voodoo', 1770: 'bucks', 1771: 'cruel', 1772: \"liberty's\", 1773: 'tapestry', 1774: 'herself', 1775: 'coffee', 1776: 'hat', 1777: 'rat-like', 1778: 'germans', 1779: 'supposed', 1780: 'agency', 1781: 'cab', 1782: 'eh', 1783: 'disposal', 1784: 'creepy', 1785: 'reentering', 1786: 'read', 1787: 'silent', 1788: 'done:', 1789: 'nobody', 1790: 'apron', 1791: 'embarrassed', 1792: 'turned', 1793: 'butterball', 1794: 'grain', 1795: 'horror', 1796: 'filed', 1797: 'porn', 1798: 'regulars', 1799: 'neighbor', 1800: 'perplexed', 1801: 'regulations', 1802: 'getup', 1803: 'wistful', 1804: 'stickers', 1805: 'regret', 1806: 'grade', 1807: 'crow', 1808: 'krabappel', 1809: 'advertise', 1810: 'gimmicks', 1811: 'happily', 1812: 'lay', 1813: 'calm', 1814: 'len-ny', 1815: 'beard', 1816: 'gift', 1817: 'young_barfly:', 1818: 'shakespeare', 1819: \"changin'\", 1820: \"moe's\", 1821: 'dumb', 1822: 'mmmmm', 1823: 'louder', 1824: 'dollars', 1825: 'issuing', 1826: 'deli', 1827: 'twenty-four', 1828: 'upset', 1829: 'lodge', 1830: 'him', 1831: \"hawkin'\", 1832: 'updated', 1833: \"school's\", 1834: 'meaning', 1835: 'microphone', 1836: 'fonzie', 1837: 'sanitary', 1838: 'con', 1839: 'voicemail', 1840: 'detective_homer_simpson:', 1841: 'sisters', 1842: 'punishment', 1843: 'pour', 1844: 'gangrene', 1845: 'meant', 1846: 'coal', 1847: 'tree', 1848: 'song', 1849: 'thinks', 1850: '||return||', 1851: 'ails', 1852: 'bee', 1853: 'frenchman', 1854: 'passenger', 1855: 'totally', 1856: 'surgeonnn', 1857: 'wayne', 1858: '50-60', 1859: 'gentleman:', 1860: 'value', 1861: 'washouts', 1862: 'woo-hoo', 1863: 'scruffy_blogger:', 1864: 'bits', 1865: 'burt', 1866: 'shindig', 1867: 'grinch', 1868: 'imaginary', 1869: 'medieval', 1870: 'blooded', 1871: 'a-b-', 1872: 'hears', 1873: 'homie', 1874: 'occasion', 1875: 'remaining', 1876: 'stupidest', 1877: 'file', 1878: 'spitting', 1879: 'tablecloth', 1880: 'accept', 1881: 'skinner', 1882: 'troy', 1883: 'but', 1884: 'confession', 1885: 'measurements', 1886: 'oblongata', 1887: 'entrance', 1888: 'small_boy:', 1889: \"carl's\", 1890: 'most', 1891: 'pleasure', 1892: 'water', 1893: 'respect', 1894: 'said:', 1895: 'jerking', 1896: 'goldarnit', 1897: 'contented', 1898: 'gutenberg', 1899: 'ago', 1900: 'score', 1901: 'enforced', 1902: 'when-i-get-a-hold-of-you', 1903: 'wishing', 1904: 'rebuilt', 1905: 'artie', 1906: 'renee:', 1907: 'wakede', 1908: 'cheated', 1909: 'notably', 1910: 'hidden', 1911: 'movie', 1912: 'plain', 1913: 'alfred', 1914: 'colossal', 1915: 'equal', 1916: 'want', 1917: 'chief_wiggum:', 1918: 'nigerian', 1919: 'passed', 1920: 'yell', 1921: 'laughter', 1922: 'lookalikes', 1923: 'hot', 1924: 'appear', 1925: 'colonel:', 1926: 'handler', 1927: 'door', 1928: 'voice:', 1929: 'delivery_boy:', 1930: 'beers', 1931: 'expose', 1932: 'tofu', 1933: \"fryer's\", 1934: 'should', 1935: 'polishing', 1936: 'dishonor', 1937: 'bathed', 1938: '_timothy_lovejoy:', 1939: 'simpson', 1940: \"'round\", 1941: 'jukebox', 1942: 'quiet', 1943: 'glove', 1944: \"i'll\", 1945: 'uncreeped-out', 1946: 'away', 1947: 'form', 1948: 'boozer', 1949: 'ambrosia', 1950: 'jacksons', 1951: 'brilliant', 1952: 'kids', 1953: \"can'tcha\", 1954: \"father's\", 1955: \"i'unno\", 1956: \"mo'\", 1957: 'depressant', 1958: 'justify', 1959: 'gonna', 1960: 'kiss', 1961: 'lucky', 1962: 'year', 1963: 'freed', 1964: 'poem', 1965: 'fears', 1966: 'bob', 1967: 'moon', 1968: 'ambrose', 1969: 'life-extension', 1970: 'super-tough', 1971: 'las', 1972: 'gone', 1973: 'solely', 1974: 'chauffeur', 1975: \"stealin'\", 1976: 'party', 1977: 'winces', 1978: 'deep', 1979: 'discussing', 1980: 'cliff', 1981: 'left', 1982: 'juan', 1983: 'duke', 1984: 'portfolium', 1985: 'dint', 1986: 'answer', 1987: 'grimly', 1988: 'stones', 1989: 'craphole', 1990: 'confident', 1991: 'level', 1992: 'pillows', 1993: 'walther_hotenhoffer:', 1994: 'plucked', 1995: 'witty', 1996: 'proper', 1997: 'fixes', 1998: 'monorails', 1999: 'barstools', 2000: 'tactful', 2001: 'platinum', 2002: \"gettin'\", 2003: 'frogs', 2004: 'pain', 2005: 'haplessly', 2006: 'victim', 2007: 'duff', 2008: 'attractive_woman_#1:', 2009: 'sabermetrics', 2010: 'corporate', 2011: 'rev', 2012: '8', 2013: 'haws', 2014: 'hyper-credits', 2015: 'maude', 2016: 'toy', 2017: 'worldly', 2018: 'm', 2019: 'mid-seventies', 2020: 'trees', 2021: 'low-life', 2022: \"squeezin'\", 2023: 'triumphantly', 2024: 'smooth', 2025: 'videotaped', 2026: 'wrecking', 2027: 'sneeze', 2028: 'fragile', 2029: 'massive', 2030: 'fica', 2031: 'tomato', 2032: 'kool', 2033: \"she'll\", 2034: 'closes', 2035: 'sacrilicious', 2036: 'barn', 2037: 'laid', 2038: 'grease', 2039: \"fightin'\", 2040: 'ignorant', 2041: 'inning', 2042: 'lucinda', 2043: 'loboto-moth', 2044: 'computer_voice_2:', 2045: 'pennies', 2046: 'elmer', 2047: 'swell', 2048: 'instrument', 2049: 'germany', 2050: 'railroads', 2051: 'y-you', 2052: 'beef', 2053: 'using', 2054: 'slipped', 2055: 'dexterous', 2056: 'michael_stipe:', 2057: 'busiest', 2058: 'injury', 2059: 'director', 2060: 'gabriel', 2061: 'leno', 2062: 'whoa-ho', 2063: 'planning', 2064: 'better', 2065: 'mayor', 2066: 'el', 2067: 'sausage', 2068: 'comes', 2069: 'fights', 2070: 'touches', 2071: '70', 2072: 'hiring', 2073: \"isn't\", 2074: 'mill', 2075: 'sam:', 2076: 'brine', 2077: 'week', 2078: 'grunts', 2079: 'trash', 2080: 'attached', 2081: 'desperate', 2082: 'compliments', 2083: 'box', 2084: 'address', 2085: 'willy', 2086: 'forty-seven', 2087: 'mop', 2088: 'championship', 2089: 'th', 2090: 'bleeding', 2091: 'dislike', 2092: 'kang:', 2093: 'hm', 2094: 'artie_ziff:', 2095: 'holidays', 2096: 'quebec', 2097: 'grateful', 2098: 'dawning', 2099: 'schnapps', 2100: 'game', 2101: 'impatient', 2102: 'who-o-oa', 2103: 'dashes', 2104: 'scarf', 2105: 'tired', 2106: 'minister', 2107: 'dame', 2108: 'sighs', 2109: 'meyerhof', 2110: 'dealt', 2111: 'greystash', 2112: 'space-time', 2113: 'soir', 2114: 'class', 2115: 'dumbbell', 2116: 'musta', 2117: 'naturally', 2118: 'capuchin', 2119: 'father', 2120: 'into', 2121: 'pretzel', 2122: 'plastered', 2123: 'frankenstein', 2124: 'brow', 2125: 'lenny:', 2126: 'telling', 2127: 'contemporary', 2128: '91', 2129: 'shows', 2130: 'stock', 2131: 'waste', 2132: 'dana_scully:', 2133: 'selma_bouvier:', 2134: 'forty-nine', 2135: 'suburban', 2136: 'payments', 2137: 'ninety-six', 2138: 'cummerbund', 2139: 'cueball', 2140: 'support', 2141: 'application', 2142: 'brainiac', 2143: 'attack', 2144: 'dryer', 2145: 'acting', 2146: 'remembered', 2147: 'cigarettes', 2148: 'placed', 2149: 'star', 2150: 'savings', 2151: \"team's\", 2152: 'delighted', 2153: 'yelp', 2154: 'dennis', 2155: 'barney_gumble:', 2156: 'knock-up', 2157: 'crestfallen', 2158: 'phase', 2159: 'bastard', 2160: 'jump', 2161: 'mull', 2162: 'tells', 2163: 'ohh', 2164: 'you', 2165: 'hostile', 2166: 'everybody', 2167: 'duffed', 2168: 'cell-ee', 2169: 'rockers', 2170: 'being', 2171: 'frink-y', 2172: \"goin'\", 2173: 'digging', 2174: 'starlets', 2175: 'tiger', 2176: 'reaction', 2177: 'authenticity', 2178: \"betsy'll\", 2179: 'resenting', 2180: 'root', 2181: 'hah', 2182: 'warning', 2183: 'dumpster', 2184: 'pinchpenny', 2185: 'ceremony', 2186: 'delivery', 2187: \"soakin's\", 2188: 'fire', 2189: 'word', 2190: 'woo', 2191: 'older', 2192: 'name', 2193: 'perverted', 2194: 'wagering', 2195: \"when's\", 2196: 'test', 2197: 'larry:', 2198: 'fighting', 2199: 'ali', 2200: 'disguised', 2201: 'prompting', 2202: 'aghast', 2203: 'patron_#1:', 2204: 'derek', 2205: 'pretentious_rat_lover:', 2206: \"g'night\", 2207: 'puke', 2208: 'poetry', 2209: 'placing', 2210: 'caholic', 2211: \"you're\", 2212: 'single', 2213: 'head-gunk', 2214: 'yellow-belly', 2215: 'edner', 2216: 'ralph_wiggum:', 2217: 'later', 2218: 'chub', 2219: 'buds', 2220: 'stuck', 2221: 'knife', 2222: 'serum', 2223: 'poet', 2224: 'sketching', 2225: 'candles', 2226: 'slab', 2227: 'ralphie', 2228: 'al', 2229: 'population', 2230: 'half-back', 2231: 'fustigation', 2232: 'lookalike', 2233: 'teenage_bart:', 2234: \"startin'\", 2235: 'pointedly', 2236: 'smile:', 2237: '1895', 2238: 'canyoner-oooo', 2239: 'slim', 2240: 'filled', 2241: 'moonlight', 2242: 'sugar-free', 2243: 'prayers', 2244: \"moe's_thoughts:\", 2245: 'halfway', 2246: 'suspicious', 2247: 'emotion', 2248: \"sayin'\", 2249: 'hare-brained', 2250: 'mug', 2251: 'intoxicants', 2252: 'certified', 2253: 'vomit', 2254: 'perverse', 2255: 'notices', 2256: 'basement', 2257: \"she's\", 2258: 'shades', 2259: 'operation', 2260: 'here-here-here', 2261: \"city's\", 2262: 'statistician', 2263: 'drunk', 2264: 'football', 2265: 'nuclear', 2266: 'lanes', 2267: 'over-pronouncing', 2268: 'principal', 2269: 'hurt', 2270: 'bauer', 2271: 'dregs', 2272: 'minimum', 2273: \"time's\", 2274: 'languages', 2275: 'look', 2276: 'five-fifteen', 2277: 'race', 2278: 'guess', 2279: 'winston', 2280: 'pathetic', 2281: 'wood', 2282: 'gore', 2283: 'carlson', 2284: 'pull', 2285: 'marquee', 2286: 'folk', 2287: 'twenty-six', 2288: 'if', 2289: 'dignity', 2290: \"s'pose\", 2291: 'pocket', 2292: 'lighting', 2293: \"renovatin'\", 2294: 'meatpies', 2295: 'mailbox', 2296: 'scornful', 2297: 'stored', 2298: 'this', 2299: 'waking-up', 2300: 'charter', 2301: 'used', 2302: 'nation', 2303: 'i', 2304: 'fill', 2305: 'watched', 2306: 'refreshment', 2307: 'wiggum', 2308: 'sees/', 2309: 'tree_hoper:', 2310: 'mountain', 2311: 'jay:', 2312: 'human', 2313: 'uneasy', 2314: 'agent_miller:', 2315: 'sitcom', 2316: 'dealer', 2317: 'table', 2318: \"bein'\", 2319: 'united', 2320: 'cartoons', 2321: \"shootin'\", 2322: 'beast', 2323: 'worse', 2324: 'goal', 2325: 'amazing', 2326: 'health', 2327: \"burnin'\", 2328: 'sooner', 2329: 'royal', 2330: 'act', 2331: 'utensils', 2332: 'jerky', 2333: 'wacky', 2334: 'flayvin', 2335: 'salad', 2336: 'strongly', 2337: 'slugger', 2338: 'teenage', 2339: 'saint', 2340: 'much', 2341: 'skoal', 2342: 'congoleum', 2343: 'heave-ho', 2344: 'chapel', 2345: 'invisible', 2346: 'stinger', 2347: \"snappin'\", 2348: 'bottle', 2349: 'wasted', 2350: 'napkins', 2351: 'awed', 2352: 'heartily', 2353: 'arab_man:', 2354: 'hardwood', 2355: 'rafter', 2356: 'neck', 2357: 'sat-is-fac-tion', 2358: 'nascar', 2359: 'james', 2360: 'front', 2361: 'liable', 2362: 'supply', 2363: 'flynt', 2364: 'nordiques', 2365: 'skunk', 2366: 'sang', 2367: 'jam', 2368: 'people', 2369: 'kenny', 2370: 'stay', 2371: 'squeal', 2372: \"lisa's\", 2373: 'dropping', 2374: 'meaningfully', 2375: 'presided', 2376: 'swelling', 2377: 'awwww', 2378: 'twenty-two', 2379: 'considers', 2380: 'apply', 2381: 'rivalry', 2382: 'count', 2383: 'scientists', 2384: 'thawing', 2385: 'expect', 2386: 'owned', 2387: 'romantic', 2388: 'sistine', 2389: 'drawer', 2390: 'local', 2391: 'consulting', 2392: 'disappear', 2393: 'ads', 2394: 'savagely', 2395: 'jacks', 2396: 'handoff', 2397: 'against', 2398: \"o'reilly\", 2399: \"tonight's\", 2400: 'rope', 2401: 'researching', 2402: 'none', 2403: 'dressing', 2404: 'whiny', 2405: 'w', 2406: 'vengeful', 2407: 'knees', 2408: 'envy-tations', 2409: 'vanities', 2410: 'casting', 2411: 'refinanced', 2412: 'here', 2413: 'our', 2414: 'luxury', 2415: 'horses', 2416: 'co-sign', 2417: \"s'cuse\", 2418: 'nevada', 2419: 'grand', 2420: 'power', 2421: 'church', 2422: 'sweetheart', 2423: 'judge_snyder:', 2424: 'pope', 2425: 'tee', 2426: 'aid', 2427: 'hiding', 2428: 'arse', 2429: 'blade', 2430: 'prayer', 2431: 'ashtray', 2432: 'ragtime', 2433: 'emergency', 2434: 'grudgingly', 2435: 'dizzy', 2436: 'delete', 2437: 'fruit', 2438: 'sangre', 2439: 'doors', 2440: 'hunter', 2441: 'outlook', 2442: 'giggles', 2443: 'sweaty', 2444: 'grunt', 2445: 'shotgun', 2446: 'fired', 2447: 'thumb', 2448: 'sorry', 2449: 'ideal', 2450: 'do', 2451: 'explaining', 2452: 'occurred', 2453: 'shout', 2454: 'absolutely', 2455: 'tonight', 2456: 'hate-hugs', 2457: \"professor's\", 2458: 'bumpy-like', 2459: 'dimly', 2460: 'generally', 2461: 'stooges', 2462: 'low', 2463: 'ze-ro', 2464: 'bedroom', 2465: 'hitler', 2466: 'delicately', 2467: 'dancing', 2468: \"bettin'\", 2469: 'pushes', 2470: 'slice', 2471: 'clothespins', 2472: 'brakes', 2473: 'anybody', 2474: 'annoying', 2475: 'bindle', 2476: 'involved', 2477: 'youse', 2478: 'intervention', 2479: 'anyhow', 2480: 'spits', 2481: 'drop', 2482: 'shrugs', 2483: 'brewed', 2484: 'staying', 2485: 'woman_bystander:', 2486: 'wonderful', 2487: 'pickle', 2488: 'parents', 2489: 'bell', 2490: \"o'clock\", 2491: 'williams', 2492: 'tying', 2493: 'pills', 2494: 'rig', 2495: \"valentine's\", 2496: 'enthused', 2497: 'good', 2498: 'deadly', 2499: 'appealing', 2500: 'korea', 2501: 'sweeter', 2502: 'princess', 2503: 'cheryl', 2504: 'cushion', 2505: 'finance', 2506: 'you-need-man', 2507: 'drunkenly', 2508: 'doll', 2509: 'wine', 2510: 'jerk-ass', 2511: 'johnny', 2512: 'inches', 2513: 'womb', 2514: 'patron_#2:', 2515: 'dangerous', 2516: 'shocked', 2517: 'beyond', 2518: 'micronesian', 2519: 'selma', 2520: 'kicks', 2521: 'norway', 2522: 'while', 2523: 'flaking', 2524: 'named', 2525: 'young_homer:', 2526: 'augustus', 2527: \"world's\", 2528: \"what're\", 2529: 'moved', 2530: 'bloodball', 2531: 'tried', 2532: 'indicates', 2533: 'hearse', 2534: 'quick-like', 2535: 'earlier', 2536: 'wage', 2537: 'droning', 2538: 'its', 2539: 'offer', 2540: 'softer', 2541: 'use', 2542: 'rock', 2543: 'denver', 2544: 'unintelligent', 2545: 'suspect', 2546: 'togetherness', 2547: 'snotty', 2548: 'blue', 2549: 'whistles', 2550: 'agree', 2551: 'insightful', 2552: 'jockey', 2553: 'voice_on_transmitter:', 2554: 'convinced', 2555: 'two-thirds-empty', 2556: 'mission', 2557: 'dads', 2558: 'supermarket', 2559: 'bury', 2560: 'stagehand:', 2561: 'hops', 2562: 'fans', 2563: 'running', 2564: 'tracks', 2565: 'bigger', 2566: 'presto:', 2567: 'quarterback', 2568: 'moe_recording:', 2569: 'switched', 2570: 'problemo', 2571: 'whaddya', 2572: 'sell', 2573: \"america's\", 2574: 'dismissive', 2575: 'covering', 2576: 'lard', 2577: 'stunned', 2578: 'finding', 2579: 'careful', 2580: 'cursed', 2581: 'courthouse', 2582: 'glad', 2583: 'devils:', 2584: 'saving', 2585: 'microwave', 2586: 'reserved', 2587: 'sturdy', 2588: 'lenford', 2589: 'super-genius', 2590: 'stalin', 2591: \"waitin'\", 2592: 'term', 2593: 'falsetto', 2594: 'permanent', 2595: 'milhouse_van_houten:', 2596: 'thought_bubble_lenny:', 2597: 'hose', 2598: 'take-back', 2599: 'forehead', 2600: 'priority', 2601: 'dough', 2602: 'offa', 2603: 'gordon', 2604: 'louie:', 2605: 'of', 2606: 'exasperated', 2607: 'assistant', 2608: 'website', 2609: 'beached', 2610: 'which', 2611: '||question_mark||', 2612: 'hanging', 2613: 'faded', 2614: 'szyslak', 2615: 'learned', 2616: 'chipped', 2617: 'friend:', 2618: 'partner', 2619: \"buyin'\", 2620: 'luckily', 2621: 'obvious', 2622: 'steely-eyed', 2623: '/mr', 2624: 'title', 2625: 'pictured', 2626: 'sneaky', 2627: 'moe-lennium', 2628: 'end', 2629: 'gil_gunderson:', 2630: 'is', 2631: 'marriage', 2632: 'novel', 2633: 'bartender', 2634: 'hillbillies', 2635: 'versus', 2636: 'marge', 2637: 'thoughts', 2638: 'coast', 2639: 'extract', 2640: 'eightball', 2641: 'wheeeee', 2642: 'valuable', 2643: 'exited', 2644: 'closed', 2645: 'product', 2646: 'jay', 2647: 'steam', 2648: 'few', 2649: 'crowd:', 2650: 'smart', 2651: 'skinny', 2652: 'manager', 2653: 'bars', 2654: 'crystal', 2655: 'anguished', 2656: 'rainier', 2657: 'prettiest', 2658: 'choking', 2659: 'byrne', 2660: 'haw', 2661: 'landlord', 2662: 'cleaned', 2663: 'renew', 2664: 'montrer', 2665: 'spews', 2666: 'moonshine', 2667: 'wiener', 2668: \"renee's\", 2669: 'full-bodied', 2670: 'barney-guarding', 2671: 'sure', 2672: 'sued', 2673: 'patrons:', 2674: 'traditions', 2675: 'dejected', 2676: 'shark', 2677: \"how's\", 2678: 'tale', 2679: 'mail', 2680: 'drag', 2681: 'peter_buck:', 2682: 'whenever', 2683: 'managed', 2684: 'nightmares', 2685: 'directions', 2686: 'ears', 2687: \"challengin'\", 2688: \"it'd\", 2689: 'insulted', 2690: 'achebe', 2691: 'mostrar', 2692: 'dying', 2693: 'bumblebee_man:', 2694: 'career', 2695: \"friend's\", 2696: 'julep', 2697: 'eggshell', 2698: 'increasingly', 2699: 'example', 2700: 'part-time', 2701: 'peace', 2702: 'bank', 2703: 'considering:', 2704: 'zeal', 2705: 'kissingher', 2706: 'plywood', 2707: 'blowfish', 2708: 'tow-joes', 2709: 'writers', 2710: 'doppler', 2711: 'fistiana', 2712: 'grammar', 2713: 'expense', 2714: 'stained-glass', 2715: '_marvin_monroe:', 2716: 'black', 2717: 'introduce', 2718: 'muertos', 2719: 'unfortunately', 2720: 'rug', 2721: 'specific', 2722: 'memory', 2723: 'funniest', 2724: 'lousy', 2725: 'dreamed', 2726: 'flanders', 2727: 'all-all-all', 2728: 'bye', 2729: 'joint', 2730: 'losers', 2731: 'snout', 2732: 'record', 2733: 'freeze', 2734: 'oblivious', 2735: 'mmmm', 2736: 'superior', 2737: 'occupation', 2738: \"queen's\", 2739: 'cheat', 2740: 'sadistic_barfly:', 2741: 'easier', 2742: 'screw', 2743: 'oww', 2744: 'harvesting', 2745: 'loves', 2746: 'return', 2747: 'quotes', 2748: 'pick', 2749: 'imagine', 2750: 'horrified', 2751: 'inspire', 2752: 'occasional', 2753: 'random', 2754: 'uhhhh', 2755: 'sagacity', 2756: 'clap', 2757: 'sidelines', 2758: 'ivana', 2759: 'pleading', 2760: 'schemes', 2761: 'poster', 2762: 'leftover', 2763: 'brave', 2764: 'cards', 2765: 'tradition', 2766: 'sampler', 2767: 'sponsoring', 2768: 'failure', 2769: \"maggie's\", 2770: 'thomas', 2771: 'jeers', 2772: 'nigeria', 2773: 'chinese_restaurateur:', 2774: 'raise', 2775: 'resigned', 2776: 'bid', 2777: 'initially', 2778: 'stadium', 2779: 'fictional', 2780: 'cobra', 2781: 'singing', 2782: 'shells', 2783: 'maybe', 2784: 'sitting', 2785: 'lainie:', 2786: \"thing's\", 2787: \"who'll\", 2788: 'cake', 2789: 'beer-dorf', 2790: 'sheriff', 2791: 'non-american', 2792: 'newspaper', 2793: 'personal', 2794: 'chug-a-lug', 2795: 'whining', 2796: 'quimby_#2:', 2797: 'think', 2798: 'iran', 2799: 'change', 2800: 'permitting', 2801: 'faith', 2802: 'tinkle', 2803: 'occupancy', 2804: 'reading', 2805: 'hated', 2806: \"y'money's\", 2807: 'ding-a-ding-ding-a-ding-ding', 2808: 'per', 2809: \"family's\", 2810: 'technical', 2811: 'amber_dempsey:', 2812: 'customers-slash-only', 2813: \"fallin'\", 2814: 'reminds', 2815: 'house', 2816: 'mmm', 2817: 'composite', 2818: 'seven', 2819: 'spirit', 2820: 'foot', 2821: 'nerd', 2822: 'unforgettable', 2823: 'animals', 2824: 'tank', 2825: 'schorr', 2826: 'thing:', 2827: 'senator', 2828: 'sold', 2829: 'american', 2830: 'shrieks', 2831: 'fire_inspector:', 2832: 'comforting', 2833: 'background', 2834: 'audience', 2835: 'fit', 2836: 'decide:', 2837: 'helped', 2838: 'bon', 2839: 'shortcomings', 2840: 'notch', 2841: 'backing', 2842: 'fly', 2843: 'buy', 2844: 'sour', 2845: 'toss', 2846: \"hell's\", 2847: 'quick', 2848: 'eighty-one', 2849: 'fritz', 2850: 'reporter:', 2851: \"mecca's\", 2852: 'urinal', 2853: 'actually', 2854: 'gabriel:', 2855: 'applicant', 2856: 'caused', 2857: 'exchange', 2858: 'religion', 2859: 'botanical', 2860: \"industry's\", 2861: 'energy', 2862: 'dilemma', 2863: 'dash', 2864: 'muhammad', 2865: 'frat', 2866: 'rem', 2867: 'bourbon', 2868: 'teddy', 2869: 'billingsley', 2870: 'rumor', 2871: 'wishes', 2872: 'served', 2873: 'racially-diverse', 2874: 'lemonade', 2875: \"y'know\", 2876: \"beer's\", 2877: 'burns', 2878: 'november', 2879: 'since', 2880: 'foundation', 2881: 'sincerely', 2882: 'choked', 2883: 'damned', 2884: 'potato', 2885: 'shakes', 2886: 'wild', 2887: 'merchants', 2888: 'scent', 2889: 'sickens', 2890: 'colorado', 2891: 'woozy', 2892: 'popped', 2893: 'trapped', 2894: 'poor', 2895: 'fake', 2896: 'comment', 2897: 'clenched', 2898: 'west', 2899: \"tramp's\", 2900: 'stagy', 2901: 'news', 2902: 'golf', 2903: 'attracted', 2904: 'frosty', 2905: 'stories', 2906: 'festival', 2907: 'polish', 2908: 'nicer', 2909: 'mac-who', 2910: 'canyonero', 2911: 'awareness', 2912: 'there', 2913: 'w-a-3-q-i-zed', 2914: 'crapmore', 2915: 'espousing', 2916: 'wonder', 2917: 'relaxed', 2918: 'beans', 2919: 'arrange', 2920: 'jimmy', 2921: 'sprawl', 2922: 'sideshow_bob:', 2923: 'mirror', 2924: 'sign', 2925: 'view', 2926: 'dumbest', 2927: 'shesh', 2928: 'weep', 2929: 'liver', 2930: 'ridiculous', 2931: 'diets', 2932: 'wiggle-frowns', 2933: 'just', 2934: 'doreen', 2935: 'ram', 2936: 'third', 2937: 'street', 2938: 'nonsense', 2939: 'waitress', 2940: 'show', 2941: 'fair', 2942: 'nuts', 2943: 'wanna', 2944: 'stirrers', 2945: 'maggie', 2946: 'phlegm', 2947: 'right', 2948: 'dunno', 2949: 'expired', 2950: 'bulletin', 2951: 'cadillac', 2952: 'seriously', 2953: 'worry', 2954: 'nameless', 2955: 'sigh', 2956: 'gosh', 2957: \"they'll\", 2958: 'phone', 2959: 'acronyms', 2960: 'krusty', 2961: 'glee', 2962: 'go-near-', 2963: 'jumping', 2964: 'ne', 2965: 'stein-stengel-', 2966: 'stevie', 2967: 'mob', 2968: 'joe', 2969: 'chastity', 2970: 'celebration', 2971: \"murphy's\", 2972: 'nectar', 2973: 'supermodel', 2974: 'gayer', 2975: 'lou', 2976: 'italian', 2977: 'mags', 2978: 'judges', 2979: 'computer', 2980: 'ninety-eight', 2981: 'vacuum', 2982: 'mrs', 2983: 'lots', 2984: 'string', 2985: 'sounded', 2986: 'ape-like', 2987: \"soundin'\", 2988: 'expecting', 2989: 'soup', 2990: 'camera', 2991: 'two', 2992: 'belong', 2993: 'pissed', 2994: 'fayed', 2995: 'raining', 2996: \"they've\", 2997: 'william', 2998: 'washed', 2999: 'specified', 3000: 'eva', 3001: 'actress', 3002: 'fresco', 3003: 'sue', 3004: \"tatum'll\", 3005: 'law', 3006: 'louse', 3007: 'candidate', 3008: 'ladder', 3009: 'africanized', 3010: 'kidneys', 3011: 'copy', 3012: 'sucked', 3013: 'mole', 3014: 'sees', 3015: 'uniforms', 3016: 'effervescent', 3017: 'book', 3018: 'revenge', 3019: 'country', 3020: 'tooth', 3021: 'achem', 3022: \"duff's\", 3023: 'rickles', 3024: 'the', 3025: 'brings', 3026: 'matter', 3027: 'broncos', 3028: \"homer's\", 3029: 'arrested:', 3030: 'rag', 3031: 'girl-bart', 3032: 'impeach', 3033: 'diving', 3034: 'wind', 3035: 'temporarily', 3036: 'college', 3037: 'barney-shaped_form:', 3038: 'mouse', 3039: 'seen', 3040: 'dump', 3041: 'bluff', 3042: 'heavens', 3043: 'idioms', 3044: 'jebediah', 3045: 'set', 3046: 'specializes', 3047: 'nigel_bakerbutcher:', 3048: 'jewelry', 3049: 'encore', 3050: 'eighteen', 3051: 'bush', 3052: 'uh-huh', 3053: \"mtv's\", 3054: 'lenny', 3055: 'snort', 3056: 'birthday', 3057: 'loss', 3058: 'town', 3059: \"hadn't\", 3060: 'studio', 3061: 'decision', 3062: 'legs:', 3063: 'crimes', 3064: 'strokkur', 3065: 'bedbugs', 3066: \"kids'\", 3067: 'pantry', 3068: 'moe-heads', 3069: 'divine', 3070: 'chapter', 3071: 'broadway', 3072: 'quite', 3073: 'shush', 3074: 'limericks', 3075: 'coyly', 3076: 'k-zug', 3077: 'mcstagger', 3078: 'dress', 3079: 'supervising', 3080: 'again', 3081: 'cruiser', 3082: 'official', 3083: 'adequate', 3084: 'clench', 3085: 'beeps', 3086: 'homers', 3087: 'pages', 3088: 'pad', 3089: \"rentin'\", 3090: 'jewish', 3091: 'cigarette', 3092: 'ripper', 3093: 'on', 3094: 'tax', 3095: 'warily', 3096: 'practice', 3097: 'waters', 3098: 'nominated', 3099: 'whatsit', 3100: 'eyed', 3101: 'malfeasance', 3102: 'anymore', 3103: 'packets', 3104: 'backbone', 3105: 'blessing', 3106: 'vengeance', 3107: 'kitchen', 3108: 'dirt', 3109: 'nail', 3110: 'gin', 3111: 'represent', 3112: 'drop-off', 3113: \"d'ya\", 3114: 'angel', 3115: 'correcting', 3116: 'killarney', 3117: 'hand', 3118: 'medicine', 3119: 'fault', 3120: 'complaint', 3121: 'european', 3122: 'braun:', 3123: 'sideshow', 3124: 'remorseful', 3125: 'mechanical', 3126: 'director:', 3127: 'been', 3128: 'orifice', 3129: 'seamstress', 3130: 'soothing', 3131: 'lottery', 3132: 'products', 3133: 'twenty', 3134: 'flat', 3135: 'tasty', 3136: \"dog's\", 3137: \"narratin'\", 3138: 'sixty-nine', 3139: 'moe', 3140: 'for', 3141: 'ladies', 3142: 'losing', 3143: 'all:', 3144: 'gee', 3145: 'listened', 3146: 'hard', 3147: 'afloat', 3148: 'aging', 3149: 'd', 3150: 'outside', 3151: 'cab_driver:', 3152: 'woman:', 3153: 'wall', 3154: 'parenting', 3155: 'carolina', 3156: 'takeaway', 3157: 'sensible', 3158: 'media', 3159: 'specials', 3160: 'dollar', 3161: 'dime', 3162: 'jolly', 3163: 'weapon', 3164: 'pursue', 3165: 'jeff', 3166: 'law-abiding', 3167: 'kidney', 3168: 'suit', 3169: 'cough', 3170: 'microbrew', 3171: 'ha', 3172: 'brown', 3173: \"calf's\", 3174: 'monkeyshines', 3175: 'labor', 3176: 'worked', 3177: 'team', 3178: 'forced', 3179: 'insults', 3180: 'fat', 3181: 'theatah', 3182: 'them', 3183: 'alone', 3184: 'tap', 3185: 'pile', 3186: 'venture', 3187: 'yourselves', 3188: 'crying', 3189: 'apology', 3190: 'clapping', 3191: \"should've\", 3192: 'jack_larson:', 3193: 'patriotic', 3194: 'cowboy', 3195: 'abusive', 3196: \"gentleman's\", 3197: 'bursts', 3198: 'mocking', 3199: 'plastic', 3200: 'backwards', 3201: 'empty', 3202: 'selection', 3203: 'distract', 3204: 'spit', 3205: 'pants', 3206: \"kid's\", 3207: 'play/', 3208: 'try', 3209: \"santa's\", 3210: \"cashin'\", 3211: 'lookalike:', 3212: \"springfield's\", 3213: 'roz', 3214: 'hug', 3215: 'distaste', 3216: 'awful', 3217: 'alcoholism', 3218: 'triple-sec', 3219: 'catch', 3220: 'dark', 3221: 'detail', 3222: 'bliss', 3223: 'helpless', 3224: 'puff', 3225: 'grandmother', 3226: 'brainheaded', 3227: 'dentist', 3228: 'doing', 3229: 'sounds', 3230: 'coupon', 3231: 'dejected_barfly:', 3232: 'rotch', 3233: 'faiths', 3234: 'boned', 3235: 'devastated', 3236: 'perch', 3237: 'sheet', 3238: 'sugar', 3239: 'smoker', 3240: 'crack', 3241: 'minutes', 3242: 'pre-game', 3243: 'straight', 3244: 'sunglasses', 3245: 'ron', 3246: 'madman', 3247: 'leonard', 3248: \"b-52's:\", 3249: \"here's\", 3250: 'refill', 3251: 'understanding', 3252: 'isle', 3253: 'sometimes', 3254: 'bumbling', 3255: 'scream', 3256: 'bender:', 3257: 'drinking:', 3258: 'rutabaga', 3259: 'century', 3260: 'saw', 3261: 'hot-rod', 3262: 'fast', 3263: 'jane', 3264: 'camp', 3265: 'ringing', 3266: 'noticing', 3267: \"makin'\", 3268: 'bartholomг©:', 3269: 'fortress', 3270: 'movies', 3271: 'vance', 3272: \"somethin':\", 3273: 'piece', 3274: 'quadruple-sec', 3275: '1979', 3276: 'sending', 3277: 'eu', 3278: 'bald', 3279: 'enthusiasm', 3280: 'avec', 3281: 'cronies', 3282: 'justice', 3283: 'sticking', 3284: 'lovers', 3285: 'lee', 3286: 'gang', 3287: 'options', 3288: \"where's\", 3289: 'caper', 3290: 'ons', 3291: 'diablo', 3292: 'mistresses', 3293: 'sneering', 3294: 'hotenhoffer', 3295: 'uncomfortable', 3296: 'ahhhh', 3297: 'ehhhhhh', 3298: 'side', 3299: 'hollywood', 3300: 'affection', 3301: 'across', 3302: 'will', 3303: 'family-owned', 3304: 'need', 3305: 'worthless', 3306: 'bottles', 3307: 'janette', 3308: \"poundin'\", 3309: 'draw', 3310: 'surprising', 3311: 'mither', 3312: 'grind', 3313: 'results', 3314: 'attend', 3315: 'lowest', 3316: 'quit', 3317: 'hooked', 3318: 'singers:', 3319: 'weekend', 3320: 'scum-sucking', 3321: 'wolveriskey', 3322: 'civilization', 3323: 'moxie', 3324: 'aquafresh', 3325: 'spotting', 3326: 'in-in-in', 3327: 'fury', 3328: 'pretending', 3329: \"o'\", 3330: 'rough', 3331: 'rather', 3332: 'won', 3333: 'jerks', 3334: \"kearney's_dad:\", 3335: 'marvin', 3336: 'orders', 3337: 'am', 3338: 'continued', 3339: 'gentlemen', 3340: \"getting'\", 3341: 'badmouth', 3342: 'fondly', 3343: 'wednesday', 3344: 'multi-national', 3345: 'beards', 3346: 'blokes', 3347: 'salary', 3348: 'c', 3349: 'landfill', 3350: 'woulda', 3351: 'bonding', 3352: \"seein'\", 3353: 'fonda', 3354: 'proves', 3355: 'begging', 3356: 'god', 3357: 'hunger', 3358: 'daughter', 3359: 'dressed', 3360: 'pink', 3361: 'donut-shaped', 3362: 'anderson', 3363: 'weak', 3364: 'tomorrow', 3365: 'damage', 3366: 'predecessor', 3367: 'ha-ha', 3368: 'booth', 3369: 'poplar', 3370: 'business', 3371: 'lurleen', 3372: 'sense', 3373: 'wieners', 3374: 'get', 3375: 'brothers', 3376: 'parking', 3377: 'eats', 3378: 'changing', 3379: 'playing', 3380: 'los', 3381: \"payin'\", 3382: 'somehow', 3383: 'unable', 3384: 'unfair', 3385: 'heads', 3386: 'usual', 3387: 'wave', 3388: 'oopsie', 3389: 'homer', 3390: 'fan', 3391: 'reopen', 3392: 'ugliness', 3393: 'sass', 3394: 'homeland', 3395: 'coaster', 3396: 'bums', 3397: 'alpha-crow', 3398: 'weather', 3399: 'harm', 3400: 'saturday', 3401: 'aiden', 3402: 'al_gore:', 3403: 'casual', 3404: 'lowering', 3405: 'slit', 3406: 'maman', 3407: 'self-made', 3408: 'jг¤germeister', 3409: 'gr-aargh', 3410: 'deacon', 3411: 'wudgy', 3412: 'splendid', 3413: 'poetics', 3414: 'shutting', 3415: 'taste', 3416: 'takes', 3417: 'comic_book_guy:', 3418: \"spyin'\", 3419: 'proposition', 3420: 'check', 3421: 'easily', 3422: 'too', 3423: 'zoomed', 3424: \"clancy's\", 3425: 'distraught', 3426: \"aren'tcha\", 3427: 'wobble', 3428: 'stationery', 3429: 'flush', 3430: 'pronounce', 3431: 'patting', 3432: 'fletcherism', 3433: 'stepped', 3434: 'kisses', 3435: 'radical', 3436: 'vampire', 3437: 'including', 3438: 'churchy', 3439: 'following', 3440: 'compadre', 3441: 'clientele', 3442: 'agreement', 3443: 'under', 3444: 'gargoyle', 3445: 'pure', 3446: 'snake_jailbird:', 3447: 'flame', 3448: 'harrowing', 3449: 'brain-switching', 3450: 'ancient', 3451: \"sat's\", 3452: 'murmurs', 3453: 'far', 3454: 'charlie:', 3455: 'puke-pail', 3456: '&', 3457: 'broke', 3458: 'shorter', 3459: 'poured', 3460: 'hmf', 3461: 'oak', 3462: 'shall', 3463: 'brother-in-law', 3464: 'leave', 3465: 'soon', 3466: 'stacey', 3467: 'pleased', 3468: 'working', 3469: 'right-handed', 3470: 'someday', 3471: 'tremendous', 3472: 'those', 3473: 'gentles', 3474: 'tv_daughter:', 3475: 'all-star', 3476: 'sloe', 3477: 'error', 3478: 'stool', 3479: 'bully', 3480: 'grains', 3481: 'jukebox_record:', 3482: 'jar', 3483: 'favorite', 3484: 'jokes', 3485: 'powered', 3486: 'cowboys', 3487: 'where', 3488: 'plums', 3489: 'wiggle', 3490: 'button-pusher', 3491: 'world-class', 3492: 'sumatran', 3493: 'pockets', 3494: 'buyer', 3495: \"i'm\", 3496: 'babe', 3497: 'second', 3498: 'virtual', 3499: 'typing', 3500: 'history', 3501: 'dingy', 3502: 'specialists', 3503: 'extremely', 3504: 'railroad', 3505: 'punkin', 3506: 'equivalent', 3507: 'process', 3508: 'join', 3509: 'sacajawea', 3510: 'barf', 3511: 'cousin', 3512: 'universe', 3513: 'belly-aching', 3514: 'sweater', 3515: 'rubs', 3516: 'sauce', 3517: 'klown', 3518: 'yo', 3519: 'cheerier', 3520: 'kidnaps', 3521: 'onto', 3522: 'flips', 3523: 'depressing', 3524: 'seats', 3525: 'meditative', 3526: 'harvey', 3527: 'neat', 3528: 'riveting', 3529: 'mirthless', 3530: 'insist', 3531: 'musketeers', 3532: 'kearney_zzyzwicz:', 3533: 'hmm', 3534: 'goods', 3535: 'anti-lock', 3536: 'window', 3537: 'tuborg', 3538: 'inspector', 3539: 'betty:', 3540: 'involving', 3541: 'shipment', 3542: 'smuggled', 3543: 'whip', 3544: 'video', 3545: 'prep', 3546: 'cerebral', 3547: 'pine', 3548: 'interested', 3549: 'vestigial', 3550: 'gums', 3551: 'sixty-five', 3552: 'order', 3553: 'wildfever', 3554: 'fifteen', 3555: 'forgot', 3556: 'remote', 3557: 'coined', 3558: 'almond', 3559: 'eyeball', 3560: 'person', 3561: 'rash', 3562: 'grave', 3563: 'due', 3564: 'rewound', 3565: 'discuss', 3566: 'guide', 3567: 'helen', 3568: 'gamble', 3569: 'boston', 3570: 'fella', 3571: 'xx', 3572: \"drawin'\", 3573: 'acquitted', 3574: 'reader', 3575: 'countryman', 3576: \"treatin'\", 3577: 'incredulous', 3578: 'thighs', 3579: 'bike', 3580: 'music', 3581: 'happens', 3582: 'dead', 3583: \"duelin'\", 3584: 'call', 3585: 'bounced', 3586: 'seymour', 3587: '||period||', 3588: 'dies', 3589: 'spent', 3590: 'break-up', 3591: 'zack', 3592: 'pro', 3593: 'confidence', 3594: 'kodos:', 3595: 'souped', 3596: 'gary:', 3597: 'accurate', 3598: 'stan', 3599: 'cappuccino', 3600: 'belch', 3601: 'destroyed', 3602: 'screws', 3603: 'ready', 3604: 'waterfront', 3605: 'professional', 3606: 'whatchacallit', 3607: 'subject', 3608: 'choice', 3609: 'john', 3610: \"tv's\", 3611: 'loathe', 3612: 'sooo', 3613: 'private', 3614: 'handle', 3615: 'fortensky', 3616: 'faced', 3617: 'penny', 3618: 'exquisite', 3619: 'roses', 3620: 'sweetest', 3621: 'sitar', 3622: 'six', 3623: 'wearing', 3624: 'expression', 3625: 'competitive', 3626: 'curse', 3627: \"something's\", 3628: 'lurks', 3629: 'son', 3630: 'meaningful', 3631: 'dive', 3632: 'exclusive:', 3633: 'declan_desmond:', 3634: 'mamma', 3635: 'dear', 3636: 'fail', 3637: 'fevered', 3638: 'fixed', 3639: 'gulps', 3640: 'airport', 3641: 'changes', 3642: 'glorious', 3643: 'allowance', 3644: 'legal', 3645: 'multi-purpose', 3646: 'yours', 3647: 'noise', 3648: 'body', 3649: 'start', 3650: 'transylvania', 3651: 'blubberino', 3652: 'flatly', 3653: 'foam', 3654: 'then', 3655: 'liar', 3656: 'clear', 3657: 'mini-beret', 3658: 'evening', 3659: 'chicks', 3660: 'thousands', 3661: 'model', 3662: 'and/or', 3663: 'civic', 3664: 'continuing', 3665: 'pulled', 3666: 'clean', 3667: 'lap', 3668: 'blob', 3669: 'fausto', 3670: 'generously', 3671: 'sub-monkeys', 3672: 'shill', 3673: 'environment', 3674: 'knuckles', 3675: 'compliment', 3676: 'fad', 3677: 'forgets', 3678: 'etc', 3679: 'upn', 3680: 'gimme', 3681: 'hexa-', 3682: 'bad-mouth', 3683: 'ought', 3684: 'depending', 3685: 'death', 3686: 'familiar', 3687: 'museum', 3688: 'bon-bons', 3689: 'bears', 3690: 'costume', 3691: 'bought', 3692: 'skydiving', 3693: 'weeks', 3694: 'shopping', 3695: 'drains', 3696: 'duty', 3697: 'above', 3698: 'world', 3699: 'scoffs', 3700: 'clears', 3701: 'joke', 3702: 'summer', 3703: 'encores', 3704: 'button', 3705: \"bar's\", 3706: 'rebuttal', 3707: 'talking', 3708: 'flack', 3709: 'out', 3710: 'dames', 3711: 'thru', 3712: 'fox_mulder:', 3713: 'prices', 3714: 'ya', 3715: 'wait', 3716: 'barflies', 3717: 'shoulda', 3718: 'nelson', 3719: 'forecast', 3720: 'elite', 3721: 'gold', 3722: \"lookin'\", 3723: 'uses', 3724: 'terrific', 3725: 'gol-dangit', 3726: 'savvy', 3727: 'frontrunner', 3728: 'meet', 3729: 'freely', 3730: 'trolls', 3731: 'yea', 3732: 'horribilis', 3733: '7g', 3734: 'extended', 3735: \"hasn't\", 3736: 'beating', 3737: 'else', 3738: 'finish', 3739: 'terrible', 3740: 'forgiven', 3741: 'nods', 3742: 'chest', 3743: 'peter', 3744: 'numeral', 3745: 'paying', 3746: 'windex', 3747: 'texan', 3748: 'wally:', 3749: 'jacques', 3750: 'rolls', 3751: 'tearfully', 3752: 'afterglow', 3753: 'fancy', 3754: 'department', 3755: 'fever', 3756: 'swear', 3757: 'whim', 3758: 'tv-station_announcer:', 3759: 'oh', 3760: 'samples', 3761: 'coughs', 3762: 'bartending', 3763: \"starla's\", 3764: 'marmaduke', 3765: 'france', 3766: 'filthy', 3767: 'picked', 3768: 'disgracefully', 3769: 'moment', 3770: 'reckless', 3771: 'holy', 3772: 'homer_', 3773: '4x4', 3774: 'shaved', 3775: 'transmission', 3776: '$42', 3777: 'shame', 3778: 'throwing', 3779: 'tester', 3780: \"game's\", 3781: 'mount', 3782: 'wounds', 3783: 'enlightened', 3784: 'mostly', 3785: 'reality', 3786: 'sealed', 3787: \"what's\", 3788: 'actors', 3789: 'anyhoo', 3790: 'brandy', 3791: 'investor', 3792: 'smoothly', 3793: 'pay', 3794: 'sobo', 3795: 'office', 3796: 'badges', 3797: 'teams', 3798: 'flying', 3799: 'prank', 3800: 'snake', 3801: 'lighter', 3802: 'physical', 3803: \"jimbo's_dad:\", 3804: 'chow', 3805: 'estranged', 3806: 'ever', 3807: 'shove', 3808: 'date', 3809: 'aer', 3810: 'starts', 3811: 'telemarketing', 3812: 'bowie', 3813: 'awww', 3814: \"'n'\", 3815: 'text', 3816: 'near', 3817: 'installed', 3818: 'average', 3819: 'crotch', 3820: 'nervously', 3821: \"sippin'\", 3822: 'bolting', 3823: 'tigers', 3824: 'skin', 3825: 'dammit', 3826: \"spaghetti-o's\", 3827: 'imported-sounding', 3828: 'nagurski', 3829: 'forever', 3830: \"messin'\", 3831: 'four-star', 3832: 'compels', 3833: 'a', 3834: 'spacey', 3835: 'protesters', 3836: 'th-th-th-the', 3837: 'scout', 3838: 'appearance-altering', 3839: '||left_parentheses||', 3840: 'dials', 3841: 'chili', 3842: 'accusing', 3843: 'mustard', 3844: 'motto', 3845: 'produce', 3846: 'mathis', 3847: 'swimming', 3848: 'cesss', 3849: 'crunch', 3850: 'carlotta:', 3851: 'cologne', 3852: 'invulnerable', 3853: 'parasol', 3854: \"how're\", 3855: 'kako:', 3856: 'steaming', 3857: 'thrown', 3858: 'friday', 3859: 'apulina', 3860: 'rasputin', 3861: 'exhale', 3862: 'a-lug', 3863: 'trivia', 3864: 'gunter:', 3865: 'swings', 3866: 'going', 3867: 'blow', 3868: 'drunkening', 3869: 'ripping', 3870: \"blowin'\", 3871: \"cuckold's\", 3872: 'exploiter', 3873: 'lovelorn', 3874: 'nuked', 3875: 'astonishment', 3876: 'stopped', 3877: 'ing', 3878: 'arabs', 3879: 'stats', 3880: 'ahead', 3881: 'ripcord', 3882: 'defeated', 3883: 'rainbows', 3884: 'gator:', 3885: 'someone', 3886: 'miracle', 3887: 'whup', 3888: 'courts', 3889: 'meteor', 3890: 'hike', 3891: 'ollie', 3892: 'sadder', 3893: 'charming', 3894: 'book_club_member:', 3895: 'impress', 3896: 'ho-la', 3897: 'plotz', 3898: 'panties', 3899: 'unattended', 3900: 'recreate', 3901: 'turn', 3902: '21', 3903: 'rush', 3904: 'judge', 3905: 'voyager', 3906: 'ziffcorp', 3907: 'releases', 3908: 'kirk_van_houten:', 3909: 'all-american', 3910: 'malibu', 3911: \"he'll\", 3912: 'unbelievable', 3913: 'snail', 3914: 'nurse', 3915: 'mixed', 3916: 'turns', 3917: 'load', 3918: 'correct', 3919: 'magnanimous', 3920: 'hilton', 3921: 'hammock', 3922: 'eliminate', 3923: 'touchdown', 3924: 'language', 3925: 'coma', 3926: 'rascals', 3927: 'brain', 3928: 'approval', 3929: 'burger', 3930: 'alter', 3931: 'muslim', 3932: 'sassy', 3933: 'the_rich_texan:', 3934: 'squeeze', 3935: 'fritz:', 3936: 'dollface', 3937: 'ticks', 3938: 'event', 3939: 'watered-down', 3940: 'disappointed', 3941: 'heroism', 3942: 'menace', 3943: 'ripped', 3944: 'dennis_conroy:', 3945: 'brockelstein', 3946: 'pronto', 3947: 'saying', 3948: 'reporter', 3949: 'compete', 3950: 'pack', 3951: 'boxer', 3952: 'man_at_bar:', 3953: 'pep', 3954: 'pal', 3955: 'p', 3956: 'tune', 3957: 'olive', 3958: 'fools', 3959: 'moe-near-now', 3960: 'nah', 3961: 'picture', 3962: 'hemoglobin', 3963: 'fat-free', 3964: 'other_book_club_member:', 3965: 'mad', 3966: 'choked-up', 3967: 'holds', 3968: 'moon-bounce', 3969: 'however', 3970: 'pride', 3971: \"cat's\", 3972: 'drives', 3973: 'hank_williams_jr', 3974: 'chew', 3975: 'mind', 3976: \"that's\", 3977: 'wrote', 3978: 'gumbo', 3979: 'clandestine', 3980: 'lease', 3981: 'talkers', 3982: 'something', 3983: 'brother', 3984: 'seemed', 3985: 'jubilation', 3986: 'villanova', 3987: 'nooo', 3988: 'perfect', 3989: 'moe-clone', 3990: 'capitalists', 3991: 'sly', 3992: 'military', 3993: \"man'd\", 3994: 'de', 3995: 'faulkner', 3996: 'murderously', 3997: 'laney_fontaine:', 3998: 'scatter', 3999: 'hooch', 4000: 'brooklyn', 4001: 'poulet', 4002: 'agent', 4003: 'lecture', 4004: 'blimp', 4005: 'some', 4006: 'oils', 4007: 'thirty', 4008: 'further', 4009: 'roof', 4010: 'monroe', 4011: 'whatcha', 4012: 'fresh', 4013: 'dutch', 4014: 'farewell', 4015: 'lush', 4016: 'heartless', 4017: 'painted', 4018: 'kemi', 4019: 'mother', 4020: 'africa', 4021: 'blinds', 4022: 'fund', 4023: 'catholic', 4024: 'temples', 4025: 'genius', 4026: 'smug', 4027: 'ebullient', 4028: 'brassiest', 4029: 'ihop', 4030: 'flophouse', 4031: 'time', 4032: 'passion', 4033: 'nineteen', 4034: 'pleasant', 4035: 'gun', 4036: 'crony', 4037: 'elves:', 4038: 'demo', 4039: 'conversations', 4040: 'balloon', 4041: 'nudge', 4042: 'giggle', 4043: 'driver', 4044: 'veteran', 4045: 'island', 4046: 'paste', 4047: 'jerry', 4048: 'device', 4049: 'hubub', 4050: 'trustworthy', 4051: 'chip', 4052: 'sea', 4053: 'reasons', 4054: 'newly-published', 4055: 'wears', 4056: 'changed', 4057: 'also', 4058: 'held', 4059: 'male_inspector:', 4060: 'ate', 4061: 'spellbinding', 4062: 'other', 4063: 'mccarthy', 4064: 'sheets', 4065: 'grumbling', 4066: 'wife', 4067: 'mess', 4068: 'manatee', 4069: \"bart's\", 4070: 'mid-conversation', 4071: 'ball-sized', 4072: 'keeps', 4073: 'henry', 4074: 'peppers', 4075: 'employees', 4076: 'thanking', 4077: 'scrape', 4078: 'perfunctory', 4079: \"bo's\", 4080: 'brought', 4081: 'movement', 4082: 'misfire', 4083: 'gimmick', 4084: 'jovial', 4085: 'nelson_muntz:', 4086: 'quimbys:', 4087: 'brag', 4088: \"plaster's\", 4089: 'wire', 4090: 'alive', 4091: 'evil', 4092: 'pasta', 4093: 'frescas', 4094: 'schizophrenia', 4095: 'machine', 4096: 'chipper', 4097: 'beanbag', 4098: 'journey', 4099: 'executive', 4100: 'attempting', 4101: 'state', 4102: 'blend', 4103: 'forget-me-drinks', 4104: 'cannot', 4105: 'stretch', 4106: 'came', 4107: 'pair', 4108: 'scrutinizes', 4109: 'lager', 4110: 'stagey', 4111: 'tape', 4112: 'whether', 4113: 'fierce', 4114: 'scientific', 4115: 'bedridden', 4116: 'baritone', 4117: 'neighboreeno', 4118: 'thoughtless', 4119: 'relieved', 4120: 'magic', 4121: 'anger', 4122: 'bam', 4123: 'chunky', 4124: 'alma', 4125: 'white', 4126: 'ecru', 4127: 't-shirt', 4128: 'coins', 4129: 'bumped', 4130: 'thankful', 4131: 'twelve', 4132: 'friends', 4133: 'hands', 4134: 'hollye', 4135: 'tsk', 4136: 'bash', 4137: 'radioactive', 4138: 'german', 4139: 'wishful', 4140: 'starla', 4141: \"department's\", 4142: 'lifts', 4143: 'put', 4144: 'one', 4145: 'ayyy', 4146: 'k', 4147: 'burglary', 4148: 'fortune', 4149: 'disco_stu:', 4150: 'cheap', 4151: 'refreshingness', 4152: 'rotten', 4153: 'conspiratorial', 4154: 'it', 4155: 'hmmmm', 4156: \"i'd'a\", 4157: 'r', 4158: 'therapist', 4159: \"tester's\", 4160: 'delivery_man:', 4161: 'startled', 4162: 'dazed', 4163: 'wallet', 4164: 'soul', 4165: 'trying', 4166: '_hooper:', 4167: 'mafia', 4168: 'squeezed', 4169: 'were', 4170: \"he'd\", 4171: 'crowds', 4172: 'sweetly', 4173: 'enough', 4174: 'easy-going', 4175: 'depository', 4176: 'officials', 4177: 'ninety-nine', 4178: 'erasers', 4179: 'rounds', 4180: 'pretzels', 4181: \"couldn't\", 4182: 'swine', 4183: 'only', 4184: \"that'll\", 4185: 'crab', 4186: 'lift', 4187: 'idiots', 4188: 'reynolds', 4189: 'touch', 4190: 'shower', 4191: 'traitor', 4192: 'imitating', 4193: 'wealthy', 4194: 'julienne', 4195: 'decide', 4196: 'hell', 4197: 'day', 4198: 'store', 4199: \"men's\", 4200: 'quality', 4201: 'champion', 4202: 'ho', 4203: 'blues', 4204: 'worth', 4205: 'schmoe', 4206: 'words', 4207: 'boyfriend', 4208: 'job', 4209: 'tipsy', 4210: 'jobs', 4211: 'burning', 4212: 'reflected', 4213: 'sloppy', 4214: 'shutup', 4215: 'lonely', 4216: 'proudly', 4217: 'rip', 4218: 'things', 4219: 'pridesters:', 4220: 'edelbrock', 4221: 'rabbits', 4222: \"'s\", 4223: 'other_player:', 4224: 'worst', 4225: \"year's\", 4226: 'ech', 4227: 'shifty', 4228: 'bets', 4229: 'carefully', 4230: 'tornado', 4231: 'hitchhike', 4232: 'triangle', 4233: 'accelerating', 4234: 'knocks', 4235: 'stu', 4236: \"workin'\", 4237: 'run', 4238: 'invited', 4239: 'hide', 4240: 'hourly', 4241: 'all', 4242: 'prepared', 4243: 'pitcher', 4244: 'hook', 4245: 'furry', 4246: 'harder', 4247: 'midge:', 4248: 'payday', 4249: 'present', 4250: 'allow', 4251: 'register', 4252: 'belt', 4253: 'traffic', 4254: 'toms', 4255: 'cheery', 4256: 'undermine', 4257: 'alarm', 4258: 'carmichael', 4259: 'nursemaid', 4260: 'boring', 4261: 'cases', 4262: 'benjamin:', 4263: 'rugged', 4264: 'allegiance', 4265: 'mistake', 4266: 'barely', 4267: 'butter', 4268: 'tow', 4269: 'freak', 4270: 'driveability', 4271: 'walk', 4272: \"lenny's\", 4273: 'poke', 4274: 'politician', 4275: 'hippies', 4276: 'hawking:', 4277: 'intrigued', 4278: 'hearts', 4279: 'dreary', 4280: 'pusillanimous', 4281: 'blown', 4282: 'six-barrel', 4283: 'helllp', 4284: 'arrest', 4285: 'plant', 4286: 'duff_announcer:', 4287: 'repeating', 4288: 'corkscrews', 4289: 'cents', 4290: 'express', 4291: 'delightful', 4292: 'type', 4293: 'chinua', 4294: 'thorough', 4295: 'weirded-out', 4296: 'age', 4297: 'drivers', 4298: 'lifestyle', 4299: 'spreads', 4300: 'home', 4301: 'african', 4302: 'flag', 4303: 'vegas', 4304: 'oddest', 4305: 'deeply', 4306: 'why', 4307: 'decadent', 4308: 'glen:', 4309: 'film', 4310: 'evils', 4311: 'steak', 4312: 'breakfast', 4313: 'appropriate', 4314: 'fourth', 4315: 'guts', 4316: 'diminish', 4317: 'conditioning', 4318: 'barkeep', 4319: 'please', 4320: 'makes', 4321: 'raises', 4322: 'moans', 4323: 'sixty', 4324: 'nonchalant', 4325: 'brockman', 4326: 'suits', 4327: 'bloodiest', 4328: 'anxious', 4329: 'highest', 4330: 'completely', 4331: \"'cause\", 4332: 'boxcar', 4333: 'available', 4334: 'teacher', 4335: 'aged_moe:', 4336: 'match', 4337: 'women', 4338: 'field', 4339: 'lear', 4340: 'warned', 4341: 'connection', 4342: 'slow', 4343: \"daughter's\", 4344: 'talk', 4345: 'itchy', 4346: \"she'd\", 4347: 'silence', 4348: 'small', 4349: 'buddies', 4350: 'anthony_kiedis:', 4351: 'honored', 4352: 'brunch', 4353: 'furiously', 4354: 'stillwater:', 4355: 'adult_bart:', 4356: 'affects', 4357: 'nerve', 4358: '1973', 4359: 'fumigated', 4360: 'pig', 4361: 'broom', 4362: 'cooler', 4363: 'result', 4364: 'twenty-nine', 4365: 'close', 4366: 'smile', 4367: 'negative', 4368: 'shirt', 4369: 'ford', 4370: \"scammin'\", 4371: 'lying', 4372: 'normals', 4373: 'boxing', 4374: 'country-fried', 4375: '3rd_voice:', 4376: 'bupkus', 4377: 'priest', 4378: 'kent', 4379: 'it:', 4380: 'store-bought', 4381: 'bright', 4382: 'puzzled', 4383: 'marvelous', 4384: 'weight', 4385: 'down', 4386: 'from', 4387: 'doubt', 4388: 'nature', 4389: 'completing', 4390: 'koji', 4391: 'icelandic', 4392: 'hundred', 4393: 'monkey', 4394: 'england', 4395: 'spanish', 4396: '||dash||', 4397: 'cop', 4398: 'falling', 4399: 'gruesome', 4400: 'sips', 4401: 'have', 4402: 'fountain', 4403: 'i/you', 4404: 'speed', 4405: 'although', 4406: \"cupid's\", 4407: 'till', 4408: 'shaker', 4409: 'gees', 4410: 'looting', 4411: 'defected', 4412: 'walks', 4413: 'producers', 4414: 'pancakes', 4415: 'studied', 4416: \"we'd\", 4417: 'noises', 4418: 'amid', 4419: 'tabooger', 4420: 'homunculus', 4421: 'snaps', 4422: 'label', 4423: 'metal', 4424: 'knit', 4425: 'like', 4426: 'settled', 4427: 'or', 4428: 'libraries', 4429: 'moron', 4430: \"ain't\", 4431: 'naegle', 4432: 'hibbert', 4433: 'exception:', 4434: 'hellhole', 4435: 'fall', 4436: 'lessee', 4437: 'moesy', 4438: 'clipped', 4439: 'zinged', 4440: 'understood', 4441: 'knows', 4442: 'nasty', 4443: 'furniture', 4444: 'intention', 4445: 'fine', 4446: 'total', 4447: \"tree's\", 4448: 'rhode', 4449: 'inflated', 4450: 'obama', 4451: 'short', 4452: 'endorsement', 4453: 'face-macer', 4454: 'we-we-we', 4455: 'medical', 4456: 'reading:', 4457: 'exultant', 4458: 'tavern', 4459: ':', 4460: 'bedtime', 4461: '_powers:', 4462: 'market', 4463: 'relative', 4464: 'cosmetics', 4465: 'listens', 4466: 'deserve', 4467: 'craft', 4468: 'soaked', 4469: 'soaps', 4470: 'begins', 4471: 'another', 4472: 'fight', 4473: 'shooting', 4474: 'top', 4475: 'arm', 4476: 'formico', 4477: 'nos', 4478: 'glamour', 4479: \"s'okay\", 4480: 'themselves', 4481: \"they're\", 4482: 'bide', 4483: 'richard:', 4484: 'government', 4485: 'shop', 4486: 'found', 4487: 'mock-up', 4488: 'picnic', 4489: 'wantcha', 4490: 'blurbs', 4491: '250', 4492: 'training', 4493: 'plans', 4494: 'customers', 4495: 'twelveball', 4496: 'shut', 4497: \"homer's_brain:\", 4498: 'lugs', 4499: 'supports', 4500: 'developed', 4501: 'gal', 4502: 'best', 4503: 'robot', 4504: 'election', 4505: 'mice', 4506: 'conditioner', 4507: 'don', 4508: 'keys', 4509: 'underbridge', 4510: 'shoulder', 4511: 'measure', 4512: 'foodie', 4513: 'real', 4514: 'milk', 4515: \"askin'\", 4516: 'corporation', 4517: 'can', 4518: 'switch', 4519: 'cocks', 4520: 'o', 4521: 'enemies', 4522: 'gallon', 4523: 'misconstrue', 4524: 'bust', 4525: 'danny', 4526: '_zander:', 4527: 'committing', 4528: 'danish', 4529: 'haikus', 4530: 'andalay', 4531: \"nothin'\", 4532: 'item', 4533: 'morlocks', 4534: 'billiard', 4535: 'dea-d-d-dead', 4536: 'swatch', 4537: 'appreciated', 4538: 'absentminded', 4539: 'chance', 4540: 'kinds', 4541: 'businessman_#1:', 4542: 'impressed', 4543: 'unsanitary', 4544: 'wobbly', 4545: 'sight-unseen', 4546: 'perhaps', 4547: 'lock', 4548: 'ron_howard:', 4549: 'virility', 4550: 'helping', 4551: 'domestic', 4552: 'after', 4553: 'pretty', 4554: 'be-stainгёd', 4555: 'lib', 4556: 'healthier', 4557: 'card', 4558: 'snide', 4559: 'proud', 4560: 'enjoys', 4561: 'names', 4562: 'h', 4563: 'reciting', 4564: 'amends', 4565: 'funny', 4566: 'dae', 4567: 'series', 4568: 'blobbo', 4569: 'felony', 4570: 'possibly', 4571: \"g'on\", 4572: 'great', 4573: 'baby', 4574: 'latour', 4575: 'probably', 4576: 'brawled', 4577: 'moe-clone:', 4578: 'each', 4579: 'chicken', 4580: 'sharps', 4581: 'tv_announcer:', 4582: 'junebug', 4583: 'moonnnnnnnn', 4584: 'locked', 4585: 'macbeth', 4586: 'drink', 4587: 'rife', 4588: 'childless', 4589: 'calmly', 4590: 'rented', 4591: 'wolfcastle', 4592: 'radio', 4593: 'shelf', 4594: 'self', 4595: 'in', 4596: 'drinking', 4597: 'iddilies', 4598: 'undated', 4599: 'states', 4600: 'heaven', 4601: 'calling', 4602: 'bar-boy', 4603: 'choice:', 4604: 'site', 4605: 'strictly', 4606: 'clubs', 4607: 'photos', 4608: 'statue', 4609: 'various', 4610: 'caveman', 4611: 'fledgling', 4612: 'vacations', 4613: 'kissed', 4614: 'glen', 4615: 'ivanna', 4616: 'padre', 4617: 'toward', 4618: 'football_announcer:', 4619: 'broken', 4620: 'teenage_homer:', 4621: 'lisa', 4622: 'propose', 4623: 'hope', 4624: 'plane', 4625: 'fun', 4626: 'they', 4627: 'hair', 4628: 'totalitarians', 4629: 'appalled', 4630: 'bouquet', 4631: 'program', 4632: 'grope', 4633: 'eighty-three', 4634: 'feld', 4635: 'many', 4636: 'santeria', 4637: 'round', 4638: 'helps', 4639: \"dyin'\", 4640: 'phasing', 4641: 'wa', 4642: 'tuna', 4643: 'bus', 4644: 'brusque', 4645: 'dгјffenbraus', 4646: 'patterns', 4647: 'today/', 4648: 'stripes', 4649: 'twins', 4650: 'idealistic', 4651: 'enemy', 4652: 'as', 4653: 'less', 4654: 'ping-pong', 4655: 'cure', 4656: 'victorious', 4657: 'sieben-gruben', 4658: 'safety', 4659: \"jackpot's\", 4660: 'pfft', 4661: 'unusual', 4662: 'famous', 4663: 'love-matic', 4664: 'must', 4665: 'ends', 4666: 'severe', 4667: 'tropical', 4668: 'hang', 4669: 'handsome', 4670: 'mistakes', 4671: 'aidens', 4672: 'perking', 4673: 'fastest', 4674: 'boo', 4675: 'taxi', 4676: 'rueful', 4677: 'drown', 4678: 'drug', 4679: 'alcoholic', 4680: 'disappointing', 4681: 'crayola', 4682: 'beats', 4683: 'angry', 4684: 'solid', 4685: 'choke', 4686: 'diaper', 4687: 'illustrates', 4688: 'grampa_simpson:', 4689: 'gentle', 4690: 'joined', 4691: 'beam', 4692: 'nein', 4693: 'reaching', 4694: 'granted', 4695: 'muscles', 4696: 'degradation', 4697: 'teen', 4698: 'macgregor', 4699: 'harmony', 4700: \"'tis\", 4701: 'indifference', 4702: 'apu', 4703: 'increased', 4704: 'stir', 4705: 'reluctantly', 4706: 'are', 4707: 'chick', 4708: 'gig', 4709: 'plenty', 4710: 'lloyd', 4711: 'television', 4712: '_burns_heads:', 4713: 'unfamiliar', 4714: 'ticket', 4715: 'splash', 4716: 'rings', 4717: 'disapproving', 4718: 'crooks', 4719: 'suck', 4720: 'lips', 4721: 'tense', 4722: 'christian', 4723: 'haircuts', 4724: 'thirteen', 4725: 'hole', 4726: 'fustigate', 4727: 'tender', 4728: 'composer', 4729: 're:', 4730: 'ah', 4731: \"don't\", 4732: \"doctor's\", 4733: 'lobster-politans', 4734: 'publish', 4735: 'kansas', 4736: 'incredible', 4737: 'alfalfa', 4738: 'challenge', 4739: 'enterprising', 4740: 'host', 4741: 'affectations', 4742: 'canoodling', 4743: 'mayor_joe_quimby:', 4744: 'sits', 4745: \"wasn't\", 4746: \"countin'\", 4747: 'x', 4748: 'lump', 4749: 'romance', 4750: \"c'mere\", 4751: 'myself', 4752: 'hero-phobia', 4753: 'cash', 4754: '-ry', 4755: 'gestated', 4756: 'joining', 4757: 'neither', 4758: 'kinda', 4759: 'unexplained', 4760: 'witches', 4761: 'moolah-stealing', 4762: 'hugh', 4763: 'reconsidering', 4764: 'purveyor', 4765: 'saget', 4766: 'warren', 4767: 'investment', 4768: 'gregor', 4769: 'risquг©', 4770: 'flourish', 4771: 'happy', 4772: 'fireball', 4773: 'upsetting', 4774: 'raccoons', 4775: 'ruined', 4776: \"somethin's\", 4777: 'endorse', 4778: 'gave', 4779: 'promise', 4780: 'otherwise', 4781: 'seems', 4782: 'hello', 4783: 'p-k', 4784: 'air', 4785: 'crowded', 4786: 'rain', 4787: 'excited', 4788: 'marry', 4789: \"usin'\", 4790: 'killing', 4791: 'jaegermeister', 4792: 'ice', 4793: 'improv', 4794: 'more', 4795: 'ralph', 4796: 'looking', 4797: 'eight-year-old', 4798: 'page', 4799: 'bachelorette', 4800: 'mulder', 4801: 'cheered', 4802: 'advance', 4803: 'goodwill', 4804: \"'er\", 4805: 'sharing', 4806: 'moving', 4807: 'wooooo', 4808: 'happen', 4809: 'hall', 4810: 'ruuuule', 4811: 'something:', 4812: 'waltz', 4813: \"won't\", 4814: 'fainted', 4815: 'mobile', 4816: 'greetings', 4817: 'eight', 4818: 'realizing', 4819: 'vicious', 4820: 'hollowed-out', 4821: 'trusted', 4822: 'lotta', 4823: 'sotto', 4824: 'delts', 4825: 'entering', 4826: 'winning', 4827: 'pained', 4828: 'handed', 4829: 'whirlybird', 4830: 'self-centered', 4831: 'money', 4832: 'ref', 4833: \"lady's\", 4834: 'shoulders', 4835: 'place', 4836: 'releasing', 4837: \"ol'\", 4838: 'lighten', 4839: 'sap', 4840: 'tv_father:', 4841: 'jerk', 4842: 'phony', 4843: 'your', 4844: 'voters', 4845: 'hangover', 4846: 'exchanged', 4847: 'homesick', 4848: 'friend', 4849: 'lovely', 4850: 'manjula_nahasapeemapetilon:', 4851: '14', 4852: 'stocking', 4853: 'beach', 4854: 'inexorable', 4855: 'farthest', 4856: 'means', 4857: 'churchill', 4858: 'mabel', 4859: 'putting', 4860: 'mckinley', 4861: 'a-a-b-b-a', 4862: 'replaced', 4863: 'stewart', 4864: 'starve', 4865: 'castle', 4866: 'spied', 4867: 'growing', 4868: 'bulldozing', 4869: 'formico:', 4870: 'electronic', 4871: 'sunday', 4872: 'fondest', 4873: 'skinheads', 4874: 'birthplace', 4875: 'future', 4876: 'fence', 4877: 'though', 4878: 'polite', 4879: 'closer', 4880: 'intoxicated', 4881: 'boneheaded', 4882: 'beloved', 4883: 'blood-thirsty', 4884: 'arimasen', 4885: 'soaking', 4886: 'begin', 4887: 'nailed', 4888: 'twerpy', 4889: 'arguing', 4890: 'lise:', 4891: 'buying', 4892: 'weary', 4893: 'valley', 4894: 'protesting', 4895: 'massachusetts', 4896: 'wheels', 4897: 'radiation', 4898: 'cockroach', 4899: 'temp', 4900: 'geyser', 4901: 'hats', 4902: 'ultimate', 4903: 'stealings', 4904: 'bit', 4905: 'fdic', 4906: 'handing', 4907: 'ale', 4908: \"coaster's\", 4909: 'sticking-place', 4910: 'suffering', 4911: \"wife's\", 4912: 'warn', 4913: 'booking', 4914: '7-year-old_brockman:', 4915: 'shreda', 4916: 'unearth', 4917: 'playhouse', 4918: \"rustlin'\", 4919: 'maximum', 4920: 'looser', 4921: 'meeting', 4922: 'whaddaya', 4923: 'ferry', 4924: 'trick', 4925: 'burp', 4926: 'baseball', 4927: 'super', 4928: 'sad', 4929: 'be', 4930: 'harv', 4931: 'pilsner-pusher', 4932: 'contract', 4933: 'links', 4934: 'brains', 4935: 'loud', 4936: 'special', 4937: 'month', 4938: 'holding', 4939: 'ingredient', 4940: 'madonna', 4941: 'sun', 4942: 'wangs', 4943: 'dateline:', 4944: \"livin'\", 4945: 'infor', 4946: 'examines', 4947: 'underwear', 4948: 'urban', 4949: 'deliberately', 4950: 'edgy', 4951: 'cavern', 4952: 'lady-free', 4953: 'blinded', 4954: 'palm', 4955: 'times', 4956: 'owner', 4957: 'margarita', 4958: 'whaaa', 4959: 'make:', 4960: 'edison', 4961: 'disturbance', 4962: 'bar_rag:', 4963: 'safely', 4964: 'cuff', 4965: 'habit', 4966: 'tomatoes', 4967: 'average-looking', 4968: 'deer', 4969: 'literature', 4970: 'creature', 4971: \"'pu\", 4972: 'wife-swapping', 4973: 'deals', 4974: 'cent', 4975: 'г', 4976: 'smelling', 4977: 'ivory', 4978: 'batmobile', 4979: 'test-', 4980: 'runs', 4981: 'dignified', 4982: 'orgasmville', 4983: 'playful', 4984: 'glummy', 4985: 'psst', 4986: 'grandiose', 4987: 'joking', 4988: 'innocuous', 4989: 'mm', 4990: 'elocution', 4991: 'coy', 4992: 'premiering', 4993: 'mention', 4994: 'beefs', 4995: 'spare', 4996: 'elephants', 4997: 'badly', 4998: 'vacation', 4999: 'corner', 5000: 'the_edge:', 5001: 'squad', 5002: 'indignant', 5003: 's-a-u-r-c-e', 5004: 'satisfaction', 5005: 'nucular', 5006: 'flames', 5007: 'band', 5008: 'jeez', 5009: 'creates', 5010: 'pulling', 5011: 'mike', 5012: 'bet', 5013: 'anonymous', 5014: 'maya', 5015: 'briefly', 5016: 'normal', 5017: 'plan', 5018: 'send', 5019: 'verdict', 5020: 'newsletter', 5021: 'script', 5022: 'bono:', 5023: 'mary', 5024: 'shtick', 5025: 'kid', 5026: \"battin'\", 5027: 'waylon_smithers:', 5028: 'gossipy', 5029: 'cakes', 5030: 'agent_johnson:', 5031: 'size', 5032: 'hairs', 5033: 'musical', 5034: 'purse', 5035: 'alphabet', 5036: 'headhunters', 5037: \"ridin'\", 5038: 'horrors', 5039: 'pigs', 5040: 'michelin', 5041: '1-800-555-hugs', 5042: 'thorn', 5043: 'youth', 5044: 'christmas', 5045: 'upbeat', 5046: 'u2:', 5047: 'writer:', 5048: 'thirty-five', 5049: 'chauffeur:', 5050: \"bartender's\", 5051: 'become', 5052: 'wazoo', 5053: 'streetcorner', 5054: 'crumble', 5055: 'astronauts', 5056: 'so-ng', 5057: 'issues', 5058: 'insecure', 5059: 'hibachi', 5060: 'rules', 5061: 'plants', 5062: 'effervescence', 5063: 'bulked', 5064: \"tomorrow's\", 5065: 'snackie', 5066: 'buried', 5067: 'lumpa', 5068: 'sickened', 5069: 'dessert', 5070: 'academy', 5071: 'hockey-fight', 5072: 'luv', 5073: 'insured', 5074: 'beverage', 5075: 'glyco-load', 5076: 'ding-a-ding-ding-ding-ding-ding-ding', 5077: 'hospital', 5078: 'feet', 5079: \"showin'\", 5080: 'espn', 5081: 'forbidden', 5082: 'rid', 5083: 'live', 5084: 'mumbling', 5085: 'windowshade', 5086: 'raging', 5087: 'si-lent', 5088: 'beer-jerks', 5089: 'slap', 5090: 'compared', 5091: 'choose', 5092: 'rats', 5093: 'young', 5094: 'sneak', 5095: 'minute', 5096: 'despite', 5097: 'bottomless', 5098: 'rub', 5099: 'asses', 5100: 'throat', 5101: 'wells', 5102: 'indigenous', 5103: 'wooden', 5104: 'sent', 5105: 'sink', 5106: \"bladder's\", 5107: 'admiration', 5108: 'remember', 5109: 'low-blow', 5110: 'carb', 5111: 'delightfully', 5112: 'prize', 5113: 'relaxing', 5114: 'koi', 5115: 'humiliation', 5116: \"pressure's\", 5117: 'depression', 5118: 'sunny', 5119: 'bugging', 5120: 'slogan', 5121: 'sincere', 5122: 'taxes', 5123: 'fulla', 5124: 'noooooooooo', 5125: \"one's\", 5126: 'launch', 5127: 'ass', 5128: 'surprise', 5129: \"elmo's\", 5130: 'forgive', 5131: \"town's\", 5132: 'prohibit', 5133: 'slip', 5134: 'punching', 5135: 'quimby', 5136: 'annual', 5137: 'boxcars', 5138: 'hammer', 5139: 'patty', 5140: 'tobacky', 5141: 'swooning', 5142: 'simple', 5143: 'what', 5144: 'ura', 5145: 'mcclure', 5146: 'loved', 5147: 'hoo', 5148: 'bubbles-in-my-nose-y', 5149: 'minors', 5150: 'christopher', 5151: 'went', 5152: 'single-mindedness', 5153: 'maher', 5154: 'faceful', 5155: 'mater', 5156: 'thinking', 5157: 'professor_jonathan_frink:', 5158: 'jailbird', 5159: 'one-hour', 5160: 'kind', 5161: 'cuz', 5162: 'slender', 5163: 'searching', 5164: \"tab's\", 5165: 'partly', 5166: 'sinister', 5167: 'panicked', 5168: 'pressure', 5169: 'months', 5170: 'ear', 5171: 'characteristic', 5172: 'tear', 5173: 'banned', 5174: 'troy_mcclure:', 5175: 'hold', 5176: 'unhook', 5177: 'station', 5178: 'jelly', 5179: 'struggling', 5180: 'favor', 5181: 'cat', 5182: 'tenuous', 5183: 'insurance', 5184: 'sucking', 5185: 'shaky', 5186: 'louisiana', 5187: 'fraud', 5188: 'tentative', 5189: 'supplying', 5190: 'hub', 5191: 'highball', 5192: 'nards', 5193: 'oh-ho', 5194: 'gotten', 5195: 'beligerent', 5196: 'cops', 5197: 'turning', 5198: 'bridge', 5199: 'kill', 5200: 'sport', 5201: 'twenty-five', 5202: 'chateau', 5203: 'friendship', 5204: 'work', 5205: \"neat's-foot\", 5206: 'tickets', 5207: 'activity', 5208: 'afford', 5209: 'cameras', 5210: 'crippling', 5211: 'anarchy', 5212: 'may', 5213: 'son-of-a', 5214: 'remembering', 5215: 'chocolate', 5216: 'science', 5217: 'british', 5218: 'fatso', 5219: 'hooky', 5220: 'sells', 5221: 'contemplated', 5222: 'polygon', 5223: 'problems', 5224: 'blissful', 5225: 'runt', 5226: 'publishers', 5227: 'wraps', 5228: 'loaded', 5229: 'girl', 5230: 'laney', 5231: '100', 5232: 'fist', 5233: 'pian-ee', 5234: 'prints', 5235: 'grabs', 5236: 'french', 5237: 'aziz', 5238: 'neighborhood', 5239: 'grin', 5240: 'hooters', 5241: 'tatum', 5242: 'forget-me-shot', 5243: 'practically', 5244: 'tongue', 5245: 'gorgeous', 5246: 'beautiful', 5247: 'delays', 5248: 'grub', 5249: 'influence', 5250: 'protestantism', 5251: 'pee', 5252: 'actor', 5253: 'sports', 5254: 'mortal', 5255: 'hero', 5256: 'incriminating', 5257: 'chinese', 5258: 'collette:', 5259: \"we've\", 5260: 'sponge', 5261: 'read:', 5262: 'bidet', 5263: 'disturbing', 5264: 'haiti', 5265: 'gut', 5266: 'pretends', 5267: 'loan', 5268: 'closing', 5269: 'donation', 5270: 'write', 5271: 'calculate', 5272: 'dance', 5273: 'sexton', 5274: 'gibson', 5275: 'stamps', 5276: 'exhibit', 5277: 'appreciate', 5278: 'finishing', 5279: 'stays', 5280: 'breaks', 5281: 'generosity', 5282: 'municipal', 5283: 'female_inspector:', 5284: 'freshened', 5285: \"can't\", 5286: 'faces', 5287: 'praise', 5288: 'raking', 5289: 'tenor:', 5290: \"there's\", 5291: 'yuh-huh', 5292: 'punches', 5293: 'yew', 5294: 'violations', 5295: 'hate', 5296: 'contemptuous', 5297: 'donate', 5298: 'yup', 5299: 'cover', 5300: 'sympathizer', 5301: 'champs', 5302: 'case', 5303: 'teriyaki', 5304: \"number's\", 5305: 'photo', 5306: 'bump', 5307: 'federal', 5308: 'storms', 5309: \"'\", 5310: 'sets', 5311: \"round's\", 5312: \"yieldin'\", 5313: 'chin', 5314: 'investigating', 5315: 'throws', 5316: 'checking', 5317: 'swig', 5318: 'beer:', 5319: 'always', 5320: 'gasp', 5321: 'horrible', 5322: 'fantastic', 5323: 'displeased', 5324: 'know', 5325: 'dogs', 5326: 'delicate', 5327: 'blew', 5328: 'alky', 5329: 'uglier', 5330: 'court', 5331: 'carney', 5332: 'winner', 5333: 'drank', 5334: 'by', 5335: 'presents', 5336: 'toe', 5337: 'abcs', 5338: 'tease', 5339: 'huggenkiss', 5340: 'their', 5341: 'kent_brockman:', 5342: \"what'd\", 5343: 'hygienically', 5344: 'presses', 5345: 'ballot', 5346: 'cajun', 5347: 'sledge-hammer', 5348: 'cushions', 5349: 'oooh', 5350: 'kisser', 5351: 'onions', 5352: 'deny', 5353: 'understand', 5354: 'logos', 5355: 'illegal', 5356: \"wallet's\", 5357: 'therapy', 5358: \"raggin'\", 5359: 'free', 5360: \"fendin'\", 5361: 'scores', 5362: 'pajamas', 5363: 'sex', 5364: 'sinkhole', 5365: 'expensive', 5366: 'papa', 5367: \"ma'am\", 5368: 'multiple', 5369: 'kim_basinger:', 5370: 'self-satisfied', 5371: \"today's\", 5372: 'recently', 5373: 'convenient', 5374: \"ragin'\", 5375: 'nachos', 5376: 'managing', 5377: 'ignorance', 5378: 'presumir', 5379: 'methinks', 5380: 'darts', 5381: 'truck_driver:', 5382: 'homer_doubles:', 5383: 'in-ground', 5384: '_eugene_blatz:', 5385: 'either', 5386: 'feel', 5387: 'jeter', 5388: 'eddie:', 5389: 'subscriptions', 5390: 'bail', 5391: 'written', 5392: 'jay_leno:', 5393: 'sing', 5394: 'aggravazes', 5395: 'toys', 5396: 'soul-crushing', 5397: 'tough', 5398: 'shag', 5399: 'control', 5400: 'mike_mills:', 5401: 'boat', 5402: 'lenses', 5403: 'fat_in_the_hat:', 5404: 'explanation', 5405: 'bonfire', 5406: 'post-suicide', 5407: 'once', 5408: 'thirty-thousand', 5409: 'noggin', 5410: 'cell', 5411: 'torn', 5412: 'crinkly', 5413: 'wizard', 5414: \"lovers'\", 5415: 'admirer', 5416: 'unlocked', 5417: 'passes', 5418: 'punch', 5419: 'tokens', 5420: 'leathery', 5421: 'professor', 5422: 'shriners', 5423: 'flew', 5424: 'jackpot-thief', 5425: 'gluten', 5426: 'bannister', 5427: 'sidekick', 5428: 'sanctuary', 5429: 'trenchant', 5430: \"aren't\", 5431: 'joey_kramer:', 5432: 'arrived', 5433: 'smokes', 5434: 'courteous', 5435: \"wouldn't-a\", 5436: 'corkscrew', 5437: 'helicopter', 5438: 'malted', 5439: 'mahatma', 5440: 'push', 5441: 'period', 5442: 'hired', 5443: 'swe-ee-ee-ee-eet', 5444: 'bitterly', 5445: '||exclamation_mark||', 5446: 'pitch', 5447: 'lately', 5448: 'club', 5449: 'politicians', 5450: 'layer', 5451: 'sound', 5452: 'refreshing', 5453: 'zone', 5454: 'mayan', 5455: 'shaking', 5456: 'picky', 5457: 'certificate', 5458: 'legally', 5459: 'love', 5460: 'youngsters', 5461: 'stop', 5462: 'quarry', 5463: 'eminence', 5464: 'groan', 5465: 'tomahto', 5466: 'compressions', 5467: 'joey', 5468: 'way', 5469: 'fifty', 5470: 'born', 5471: 'hawaii', 5472: 'wrestle', 5473: 'now', 5474: 'yee-haw', 5475: 'though:', 5476: 'upon', 5477: 'schedule', 5478: 'rap', 5479: 'positive', 5480: 'marge_simpson:', 5481: 'telephone', 5482: 'bathroom', 5483: 'pickled', 5484: 'ruby-studded', 5485: 'lincoln', 5486: 'chum', 5487: \"robbin'\", 5488: 'published', 5489: 'gift:', 5490: \"lefty's\", 5491: 'hurry', 5492: 'screams', 5493: 'emporium', 5494: \"'your\", 5495: 'tie', 5496: 'fifth', 5497: 'narrator:', 5498: 'maiden', 5499: 'richard', 5500: 'pub', 5501: 'experiments', 5502: 'pointing', 5503: 'kills', 5504: 'meanwhile', 5505: 'rubbed', 5506: 'nor', 5507: 'park', 5508: 'sagely', 5509: 'mccall', 5510: 'midnight', 5511: 'heard', 5512: 'fires', 5513: 'slobbo', 5514: 'maintenance', 5515: \"tinklin'\", 5516: 'exits', 5517: 'kyoto', 5518: 'sodas', 5519: 'syrup', 5520: 'holiday', 5521: 'whoever', 5522: 'laramie', 5523: 'amused', 5524: 'dateline', 5525: 'enthusiastically', 5526: 'bite', 5527: 'contact', 5528: 'temper', 5529: 'homeless', 5530: \"fun's\", 5531: 'chairman', 5532: 'cleaner', 5533: 'simplest', 5534: 'opens', 5535: 'app', 5536: 'whispers', 5537: 'together', 5538: 'washer', 5539: 'vulnerable', 5540: 'emphasis', 5541: 'ninth', 5542: 'believer', 5543: 'fell', 5544: 'bowl', 5545: 'doll-baby', 5546: \"edna's\", 5547: 'annus', 5548: 'strangles', 5549: 'ironed', 5550: 'гђ', 5551: \"i'm-so-stupid\", 5552: 'intruding', 5553: 'dealie', 5554: 'irs', 5555: 'wars', 5556: 'maxed', 5557: 'tire', 5558: 'crowned', 5559: 'online', 5560: 'chuckle', 5561: 'flea:', 5562: 'wuss', 5563: 'eating', 5564: \"washin'\", 5565: 'scrubbing', 5566: 'chase', 5567: 'works', 5568: 'senators:', 5569: 'woooooo', 5570: 'horns', 5571: 'sympathy', 5572: 'americans', 5573: 'lady', 5574: 'rims', 5575: 'nap', 5576: 'stirring', 5577: \"pope's\", 5578: 'trust', 5579: 'percent', 5580: 'tang', 5581: 'dad', 5582: 'linda', 5583: 'frog', 5584: 'symphonies', 5585: 'sweetie', 5586: 'flexible', 5587: 'thirsty', 5588: 'heading', 5589: 'covers', 5590: \"table's\", 5591: 'ton', 5592: 'brief', 5593: 'bugs', 5594: 'butt', 5595: 'breaking', 5596: 'brotherhood', 5597: 'beings', 5598: 'eyeing', 5599: 'smurfs', 5600: 'rolling', 5601: 'nervous', 5602: 'tidy', 5603: 'young_moe:', 5604: 'hoping', 5605: 'painless', 5606: \"how'd\", 5607: 'dating', 5608: 'yammering', 5609: 'ginger', 5610: 'lou:', 5611: 'stairs', 5612: 'albert', 5613: 'oughtta', 5614: 'hunting', 5615: 'counting', 5616: 'legend', 5617: 'wasting', 5618: 'hangs', 5619: 'falcons', 5620: 'vin', 5621: 'judgments', 5622: 'workers', 5623: 'hmmm', 5624: 'notorious', 5625: 'st', 5626: 'japanese', 5627: 'celebrate', 5628: 'bed', 5629: 'hanh', 5630: 'pre-recorded', 5631: 'suspended', 5632: 'rest', 5633: 'happier', 5634: 'swallowed', 5635: 'tolerable', 5636: 'intense', 5637: 'stonewall', 5638: 'square', 5639: 'banquet', 5640: 'rob', 5641: 'see', 5642: 'friction', 5643: 'bubbles', 5644: 'melodramatic', 5645: 'knocked', 5646: 'checks', 5647: 'dramatic', 5648: 'men:', 5649: 'step', 5650: 'besides', 5651: 'scully', 5652: 'owns', 5653: 'hootie', 5654: 'pip', 5655: 'cookies', 5656: 'audience:', 5657: 'recommend', 5658: 'appointment', 5659: 'deeper', 5660: 'created', 5661: 'dna', 5662: 'tummies', 5663: 'bar', 5664: 'outta', 5665: 'restaurants', 5666: 'mix', 5667: 'letter', 5668: 'optimistic', 5669: 'moe_szyslak:', 5670: 'fighter', 5671: 'progress', 5672: 'swan', 5673: 'effects', 5674: 'sec', 5675: 'likes', 5676: 'ghouls', 5677: 'important', 5678: 'shuts', 5679: 'regretful', 5680: 'thoughtful', 5681: 'chubby', 5682: 'dumptruck', 5683: 'watch', 5684: 'factor', 5685: 'sucks', 5686: 'marshmallow', 5687: 'enveloped', 5688: 'ditched', 5689: 'outs', 5690: 'pigtown', 5691: 'dirty', 5692: 'solves', 5693: 'fuhgetaboutit', 5694: 'conversation', 5695: 'blaze', 5696: 'richer', 5697: 'done', 5698: 'sings', 5699: 'sternly', 5700: 'f', 5701: 'doctor', 5702: 'grim', 5703: 'defiantly', 5704: \"fans'll\", 5705: 'fourteen:', 5706: 'come', 5707: 'mind-numbing', 5708: 'scram', 5709: 'billboard', 5710: 'ivy-covered', 5711: 'rainforest', 5712: 'grants', 5713: 'darkest', 5714: 'verticality', 5715: 'breathtaking', 5716: 'prefer', 5717: 'wang', 5718: 'yells', 5719: 'wing', 5720: 'decent', 5721: 'odd', 5722: 'biggest', 5723: 'sunk', 5724: 'hillary', 5725: 'freaky', 5726: 'nonchalantly', 5727: 'carl:', 5728: 'edge', 5729: 'full-time', 5730: 'road', 5731: 'promised', 5732: 'aah', 5733: 'regretted', 5734: 'might', 5735: 'corpses', 5736: 'trapping', 5737: 'simultaneous', 5738: 'paramedic:', 5739: 'kermit', 5740: 'overflowing', 5741: 'gin-slingers', 5742: 'tones', 5743: 'waist', 5744: 'slot', 5745: 'hems', 5746: 'young_marge:', 5747: 'lord', 5748: 'everything', 5749: 'portentous', 5750: 'yourse', 5751: 'buddy', 5752: 'somebody', 5753: 'mr', 5754: 'burnside', 5755: \"coffee'll\", 5756: 'strains', 5757: 'powerful', 5758: 'gag', 5759: 'comic', 5760: 'belts', 5761: 'half-day', 5762: 'prove', 5763: 'stamp', 5764: 'intimacy', 5765: 'halloween', 5766: 'sit', 5767: 'part', 5768: \"breakin'\", 5769: 'grey', 5770: 'uh-oh', 5771: 'sperm', 5772: 'hates', 5773: 'heart', 5774: 'sobbing', 5775: 'guessing', 5776: 'kegs', 5777: 'tanked-up', 5778: 'eighty-five', 5779: 'eventually', 5780: 'north', 5781: 'lance', 5782: 'dumb-asses', 5783: 'wikipedia', 5784: 'yap', 5785: 'stolen', 5786: 'bow', 5787: 'arms', 5788: 'hungry', 5789: 'natural', 5790: 'face', 5791: 'walked', 5792: 'aboard', 5793: 'b-day', 5794: 'prolonged', 5795: 'chained', 5796: 'bring', 5797: 'mate', 5798: 'doug:', 5799: 'widow', 5800: 'sucker', 5801: 'referee', 5802: 'fiction', 5803: 'remain', 5804: 'gary_chalmers:', 5805: 'donuts', 5806: 'y', 5807: 'standards', 5808: 'motor', 5809: \"haven't\", 5810: 'modern', 5811: 'forty', 5812: 'pirate', 5813: 's', 5814: 'cutting', 5815: 'price', 5816: 'bottom', 5817: 'easter', 5818: 'rub-a-dub', 5819: 'mt', 5820: 'information', 5821: 'manage', 5822: \"patrick's\", 5823: 'ehhhhhhhh', 5824: 'paintings', 5825: 'causes', 5826: 'spoon', 5827: 'pats', 5828: 'apu_nahasapeemapetilon:', 5829: \"c'mom\", 5830: 'surprised', 5831: 'without', 5832: 'rafters', 5833: 'argue', 5834: \"takin'\", 5835: 'tubman', 5836: 'contest', 5837: 'benefits', 5838: 'somewhere', 5839: 'surprised/thrilled', 5840: 'shoot', 5841: 'abolish', 5842: 'warm_female_voice:', 5843: 'whatchamacallit', 5844: 'answered', 5845: 'relax', 5846: 'stops', 5847: \"linin'\", 5848: 'how', 5849: 'cola', 5850: 'access', 5851: 'mansions', 5852: 'dozen', 5853: 'einstein', 5854: 'frightened', 5855: 'president', 5856: 'fantasy', 5857: 'snatch', 5858: 'obsessive-compulsive', 5859: 'sexual', 5860: 'kramer', 5861: 'pointy', 5862: 'adjourned', 5863: 'bum:', 5864: 'runaway', 5865: 'uninhibited', 5866: 'polenta', 5867: 'absentmindedly', 5868: 'whole', 5869: 'dirge-like', 5870: 'foibles', 5871: \"'cept\", 5872: \"knockin'\", 5873: 'robin', 5874: 'acceptance', 5875: 'domed', 5876: 'toasting', 5877: 'make', 5878: 'replace', 5879: 'sec_agent_#1:', 5880: 'uncle', 5881: 'heh-heh', 5882: 'declare', 5883: 'smells', 5884: 'wants', 5885: 'furious', 5886: 'seek', 5887: 'teenage_barney:', 5888: 'pond', 5889: 'tanking', 5890: 'occurs', 5891: 'aside', 5892: 'cheese', 5893: 'caricature', 5894: 'conclude', 5895: 'husband', 5896: 'hostages', 5897: 'thought_bubble_homer:', 5898: 'whoa', 5899: 'car', 5900: 'patented', 5901: 'sponge:', 5902: 'list', 5903: 'umm', 5904: 'shareholder', 5905: 'ourselves', 5906: 'refund', 5907: 'mis-statement', 5908: 'kwik-e-mart', 5909: 'detecting', 5910: 'cool', 5911: 'swigmore', 5912: 'pause', 5913: 'citizens', 5914: 'inspection', 5915: 'aw', 5916: 'carl', 5917: 'very', 5918: 'restroom', 5919: 'fontaine', 5920: 'whose', 5921: 'village', 5922: 'tastes', 5923: 'full', 5924: 'first', 5925: 'heavyweight', 5926: 'prime', 5927: 'girlfriend', 5928: 'principles', 5929: 'cap', 5930: 'hosting', 5931: 'bragging', 5932: 'knives', 5933: 'fishing', 5934: 'reviews', 5935: 'scene', 5936: 'andrew', 5937: 'duffman:', 5938: 'stomach', 5939: 'graves', 5940: 'associate', 5941: 'kneeling', 5942: \"'topes\", 5943: 'kickoff', 5944: 'applesauce', 5945: 'correction', 5946: 'ashamed', 5947: 'along', 5948: 'slurps', 5949: 'infatuation', 5950: 'needed', 5951: 'bad', 5952: 'playoff', 5953: 'looked', 5954: 'twentieth', 5955: 'mouth', 5956: 'b', 5957: 'dropped', 5958: 'hideous', 5959: 'troy:', 5960: 'oh-so-sophisticated', 5961: 'bees', 5962: 'lives', 5963: 'wigs', 5964: 'able', 5965: 'kennedy', 5966: 'quarter', 5967: 'additional-seating-capacity', 5968: 'anywhere', 5969: 'scam', 5970: 'strategy', 5971: 'seminar', 5972: 'excavating', 5973: 'burg', 5974: 'engraved', 5975: 'stumble', 5976: 'diddilies', 5977: 'senators', 5978: 'alva', 5979: 'kick-ass', 5980: 'wordloaf', 5981: 'mediterranean', 5982: 'unjustly', 5983: 'did', 5984: 'campaign', 5985: 'said', 5986: 'britannia', 5987: 'strolled', 5988: 'ventriloquism', 5989: 'suds', 5990: 'grab', 5991: 'hispanic_crowd:', 5992: 'paris', 5993: 'trouble', 5994: 'bras', 5995: 'noosey', 5996: 'middle', 5997: 'combination', 5998: 'powers', 5999: 'cold', 6000: 'theory', 6001: 'firmly', 6002: \"i've\", 6003: \"football's\", 6004: 'shard', 6005: 'swishkabobs', 6006: 'tight', 6007: 'gunk', 6008: 'entire', 6009: 'duel', 6010: 'public', 6011: 'housing', 6012: 'network', 6013: 'george', 6014: 'jacques:', 6015: 'blur', 6016: 'dramatically', 6017: 'bags', 6018: 'carnival', 6019: 'sponsor', 6020: 'given', 6021: 'old_jewish_man:', 6022: 'lone', 6023: 'disguise', 6024: 'manuel', 6025: 'until', 6026: 'statues', 6027: 'ahem', 6028: \"depressin'\", 6029: 'needs', 6030: 'pop', 6031: 'overstressed', 6032: 'omit', 6033: 'focused', 6034: 'safer', 6035: 'pyramid', 6036: 'tv_wife:', 6037: 'er', 6038: 'project', 6039: 'guiltily', 6040: 'scary', 6041: 'worldview', 6042: 'so', 6043: 'sniper', 6044: 'gulliver_dark:', 6045: 'head', 6046: 'kentucky', 6047: 'dearest', 6048: 'ahh', 6049: 'suave', 6050: 'abe', 6051: 'kadlubowski', 6052: \"pullin'\", 6053: \"president's\", 6054: 'spooky', 6055: 'guard', 6056: 'proposing', 6057: 'folks', 6058: 'frankly', 6059: 'thrilled', 6060: 'huhza', 6061: 'offense', 6062: 'princesses', 6063: 'germs', 6064: 'way:', 6065: 'unavailable', 6066: 'booger', 6067: \"wait'll\", 6068: 'hydrant', 6069: 'children', 6070: 'mcbain', 6071: 'drederick', 6072: 'sheepish', 6073: 'raising', 6074: 'whoops', 6075: 'glitterati', 6076: 'andy', 6077: \"liftin'\", 6078: 'buzziness', 6079: 'tv_husband:', 6080: 'pharmaceutical', 6081: 'fleabag', 6082: 'take', 6083: 'shelbyville', 6084: 'loudly', 6085: 'mouths', 6086: 'win', 6087: 'penmanship', 6088: 'doreen:', 6089: 'scornfully', 6090: 'attitude', 6091: 'international', 6092: 'corn', 6093: 'license', 6094: 'books', 6095: 'yellow', 6096: 'billy_the_kid:', 6097: 'recap:', 6098: 'nickels', 6099: 'wenceslas', 6100: 'chumbawamba', 6101: 'pepsi', 6102: 'recruiter', 6103: 'clips', 6104: 'curious', 6105: 'eighty-six', 6106: 'feat', 6107: 'light', 6108: 'rich', 6109: 'jack', 6110: 'macho', 6111: 'woe:', 6112: 'to', 6113: 'billion', 6114: 'open-casket', 6115: 'ruint', 6116: 'yet', 6117: 'burt_reynolds:', 6118: \"swishifyin'\", 6119: 'peanut', 6120: \"life's\", 6121: 'ew', 6122: 'jams', 6123: 'travel', 6124: 'looks', 6125: 'crawl', 6126: 'motorcycle', 6127: 'stab', 6128: 'rookie', 6129: 'socialize', 6130: 'bull', 6131: 'floating', 6132: \"games'd\", 6133: \"singin'\", 6134: 'du', 6135: 'bellyaching', 6136: '_babcock:', 6137: 'with', 6138: 'wondered', 6139: 'earrings', 6140: 'bill_james:', 6141: 'i-i-i', 6142: 'rip-off', 6143: 'ad', 6144: 'high-definition', 6145: 'notice', 6146: 'chunk', 6147: 'cares', 6148: 'yesterday', 6149: \"boy's\", 6150: 'pepper', 6151: 'xanders', 6152: 'every', 6153: 'secret', 6154: 'rainier_wolfcastle:', 6155: \"car's\", 6156: 'spoken', 6157: 'bake', 6158: 'raggie', 6159: 'sister-in-law', 6160: 'flanders:', 6161: 'krusty_the_clown:', 6162: 'catty', 6163: 'booze-bags', 6164: 'prison', 6165: 'yogurt', 6166: 'perгіn', 6167: 'birth', 6168: 'cotton', 6169: 'someplace', 6170: 'philosophic', 6171: 'rat', 6172: 'diapers', 6173: 'mean', 6174: 'ratio', 6175: 'walther', 6176: 'hoped', 6177: 'unison', 6178: 'plum', 6179: 'rationalizing', 6180: 'pepto-bismol', 6181: 'beer', 6182: 'bird', 6183: 'writing', 6184: 'spinning', 6185: \"who's\", 6186: 'scrutinizing', 6187: 'creeps', 6188: \"crawlin'\", 6189: 'repay', 6190: 'ingrates', 6191: 'tasimeter', 6192: 'what-for', 6193: 'cocoa', 6194: 'jig', 6195: 'strain', 6196: \"secret's\", 6197: 'illegally', 6198: 'majority', 6199: 'awe', 6200: 'scratching', 6201: 'wisconsin', 6202: 'gheet', 6203: 'behind', 6204: 'pickles', 6205: 'getcha', 6206: 'anything', 6207: 'businessman_#2:', 6208: 'isotopes', 6209: 'bones', 6210: 'certain', 6211: 'flown', 6212: 'tries', 6213: 'karaoke', 6214: \"children's\", 6215: 'followed', 6216: 'source', 6217: 'bowled', 6218: 'singing/pushing', 6219: 'kay', 6220: 'spend', 6221: 'fatty', 6222: 'manboobs', 6223: 'guy', 6224: 'grubby', 6225: 'endorsed', 6226: 'chain', 6227: 'competing', 6228: 'poisoning', 6229: 'glasses', 6230: 'cecil', 6231: 'eyeballs', 6232: 'gals', 6233: 'student', 6234: 'white_rabbit:', 6235: 'sideshow_mel:', 6236: 'overhearing', 6237: 'fringe', 6238: 'recent', 6239: 'marguerite:', 6240: 'saga', 6241: 'located', 6242: 'kissing', 6243: 'eve', 6244: 'fiiiiile', 6245: 'politics', 6246: 'hangout', 6247: 'steampunk', 6248: 'sticker', 6249: 'garbage', 6250: 'option', 6251: 'ointment', 6252: 'abandon', 6253: 'pews', 6254: 'treasure', 6255: 'grandkids', 6256: \"'im\", 6257: 'spiritual', 6258: 'clone', 6259: 'both', 6260: 'mellow', 6261: \"smokin'_joe_frazier:\", 6262: 'most:', 6263: 'sing-song', 6264: 'ancestors', 6265: 'stars', 6266: 'health_inspector:', 6267: 'everyone', 6268: 'mystery', 6269: 'collateral', 6270: 'planned', 6271: 'hooray', 6272: 'plow', 6273: 'about', 6274: 'died', 6275: 'beneath', 6276: 'long', 6277: 'rump', 6278: 'indeedy', 6279: 'majesty', 6280: 'combine', 6281: 'balls', 6282: 'cattle', 6283: 'eleven', 6284: 'champ', 6285: 'nauseous', 6286: 'pledge', 6287: 'weirder', 6288: 'lucius', 6289: 'mild', 6290: 'milhouses', 6291: 'coincidentally', 6292: 'shoes', 6293: 'passports', 6294: 'bachelorhood', 6295: 'rods', 6296: 'vigilante', 6297: 'chapstick', 6298: 'orphan', 6299: \"brockman's\", 6300: 'eyes', 6301: 'bride', 6302: 'lushmore', 6303: 'steel', 6304: 'grace', 6305: 'dice', 6306: 'us', 6307: 'food', 6308: \"writin'\", 6309: 'oughta', 6310: 'loser', 6311: 'yello', 6312: 'mona_simpson:', 6313: 'having', 6314: 'well', 6315: 'adeleine', 6316: 'cheers', 6317: 'ominous', 6318: 'bill', 6319: 'innocence', 6320: 'find', 6321: 'owes', 6322: 'last', 6323: 'geez', 6324: 'wildest', 6325: 'comedies', 6326: 'spit-backs', 6327: 'least', 6328: 'heck', 6329: 'hey', 6330: 'bless', 6331: 'clothes', 6332: 'fireworks', 6333: 'fudd', 6334: 'speaking', 6335: 'bottoms', 6336: 'violin', 6337: 'follow', 6338: 'afraid', 6339: 'vincent', 6340: 'karaoke_machine:', 6341: 'shock', 6342: 'new', 6343: 'peabody', 6344: 'squadron', 6345: 'eaters', 6346: 'suddenly', 6347: 'fork', 6348: 'chuck', 6349: 'ungrateful', 6350: \"larry's\", 6351: 'gear-head', 6352: 'finest', 6353: 'author', 6354: 'laws', 6355: 'scum', 6356: 'sick', 6357: 'difference', 6358: 'broad', 6359: 'tourist', 6360: 'labels', 6361: 'hampstead-on-cecil-cecil', 6362: 'release', 6363: 'charged', 6364: 'pizzicato', 6365: \"where'd\", 6366: 'adjust', 6367: 'blamed', 6368: 'fbi', 6369: 'talkative', 6370: 'drove', 6371: 'reliable', 6372: \"fishin'\", 6373: 'car:', 6374: 'hear', 6375: 'rude', 6376: 'j', 6377: 'appendectomy', 6378: 'crayon', 6379: 'attraction', 6380: 'family', 6381: 'knowingly', 6382: 'pall', 6383: 'wings', 6384: '530', 6385: 'without:', 6386: 'voted', 6387: 'lady_duff:', 6388: 'ingested', 6389: 'pen', 6390: 'bachelor', 6391: 'piling', 6392: 'para', 6393: 'tied', 6394: 'maitre', 6395: 'idea', 6396: \"shouldn't\", 6397: 'inspired', 6398: 'wins', 6399: 'amanda', 6400: 'nearly', 6401: 'late', 6402: \"dolph's_dad:\", 6403: 'newest', 6404: 'eye-gouger', 6405: 'agh', 6406: 'ling', 6407: 'sadly', 6408: 'was', 6409: 'heh', 6410: 'awkwardly', 6411: 'funds', 6412: 'ease', 6413: \"somethin'\", 6414: 'trip', 6415: 'retired', 6416: 'starting', 6417: 'fuzzlepitch', 6418: 'apartment', 6419: 'test-lady', 6420: 'donut', 6421: 'ga', 6422: \"hobo's\", 6423: 'sentimonies', 6424: 'blackjack', 6425: \"drexel's\", 6426: 'stands', 6427: 'uh', 6428: 'pushing', 6429: 'proof', 6430: 'moe-ron', 6431: 'refiero', 6432: 'crazy', 6433: 'forty-five', 6434: 'ohmygod', 6435: 'message', 6436: 'color', 6437: 'winnings', 6438: 'beauty', 6439: 'thnord', 6440: 'teeth', 6441: 'common', 6442: 'atari', 6443: 'school', 6444: 'safecracker', 6445: 'latin', 6446: 'crap', 6447: 'candy', 6448: 'selfish', 6449: 'david_byrne:', 6450: 'lorre', 6451: 'men', 6452: 'encouraging', 6453: 'scratcher', 6454: 'season', 6455: 'clinton', 6456: 'neanderthal', 6457: 'behavior', 6458: \"we'll\", 6459: 'connor-politan', 6460: 'dude', 6461: 'compare', 6462: 'appeals', 6463: 'lachrymose', 6464: \"leavin'\", 6465: 'needy', 6466: 'cletus_spuckler:', 6467: \"poisonin'\", 6468: 'confidential', 6469: 'debonair', 6470: 'mexican_duffman:', 6471: 'albeit', 6472: 'gives', 6473: 'aww', 6474: 'course', 6475: 'nice', 6476: 'deliberate', 6477: 'cars', 6478: 'serious', 6479: \"speakin'\", 6480: 'life-sized', 6481: 'linda_ronstadt:', 6482: 'plus', 6483: 'remodel', 6484: 'vulgar', 6485: 'says', 6486: 'peeping', 6487: 'three', 6488: 'eww', 6489: 'according', 6490: 'chug-monkeys', 6491: 'pets', 6492: 'cockroaches', 6493: 'sudoku', 6494: 'borrow', 6495: 'stuff', 6496: 'offended', 6497: 'peeved', 6498: 'sedaris', 6499: 'damn', 6500: 'nickel', 6501: 'carl_carlson:', 6502: 'disgrace', 6503: 'suppose', 6504: 'tip', 6505: \"marge's\", 6506: 'chorus:', 6507: 'crowbar', 6508: \"stabbin'\", 6509: 'aisle', 6510: 'inspiring', 6511: 'coat', 6512: 'fl', 6513: 'different', 6514: 'represents', 6515: 'officer', 6516: 'itself', 6517: 'mushy', 6518: \"man's_voice:\", 6519: 'feminist', 6520: 'shaken', 6521: 'excuses', 6522: '3', 6523: 'hotel', 6524: 'santa', 6525: 'selective', 6526: 'archaeologist', 6527: 'suru', 6528: 'gasps', 6529: 'lindsay_naegle:', 6530: \"people's\", 6531: 'delicious', 6532: 'presently', 6533: 'wowww', 6534: 'seat', 6535: 'led', 6536: 'attractive_woman_#2:', 6537: 'knock', 6538: 'living', 6539: 'designated', 6540: 'south', 6541: 'jobless', 6542: 'answering', 6543: 'courage', 6544: 'jernt', 6545: 'decided', 6546: \"smackin'\", 6547: 'aerosmith', 6548: 'no', 6549: 'sketch', 6550: 'dog', 6551: \"stinkin'\", 6552: 'groveling', 6553: 'stiffening', 6554: 'disaster', 6555: 'satisfied', 6556: 'jubilant', 6557: 'circus', 6558: '/', 6559: 'sweet', 6560: 'lloyd:', 6561: 'sorts', 6562: 'binoculars', 6563: 'michael', 6564: 'slurred', 6565: 'trucks', 6566: 'quietly', 6567: 'caught', 6568: 'nгјo', 6569: 'calvin', 6570: 'whispered', 6571: 'true', 6572: 'poorer', 6573: 'milhouse', 6574: 'tall', 6575: 'gruff', 6576: 'guest', 6577: 'je', 6578: 'fold', 6579: \"playin'\", 6580: 'gunter', 6581: 'disdainful', 6582: 'morose', 6583: 'talk-sings', 6584: 'coney', 6585: 'automobiles', 6586: 'rule', 6587: 'ones', 6588: \"other's\", 6589: 'cost', 6590: \"cheerin'\", 6591: 'heals', 6592: 'die', 6593: 'room', 6594: 'recorder', 6595: 'move', 6596: 'bart_simpson:', 6597: 'earpiece', 6598: \"wouldn't\", 6599: 'bartenders', 6600: 'sudden', 6601: 'killed', 6602: 'hopeful', 6603: 'flower', 6604: 'counter', 6605: 'generous', 6606: 'carll', 6607: 'could', 6608: 'watt', 6609: 'hoagie', 6610: 'worried', 6611: 'baloney', 6612: 'glass', 6613: 'mariah', 6614: 'these', 6615: 'spot', 6616: 'neil_gaiman:', 6617: 'koholic', 6618: 'so-called', 6619: 'entertainer', 6620: 'gets', 6621: 'stage', 6622: 'press', 6623: \"eatin'\", 6624: 'say', 6625: 'restaurant', 6626: 'miserable', 6627: 'grienke', 6628: 'jumps', 6629: 'poison', 6630: 'mexican', 6631: 'traitors', 6632: 'wound', 6633: 'happiness', 6634: 'duh', 6635: 'rumaki', 6636: 'taylor', 6637: 'omigod', 6638: 'democracy', 6639: 'thoughtfully', 6640: 'graveyard', 6641: 'bunch', 6642: 'cable', 6643: 'longer', 6644: 'donated', 6645: 'warmly', 6646: \"bringin'\", 6647: 'charge', 6648: 'hurting', 6649: 'boxer:', 6650: 'un-sults', 6651: 'gargoyles', 6652: \"o'problem\", 6653: 'index', 6654: 'mic', 6655: 'character', 6656: 'kindly', 6657: 'supreme', 6658: \"d'\", 6659: 'grenky', 6660: 'except', 6661: 'resist', 6662: 'sack', 6663: 'snotball', 6664: 'cooking', 6665: 'afternoon', 6666: 'dumbass', 6667: 'radishes', 6668: 'announcer:', 6669: 'awake', 6670: 'escort', 6671: 'rusty', 6672: 'barkeeps', 6673: 'snake-handler', 6674: 'drinks', 6675: 'pointed', 6676: \"it'll\", 6677: 'partially', 6678: 'choices:', 6679: 'experienced', 6680: 'desire', 6681: 'usually', 6682: 'commit', 6683: 'guinea', 6684: 'tom', 6685: \"brady's\", 6686: 'babies', 6687: 'drawn', 6688: 'cozy', 6689: 'darkness', 6690: 'ocean', 6691: 'othello', 6692: 'truck', 6693: 'beaumont', 6694: 'sight', 6695: 'secrets', 6696: 'curiosity', 6697: 'badge', 6698: 'cecil_terwilliger:', 6699: 'stole', 6700: 'inserted', 6701: 'stinky', 6702: 'games', 6703: 'firm', 6704: 'locklear', 6705: 'happily:', 6706: 'superdad', 6707: 'goes', 6708: 'ring', 6709: 'flash-fry', 6710: 'email', 6711: 'ken:', 6712: 'okay', 6713: \"bashir's\", 6714: 'routine', 6715: 'manipulation', 6716: 'fills', 6717: 'at', 6718: 'roomy', 6719: 'up', 6720: 'tribute', 6721: \"feelin's\", 6722: '10:15', 6723: 'beaumarchais', 6724: 'natured', 6725: 'tragedy', 6726: \"'roids\", 6727: 'nantucket', 6728: 'started', 6729: 'popular', 6730: 'stupid', 6731: 'woman', 6732: 'tabs', 6733: 'rocks', 6734: \"that'd\", 6735: 'number', 6736: 'veux', 6737: 'ho-ly', 6738: 'burps', 6739: 'johnny_carson:', 6740: 'dig', 6741: 'celeste', 6742: 'system', 6743: 'quickly', 6744: 'honest', 6745: 'miss_lois_pennycandy:', 6746: 'thanksgiving', 6747: 'clincher', 6748: \"buffalo's\", 6749: 'donor', 6750: 'charlie', 6751: 'evasive', 6752: 'astrid', 6753: 'onassis', 6754: 'stand', 6755: 'terrified', 6756: 'disgusted', 6757: 'awfully', 6758: 'leprechaun', 6759: 'punk', 6760: 'premise', 6761: \"dimwit's\", 6762: \"watchin'\", 6763: 'whistling', 6764: 'grammy', 6765: 'complicated', 6766: 'portuguese', 6767: 'painting', 6768: 'admiring', 6769: 'allowed', 6770: 'queen', 6771: 'founded', 6772: 'admitting', 6773: 'male_singers:', 6774: \"plank's\", 6775: 'reason', 6776: 'eat', 6777: 'sniffing', 6778: 'aged', 6779: 'magazine'}\n"
     ]
    },
    {
     "ename": "IndexError",
     "evalue": "index 1 is out of bounds for axis 0 with size 1",
     "output_type": "error",
     "traceback": [
      "\u001b[1;31m---------------------------------------------------------------------------\u001b[0m",
      "\u001b[1;31mIndexError\u001b[0m                                Traceback (most recent call last)",
      "\u001b[1;32m<ipython-input-20-5f0f163438d9>\u001b[0m in \u001b[0;36m<module>\u001b[1;34m()\u001b[0m\n\u001b[0;32m     31\u001b[0m             {input_text: dyn_input, initial_state: prev_state})\n\u001b[0;32m     32\u001b[0m \u001b[1;33m\u001b[0m\u001b[0m\n\u001b[1;32m---> 33\u001b[1;33m         \u001b[0mpred_word\u001b[0m \u001b[1;33m=\u001b[0m \u001b[0mpick_word\u001b[0m\u001b[1;33m(\u001b[0m\u001b[0mprobabilities\u001b[0m\u001b[1;33m[\u001b[0m\u001b[0mdyn_seq_length\u001b[0m\u001b[1;33m-\u001b[0m\u001b[1;36m1\u001b[0m\u001b[1;33m]\u001b[0m\u001b[1;33m,\u001b[0m \u001b[0mint_to_vocab\u001b[0m\u001b[1;33m)\u001b[0m\u001b[1;33m\u001b[0m\u001b[0m\n\u001b[0m\u001b[0;32m     34\u001b[0m \u001b[1;33m\u001b[0m\u001b[0m\n\u001b[0;32m     35\u001b[0m         \u001b[0mgen_sentences\u001b[0m\u001b[1;33m.\u001b[0m\u001b[0mappend\u001b[0m\u001b[1;33m(\u001b[0m\u001b[0mpred_word\u001b[0m\u001b[1;33m)\u001b[0m\u001b[1;33m\u001b[0m\u001b[0m\n",
      "\u001b[1;31mIndexError\u001b[0m: index 1 is out of bounds for axis 0 with size 1"
     ]
    }
   ],
   "source": [
    "gen_length = 200\n",
    "# homer_simpson, moe_szyslak, or Barney_Gumble\n",
    "prime_word = 'moe_szyslak'\n",
    "\n",
    "\"\"\"\n",
    "DON'T MODIFY ANYTHING IN THIS CELL THAT IS BELOW THIS LINE\n",
    "\"\"\"\n",
    "loaded_graph = tf.Graph()\n",
    "print(int_to_vocab)\n",
    "with tf.Session(graph=loaded_graph) as sess:\n",
    "    # Load saved model\n",
    "    loader = tf.train.import_meta_graph(load_dir + '.meta')\n",
    "    loader.restore(sess, load_dir)\n",
    "\n",
    "    # Get Tensors from loaded model\n",
    "    input_text, initial_state, final_state, probs = get_tensors(loaded_graph)\n",
    "\n",
    "    # Sentences generation setup\n",
    "    gen_sentences = [prime_word + ':']\n",
    "    prev_state = sess.run(initial_state, {input_text: np.array([[1]])})\n",
    "\n",
    "    # Generate sentences\n",
    "    for n in range(gen_length):\n",
    "        # Dynamic Input\n",
    "        dyn_input = [[vocab_to_int[word] for word in gen_sentences[-seq_length:]]]\n",
    "        dyn_seq_length = len(dyn_input[0])\n",
    "\n",
    "        # Get Prediction\n",
    "        probabilities, prev_state = sess.run(\n",
    "            [probs, final_state],\n",
    "            {input_text: dyn_input, initial_state: prev_state})\n",
    "        \n",
    "        pred_word = pick_word(probabilities[dyn_seq_length-1], int_to_vocab)\n",
    "\n",
    "        gen_sentences.append(pred_word)\n",
    "    \n",
    "    # Remove tokens\n",
    "    tv_script = ' '.join(gen_sentences)\n",
    "    for key, token in token_dict.items():\n",
    "        ending = ' ' if key in ['\\n', '(', '\"'] else ''\n",
    "        tv_script = tv_script.replace(' ' + token.lower(), key)\n",
    "    tv_script = tv_script.replace('\\n ', '\\n')\n",
    "    tv_script = tv_script.replace('( ', '(')\n",
    "        \n",
    "    print(tv_script)"
   ]
  },
  {
   "cell_type": "markdown",
   "metadata": {},
   "source": [
    "# The TV Script is Nonsensical\n",
    "It's ok if the TV script doesn't make any sense.  We trained on less than a megabyte of text.  In order to get good results, you'll have to use a smaller vocabulary or get more data.  Luckly there's more data!  As we mentioned in the begging of this project, this is a subset of [another dataset](https://www.kaggle.com/wcukierski/the-simpsons-by-the-data).  We didn't have you train on all the data, because that would take too long.  However, you are free to train your neural network on all the data.  After you complete the project, of course.\n",
    "# Submitting This Project\n",
    "When submitting this project, make sure to run all the cells before saving the notebook. Save the notebook file as \"dlnd_tv_script_generation.ipynb\" and save it as a HTML file under \"File\" -> \"Download as\". Include the \"helper.py\" and \"problem_unittests.py\" files in your submission."
   ]
  }
 ],
 "metadata": {
  "kernelspec": {
   "display_name": "Python 3",
   "language": "python",
   "name": "python3"
  },
  "language_info": {
   "codemirror_mode": {
    "name": "ipython",
    "version": 3
   },
   "file_extension": ".py",
   "mimetype": "text/x-python",
   "name": "python",
   "nbconvert_exporter": "python",
   "pygments_lexer": "ipython3",
   "version": "3.5.4"
  },
  "widgets": {
   "state": {},
   "version": "1.1.2"
  }
 },
 "nbformat": 4,
 "nbformat_minor": 1
}
